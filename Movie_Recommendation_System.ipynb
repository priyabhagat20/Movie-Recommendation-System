{
  "nbformat": 4,
  "nbformat_minor": 0,
  "metadata": {
    "colab": {
      "provenance": []
    },
    "kernelspec": {
      "name": "python3",
      "display_name": "Python 3"
    },
    "language_info": {
      "name": "python"
    }
  },
  "cells": [
    {
      "cell_type": "markdown",
      "source": [
        "# **Movie Recommendation System**"
      ],
      "metadata": {
        "id": "dqZ-nhxiganh"
      }
    },
    {
      "cell_type": "markdown",
      "source": [
        "-------------"
      ],
      "metadata": {
        "id": "gScHkw6jjrLo"
      }
    },
    {
      "cell_type": "markdown",
      "source": [
        "## **Objective**"
      ],
      "metadata": {
        "id": "Xns_rCdhh-vZ"
      }
    },
    {
      "cell_type": "markdown",
      "source": [
        "Recommender System is a system that seeks to predict or filter preferences according to the user's choices. Recommender systems are\n",
        "utilized in a varvety of areas including movies, music, news, books, research articles, search queries. social tags. and products in general.\n",
        "Recommender systems produce a list of recommendations in any of the two ways —\n",
        "\n",
        "Collaborative filtering: Collaborative filtering approaches build a model from the user's past behavior (i.e. items purchased or searched by the user) as well as similar decisions made by other users. This model is then used to predict Items (or ratings for items) that users may have an\n",
        "interest in.\n",
        "\n",
        "Content-based filtering: Content-based filtering approaches uses a series of discrete characteristics of an item in order to recommend additional items wth similar properties. Content-based filtering methods are totally based on a description of the item and a profile of the user's preferences. It recommends items based on the user's past preferences. Let's develop a basic recommendation system using Python and\n",
        "Pandas.\n",
        "\n",
        "Let's develop a bastc recommendation system by suggesting items that are most similar to a particular item, in trus case, movies. It just tells what movies/ltems are most similar to the user's movie choice."
      ],
      "metadata": {
        "id": "9sPvnFM1iI9l"
      }
    },
    {
      "cell_type": "markdown",
      "source": [
        "## **Data Source**"
      ],
      "metadata": {
        "id": "-Vbnt9CciKJP"
      }
    },
    {
      "cell_type": "markdown",
      "source": [
        "The dataset was take from to YBI-Foundation github site in that there is Dataset Folder in the folder i get movie recommendation.csv file\n",
        "\n",
        "\n",
        "https://github.com/YBIFoundation/Dataset/blob/main/Movies%20Recommendation.csv"
      ],
      "metadata": {
        "id": "sGcv5WqQiNyl"
      }
    },
    {
      "cell_type": "markdown",
      "source": [
        "## **Import Library**"
      ],
      "metadata": {
        "id": "r7GrZzX0iTlV"
      }
    },
    {
      "cell_type": "code",
      "source": [
        "import pandas as pd"
      ],
      "metadata": {
        "id": "UkK6NH9DiW-X"
      },
      "execution_count": null,
      "outputs": []
    },
    {
      "cell_type": "code",
      "source": [
        "import numpy as np"
      ],
      "metadata": {
        "id": "UewUdEc4rW3d"
      },
      "execution_count": null,
      "outputs": []
    },
    {
      "cell_type": "markdown",
      "source": [
        "## **Import Data**"
      ],
      "metadata": {
        "id": "9lHPQj1XiOUc"
      }
    },
    {
      "cell_type": "code",
      "source": [
        "df = pd.read_csv('Movies Recommendation.csv')"
      ],
      "metadata": {
        "id": "zcU1fdnGho6M"
      },
      "execution_count": null,
      "outputs": []
    },
    {
      "cell_type": "code",
      "source": [
        "df.head()"
      ],
      "metadata": {
        "colab": {
          "base_uri": "https://localhost:8080/",
          "height": 672
        },
        "id": "F8KdhXZXrs5v",
        "outputId": "1e4b607c-42cc-494c-ca57-c10ea9babb74"
      },
      "execution_count": null,
      "outputs": [
        {
          "output_type": "execute_result",
          "data": {
            "text/plain": [
              "   Movie_ID      Movie_Title                       Movie_Genre Movie_Language  \\\n",
              "0         1       Four Rooms                      Crime Comedy             en   \n",
              "1         2        Star Wars  Adventure Action Science Fiction             en   \n",
              "2         3     Finding Nemo                  Animation Family             en   \n",
              "3         4     Forrest Gump              Comedy Drama Romance             en   \n",
              "4         5  American Beauty                             Drama             en   \n",
              "\n",
              "   Movie_Budget  Movie_Popularity Movie_Release_Date  Movie_Revenue  \\\n",
              "0       4000000         22.876230         09-12-1995        4300000   \n",
              "1      11000000        126.393695         25-05-1977      775398007   \n",
              "2      94000000         85.688789         30-05-2003      940335536   \n",
              "3      55000000        138.133331         06-07-1994      677945399   \n",
              "4      15000000         80.878605         15-09-1999      356296601   \n",
              "\n",
              "   Movie_Runtime  Movie_Vote  ...  \\\n",
              "0           98.0         6.5  ...   \n",
              "1          121.0         8.1  ...   \n",
              "2          100.0         7.6  ...   \n",
              "3          142.0         8.2  ...   \n",
              "4          122.0         7.9  ...   \n",
              "\n",
              "                                      Movie_Homepage  \\\n",
              "0                                                NaN   \n",
              "1  http://www.starwars.com/films/star-wars-episod...   \n",
              "2              http://movies.disney.com/finding-nemo   \n",
              "3                                                NaN   \n",
              "4                      http://www.dreamworks.com/ab/   \n",
              "\n",
              "                                      Movie_Keywords  \\\n",
              "0          hotel new year's eve witch bet hotel room   \n",
              "1        android galaxy hermit death star lightsaber   \n",
              "2  father son relationship harbor underwater fish...   \n",
              "3  vietnam veteran hippie mentally disabled runni...   \n",
              "4  male nudity female nudity adultery midlife cri...   \n",
              "\n",
              "                                      Movie_Overview  \\\n",
              "0  It's Ted the Bellhop's first night on the job....   \n",
              "1  Princess Leia is captured and held hostage by ...   \n",
              "2  Nemo, an adventurous young clownfish, is unexp...   \n",
              "3  A man with a low IQ has accomplished great thi...   \n",
              "4  Lester Burnham, a depressed suburban father in...   \n",
              "\n",
              "                              Movie_Production_House  \\\n",
              "0  [{\"name\": \"Miramax Films\", \"id\": 14}, {\"name\":...   \n",
              "1  [{\"name\": \"Lucasfilm\", \"id\": 1}, {\"name\": \"Twe...   \n",
              "2     [{\"name\": \"Pixar Animation Studios\", \"id\": 3}]   \n",
              "3          [{\"name\": \"Paramount Pictures\", \"id\": 4}]   \n",
              "4  [{\"name\": \"DreamWorks SKG\", \"id\": 27}, {\"name\"...   \n",
              "\n",
              "                            Movie_Production_Country  \\\n",
              "0  [{\"iso_3166_1\": \"US\", \"name\": \"United States o...   \n",
              "1  [{\"iso_3166_1\": \"US\", \"name\": \"United States o...   \n",
              "2  [{\"iso_3166_1\": \"US\", \"name\": \"United States o...   \n",
              "3  [{\"iso_3166_1\": \"US\", \"name\": \"United States o...   \n",
              "4  [{\"iso_3166_1\": \"US\", \"name\": \"United States o...   \n",
              "\n",
              "                      Movie_Spoken_Language  \\\n",
              "0  [{\"iso_639_1\": \"en\", \"name\": \"English\"}]   \n",
              "1  [{\"iso_639_1\": \"en\", \"name\": \"English\"}]   \n",
              "2  [{\"iso_639_1\": \"en\", \"name\": \"English\"}]   \n",
              "3  [{\"iso_639_1\": \"en\", \"name\": \"English\"}]   \n",
              "4  [{\"iso_639_1\": \"en\", \"name\": \"English\"}]   \n",
              "\n",
              "                                       Movie_Tagline  \\\n",
              "0  Twelve outrageous guests. Four scandalous requ...   \n",
              "1       A long time ago in a galaxy far, far away...   \n",
              "2  There are 3.7 trillion fish in the ocean, they...   \n",
              "3  The world will never be the same, once you've ...   \n",
              "4                                       Look closer.   \n",
              "\n",
              "                                          Movie_Cast  \\\n",
              "0  Tim Roth Antonio Banderas Jennifer Beals Madon...   \n",
              "1  Mark Hamill Harrison Ford Carrie Fisher Peter ...   \n",
              "2  Albert Brooks Ellen DeGeneres Alexander Gould ...   \n",
              "3  Tom Hanks Robin Wright Gary Sinise Mykelti Wil...   \n",
              "4  Kevin Spacey Annette Bening Thora Birch Wes Be...   \n",
              "\n",
              "                                          Movie_Crew   Movie_Director  \n",
              "0  [{'name': 'Allison Anders', 'gender': 1, 'depa...   Allison Anders  \n",
              "1  [{'name': 'George Lucas', 'gender': 2, 'depart...     George Lucas  \n",
              "2  [{'name': 'Andrew Stanton', 'gender': 2, 'depa...   Andrew Stanton  \n",
              "3  [{'name': 'Alan Silvestri', 'gender': 2, 'depa...  Robert Zemeckis  \n",
              "4  [{'name': 'Thomas Newman', 'gender': 2, 'depar...       Sam Mendes  \n",
              "\n",
              "[5 rows x 21 columns]"
            ],
            "text/html": [
              "\n",
              "  <div id=\"df-e1bb9dd4-4620-4cff-9ea3-826c0c2c4f41\" class=\"colab-df-container\">\n",
              "    <div>\n",
              "<style scoped>\n",
              "    .dataframe tbody tr th:only-of-type {\n",
              "        vertical-align: middle;\n",
              "    }\n",
              "\n",
              "    .dataframe tbody tr th {\n",
              "        vertical-align: top;\n",
              "    }\n",
              "\n",
              "    .dataframe thead th {\n",
              "        text-align: right;\n",
              "    }\n",
              "</style>\n",
              "<table border=\"1\" class=\"dataframe\">\n",
              "  <thead>\n",
              "    <tr style=\"text-align: right;\">\n",
              "      <th></th>\n",
              "      <th>Movie_ID</th>\n",
              "      <th>Movie_Title</th>\n",
              "      <th>Movie_Genre</th>\n",
              "      <th>Movie_Language</th>\n",
              "      <th>Movie_Budget</th>\n",
              "      <th>Movie_Popularity</th>\n",
              "      <th>Movie_Release_Date</th>\n",
              "      <th>Movie_Revenue</th>\n",
              "      <th>Movie_Runtime</th>\n",
              "      <th>Movie_Vote</th>\n",
              "      <th>...</th>\n",
              "      <th>Movie_Homepage</th>\n",
              "      <th>Movie_Keywords</th>\n",
              "      <th>Movie_Overview</th>\n",
              "      <th>Movie_Production_House</th>\n",
              "      <th>Movie_Production_Country</th>\n",
              "      <th>Movie_Spoken_Language</th>\n",
              "      <th>Movie_Tagline</th>\n",
              "      <th>Movie_Cast</th>\n",
              "      <th>Movie_Crew</th>\n",
              "      <th>Movie_Director</th>\n",
              "    </tr>\n",
              "  </thead>\n",
              "  <tbody>\n",
              "    <tr>\n",
              "      <th>0</th>\n",
              "      <td>1</td>\n",
              "      <td>Four Rooms</td>\n",
              "      <td>Crime Comedy</td>\n",
              "      <td>en</td>\n",
              "      <td>4000000</td>\n",
              "      <td>22.876230</td>\n",
              "      <td>09-12-1995</td>\n",
              "      <td>4300000</td>\n",
              "      <td>98.0</td>\n",
              "      <td>6.5</td>\n",
              "      <td>...</td>\n",
              "      <td>NaN</td>\n",
              "      <td>hotel new year's eve witch bet hotel room</td>\n",
              "      <td>It's Ted the Bellhop's first night on the job....</td>\n",
              "      <td>[{\"name\": \"Miramax Films\", \"id\": 14}, {\"name\":...</td>\n",
              "      <td>[{\"iso_3166_1\": \"US\", \"name\": \"United States o...</td>\n",
              "      <td>[{\"iso_639_1\": \"en\", \"name\": \"English\"}]</td>\n",
              "      <td>Twelve outrageous guests. Four scandalous requ...</td>\n",
              "      <td>Tim Roth Antonio Banderas Jennifer Beals Madon...</td>\n",
              "      <td>[{'name': 'Allison Anders', 'gender': 1, 'depa...</td>\n",
              "      <td>Allison Anders</td>\n",
              "    </tr>\n",
              "    <tr>\n",
              "      <th>1</th>\n",
              "      <td>2</td>\n",
              "      <td>Star Wars</td>\n",
              "      <td>Adventure Action Science Fiction</td>\n",
              "      <td>en</td>\n",
              "      <td>11000000</td>\n",
              "      <td>126.393695</td>\n",
              "      <td>25-05-1977</td>\n",
              "      <td>775398007</td>\n",
              "      <td>121.0</td>\n",
              "      <td>8.1</td>\n",
              "      <td>...</td>\n",
              "      <td>http://www.starwars.com/films/star-wars-episod...</td>\n",
              "      <td>android galaxy hermit death star lightsaber</td>\n",
              "      <td>Princess Leia is captured and held hostage by ...</td>\n",
              "      <td>[{\"name\": \"Lucasfilm\", \"id\": 1}, {\"name\": \"Twe...</td>\n",
              "      <td>[{\"iso_3166_1\": \"US\", \"name\": \"United States o...</td>\n",
              "      <td>[{\"iso_639_1\": \"en\", \"name\": \"English\"}]</td>\n",
              "      <td>A long time ago in a galaxy far, far away...</td>\n",
              "      <td>Mark Hamill Harrison Ford Carrie Fisher Peter ...</td>\n",
              "      <td>[{'name': 'George Lucas', 'gender': 2, 'depart...</td>\n",
              "      <td>George Lucas</td>\n",
              "    </tr>\n",
              "    <tr>\n",
              "      <th>2</th>\n",
              "      <td>3</td>\n",
              "      <td>Finding Nemo</td>\n",
              "      <td>Animation Family</td>\n",
              "      <td>en</td>\n",
              "      <td>94000000</td>\n",
              "      <td>85.688789</td>\n",
              "      <td>30-05-2003</td>\n",
              "      <td>940335536</td>\n",
              "      <td>100.0</td>\n",
              "      <td>7.6</td>\n",
              "      <td>...</td>\n",
              "      <td>http://movies.disney.com/finding-nemo</td>\n",
              "      <td>father son relationship harbor underwater fish...</td>\n",
              "      <td>Nemo, an adventurous young clownfish, is unexp...</td>\n",
              "      <td>[{\"name\": \"Pixar Animation Studios\", \"id\": 3}]</td>\n",
              "      <td>[{\"iso_3166_1\": \"US\", \"name\": \"United States o...</td>\n",
              "      <td>[{\"iso_639_1\": \"en\", \"name\": \"English\"}]</td>\n",
              "      <td>There are 3.7 trillion fish in the ocean, they...</td>\n",
              "      <td>Albert Brooks Ellen DeGeneres Alexander Gould ...</td>\n",
              "      <td>[{'name': 'Andrew Stanton', 'gender': 2, 'depa...</td>\n",
              "      <td>Andrew Stanton</td>\n",
              "    </tr>\n",
              "    <tr>\n",
              "      <th>3</th>\n",
              "      <td>4</td>\n",
              "      <td>Forrest Gump</td>\n",
              "      <td>Comedy Drama Romance</td>\n",
              "      <td>en</td>\n",
              "      <td>55000000</td>\n",
              "      <td>138.133331</td>\n",
              "      <td>06-07-1994</td>\n",
              "      <td>677945399</td>\n",
              "      <td>142.0</td>\n",
              "      <td>8.2</td>\n",
              "      <td>...</td>\n",
              "      <td>NaN</td>\n",
              "      <td>vietnam veteran hippie mentally disabled runni...</td>\n",
              "      <td>A man with a low IQ has accomplished great thi...</td>\n",
              "      <td>[{\"name\": \"Paramount Pictures\", \"id\": 4}]</td>\n",
              "      <td>[{\"iso_3166_1\": \"US\", \"name\": \"United States o...</td>\n",
              "      <td>[{\"iso_639_1\": \"en\", \"name\": \"English\"}]</td>\n",
              "      <td>The world will never be the same, once you've ...</td>\n",
              "      <td>Tom Hanks Robin Wright Gary Sinise Mykelti Wil...</td>\n",
              "      <td>[{'name': 'Alan Silvestri', 'gender': 2, 'depa...</td>\n",
              "      <td>Robert Zemeckis</td>\n",
              "    </tr>\n",
              "    <tr>\n",
              "      <th>4</th>\n",
              "      <td>5</td>\n",
              "      <td>American Beauty</td>\n",
              "      <td>Drama</td>\n",
              "      <td>en</td>\n",
              "      <td>15000000</td>\n",
              "      <td>80.878605</td>\n",
              "      <td>15-09-1999</td>\n",
              "      <td>356296601</td>\n",
              "      <td>122.0</td>\n",
              "      <td>7.9</td>\n",
              "      <td>...</td>\n",
              "      <td>http://www.dreamworks.com/ab/</td>\n",
              "      <td>male nudity female nudity adultery midlife cri...</td>\n",
              "      <td>Lester Burnham, a depressed suburban father in...</td>\n",
              "      <td>[{\"name\": \"DreamWorks SKG\", \"id\": 27}, {\"name\"...</td>\n",
              "      <td>[{\"iso_3166_1\": \"US\", \"name\": \"United States o...</td>\n",
              "      <td>[{\"iso_639_1\": \"en\", \"name\": \"English\"}]</td>\n",
              "      <td>Look closer.</td>\n",
              "      <td>Kevin Spacey Annette Bening Thora Birch Wes Be...</td>\n",
              "      <td>[{'name': 'Thomas Newman', 'gender': 2, 'depar...</td>\n",
              "      <td>Sam Mendes</td>\n",
              "    </tr>\n",
              "  </tbody>\n",
              "</table>\n",
              "<p>5 rows × 21 columns</p>\n",
              "</div>\n",
              "    <div class=\"colab-df-buttons\">\n",
              "\n",
              "  <div class=\"colab-df-container\">\n",
              "    <button class=\"colab-df-convert\" onclick=\"convertToInteractive('df-e1bb9dd4-4620-4cff-9ea3-826c0c2c4f41')\"\n",
              "            title=\"Convert this dataframe to an interactive table.\"\n",
              "            style=\"display:none;\">\n",
              "\n",
              "  <svg xmlns=\"http://www.w3.org/2000/svg\" height=\"24px\" viewBox=\"0 -960 960 960\">\n",
              "    <path d=\"M120-120v-720h720v720H120Zm60-500h600v-160H180v160Zm220 220h160v-160H400v160Zm0 220h160v-160H400v160ZM180-400h160v-160H180v160Zm440 0h160v-160H620v160ZM180-180h160v-160H180v160Zm440 0h160v-160H620v160Z\"/>\n",
              "  </svg>\n",
              "    </button>\n",
              "\n",
              "  <style>\n",
              "    .colab-df-container {\n",
              "      display:flex;\n",
              "      gap: 12px;\n",
              "    }\n",
              "\n",
              "    .colab-df-convert {\n",
              "      background-color: #E8F0FE;\n",
              "      border: none;\n",
              "      border-radius: 50%;\n",
              "      cursor: pointer;\n",
              "      display: none;\n",
              "      fill: #1967D2;\n",
              "      height: 32px;\n",
              "      padding: 0 0 0 0;\n",
              "      width: 32px;\n",
              "    }\n",
              "\n",
              "    .colab-df-convert:hover {\n",
              "      background-color: #E2EBFA;\n",
              "      box-shadow: 0px 1px 2px rgba(60, 64, 67, 0.3), 0px 1px 3px 1px rgba(60, 64, 67, 0.15);\n",
              "      fill: #174EA6;\n",
              "    }\n",
              "\n",
              "    .colab-df-buttons div {\n",
              "      margin-bottom: 4px;\n",
              "    }\n",
              "\n",
              "    [theme=dark] .colab-df-convert {\n",
              "      background-color: #3B4455;\n",
              "      fill: #D2E3FC;\n",
              "    }\n",
              "\n",
              "    [theme=dark] .colab-df-convert:hover {\n",
              "      background-color: #434B5C;\n",
              "      box-shadow: 0px 1px 3px 1px rgba(0, 0, 0, 0.15);\n",
              "      filter: drop-shadow(0px 1px 2px rgba(0, 0, 0, 0.3));\n",
              "      fill: #FFFFFF;\n",
              "    }\n",
              "  </style>\n",
              "\n",
              "    <script>\n",
              "      const buttonEl =\n",
              "        document.querySelector('#df-e1bb9dd4-4620-4cff-9ea3-826c0c2c4f41 button.colab-df-convert');\n",
              "      buttonEl.style.display =\n",
              "        google.colab.kernel.accessAllowed ? 'block' : 'none';\n",
              "\n",
              "      async function convertToInteractive(key) {\n",
              "        const element = document.querySelector('#df-e1bb9dd4-4620-4cff-9ea3-826c0c2c4f41');\n",
              "        const dataTable =\n",
              "          await google.colab.kernel.invokeFunction('convertToInteractive',\n",
              "                                                    [key], {});\n",
              "        if (!dataTable) return;\n",
              "\n",
              "        const docLinkHtml = 'Like what you see? Visit the ' +\n",
              "          '<a target=\"_blank\" href=https://colab.research.google.com/notebooks/data_table.ipynb>data table notebook</a>'\n",
              "          + ' to learn more about interactive tables.';\n",
              "        element.innerHTML = '';\n",
              "        dataTable['output_type'] = 'display_data';\n",
              "        await google.colab.output.renderOutput(dataTable, element);\n",
              "        const docLink = document.createElement('div');\n",
              "        docLink.innerHTML = docLinkHtml;\n",
              "        element.appendChild(docLink);\n",
              "      }\n",
              "    </script>\n",
              "  </div>\n",
              "\n",
              "\n",
              "<div id=\"df-84b08baa-618d-47fb-9466-254d598233c9\">\n",
              "  <button class=\"colab-df-quickchart\" onclick=\"quickchart('df-84b08baa-618d-47fb-9466-254d598233c9')\"\n",
              "            title=\"Suggest charts\"\n",
              "            style=\"display:none;\">\n",
              "\n",
              "<svg xmlns=\"http://www.w3.org/2000/svg\" height=\"24px\"viewBox=\"0 0 24 24\"\n",
              "     width=\"24px\">\n",
              "    <g>\n",
              "        <path d=\"M19 3H5c-1.1 0-2 .9-2 2v14c0 1.1.9 2 2 2h14c1.1 0 2-.9 2-2V5c0-1.1-.9-2-2-2zM9 17H7v-7h2v7zm4 0h-2V7h2v10zm4 0h-2v-4h2v4z\"/>\n",
              "    </g>\n",
              "</svg>\n",
              "  </button>\n",
              "\n",
              "<style>\n",
              "  .colab-df-quickchart {\n",
              "      --bg-color: #E8F0FE;\n",
              "      --fill-color: #1967D2;\n",
              "      --hover-bg-color: #E2EBFA;\n",
              "      --hover-fill-color: #174EA6;\n",
              "      --disabled-fill-color: #AAA;\n",
              "      --disabled-bg-color: #DDD;\n",
              "  }\n",
              "\n",
              "  [theme=dark] .colab-df-quickchart {\n",
              "      --bg-color: #3B4455;\n",
              "      --fill-color: #D2E3FC;\n",
              "      --hover-bg-color: #434B5C;\n",
              "      --hover-fill-color: #FFFFFF;\n",
              "      --disabled-bg-color: #3B4455;\n",
              "      --disabled-fill-color: #666;\n",
              "  }\n",
              "\n",
              "  .colab-df-quickchart {\n",
              "    background-color: var(--bg-color);\n",
              "    border: none;\n",
              "    border-radius: 50%;\n",
              "    cursor: pointer;\n",
              "    display: none;\n",
              "    fill: var(--fill-color);\n",
              "    height: 32px;\n",
              "    padding: 0;\n",
              "    width: 32px;\n",
              "  }\n",
              "\n",
              "  .colab-df-quickchart:hover {\n",
              "    background-color: var(--hover-bg-color);\n",
              "    box-shadow: 0 1px 2px rgba(60, 64, 67, 0.3), 0 1px 3px 1px rgba(60, 64, 67, 0.15);\n",
              "    fill: var(--button-hover-fill-color);\n",
              "  }\n",
              "\n",
              "  .colab-df-quickchart-complete:disabled,\n",
              "  .colab-df-quickchart-complete:disabled:hover {\n",
              "    background-color: var(--disabled-bg-color);\n",
              "    fill: var(--disabled-fill-color);\n",
              "    box-shadow: none;\n",
              "  }\n",
              "\n",
              "  .colab-df-spinner {\n",
              "    border: 2px solid var(--fill-color);\n",
              "    border-color: transparent;\n",
              "    border-bottom-color: var(--fill-color);\n",
              "    animation:\n",
              "      spin 1s steps(1) infinite;\n",
              "  }\n",
              "\n",
              "  @keyframes spin {\n",
              "    0% {\n",
              "      border-color: transparent;\n",
              "      border-bottom-color: var(--fill-color);\n",
              "      border-left-color: var(--fill-color);\n",
              "    }\n",
              "    20% {\n",
              "      border-color: transparent;\n",
              "      border-left-color: var(--fill-color);\n",
              "      border-top-color: var(--fill-color);\n",
              "    }\n",
              "    30% {\n",
              "      border-color: transparent;\n",
              "      border-left-color: var(--fill-color);\n",
              "      border-top-color: var(--fill-color);\n",
              "      border-right-color: var(--fill-color);\n",
              "    }\n",
              "    40% {\n",
              "      border-color: transparent;\n",
              "      border-right-color: var(--fill-color);\n",
              "      border-top-color: var(--fill-color);\n",
              "    }\n",
              "    60% {\n",
              "      border-color: transparent;\n",
              "      border-right-color: var(--fill-color);\n",
              "    }\n",
              "    80% {\n",
              "      border-color: transparent;\n",
              "      border-right-color: var(--fill-color);\n",
              "      border-bottom-color: var(--fill-color);\n",
              "    }\n",
              "    90% {\n",
              "      border-color: transparent;\n",
              "      border-bottom-color: var(--fill-color);\n",
              "    }\n",
              "  }\n",
              "</style>\n",
              "\n",
              "  <script>\n",
              "    async function quickchart(key) {\n",
              "      const quickchartButtonEl =\n",
              "        document.querySelector('#' + key + ' button');\n",
              "      quickchartButtonEl.disabled = true;  // To prevent multiple clicks.\n",
              "      quickchartButtonEl.classList.add('colab-df-spinner');\n",
              "      try {\n",
              "        const charts = await google.colab.kernel.invokeFunction(\n",
              "            'suggestCharts', [key], {});\n",
              "      } catch (error) {\n",
              "        console.error('Error during call to suggestCharts:', error);\n",
              "      }\n",
              "      quickchartButtonEl.classList.remove('colab-df-spinner');\n",
              "      quickchartButtonEl.classList.add('colab-df-quickchart-complete');\n",
              "    }\n",
              "    (() => {\n",
              "      let quickchartButtonEl =\n",
              "        document.querySelector('#df-84b08baa-618d-47fb-9466-254d598233c9 button');\n",
              "      quickchartButtonEl.style.display =\n",
              "        google.colab.kernel.accessAllowed ? 'block' : 'none';\n",
              "    })();\n",
              "  </script>\n",
              "</div>\n",
              "\n",
              "    </div>\n",
              "  </div>\n"
            ],
            "application/vnd.google.colaboratory.intrinsic+json": {
              "type": "dataframe",
              "variable_name": "df"
            }
          },
          "metadata": {},
          "execution_count": 84
        }
      ]
    },
    {
      "cell_type": "code",
      "source": [
        "df.info()"
      ],
      "metadata": {
        "colab": {
          "base_uri": "https://localhost:8080/"
        },
        "id": "Kj7564hRtrLJ",
        "outputId": "36db292c-9fd0-419f-c129-a3a390087b12"
      },
      "execution_count": null,
      "outputs": [
        {
          "output_type": "stream",
          "name": "stdout",
          "text": [
            "<class 'pandas.core.frame.DataFrame'>\n",
            "RangeIndex: 4760 entries, 0 to 4759\n",
            "Data columns (total 21 columns):\n",
            " #   Column                    Non-Null Count  Dtype  \n",
            "---  ------                    --------------  -----  \n",
            " 0   Movie_ID                  4760 non-null   int64  \n",
            " 1   Movie_Title               4760 non-null   object \n",
            " 2   Movie_Genre               4760 non-null   object \n",
            " 3   Movie_Language            4760 non-null   object \n",
            " 4   Movie_Budget              4760 non-null   int64  \n",
            " 5   Movie_Popularity          4760 non-null   float64\n",
            " 6   Movie_Release_Date        4760 non-null   object \n",
            " 7   Movie_Revenue             4760 non-null   int64  \n",
            " 8   Movie_Runtime             4758 non-null   float64\n",
            " 9   Movie_Vote                4760 non-null   float64\n",
            " 10  Movie_Vote_Count          4760 non-null   int64  \n",
            " 11  Movie_Homepage            1699 non-null   object \n",
            " 12  Movie_Keywords            4373 non-null   object \n",
            " 13  Movie_Overview            4757 non-null   object \n",
            " 14  Movie_Production_House    4760 non-null   object \n",
            " 15  Movie_Production_Country  4760 non-null   object \n",
            " 16  Movie_Spoken_Language     4760 non-null   object \n",
            " 17  Movie_Tagline             3942 non-null   object \n",
            " 18  Movie_Cast                4733 non-null   object \n",
            " 19  Movie_Crew                4760 non-null   object \n",
            " 20  Movie_Director            4738 non-null   object \n",
            "dtypes: float64(3), int64(4), object(14)\n",
            "memory usage: 781.1+ KB\n"
          ]
        }
      ]
    },
    {
      "cell_type": "code",
      "source": [
        "df.shape"
      ],
      "metadata": {
        "colab": {
          "base_uri": "https://localhost:8080/"
        },
        "id": "J3wyq0vfttPi",
        "outputId": "20d4c3ac-4f69-4bcc-907b-1497eb72cbfc"
      },
      "execution_count": null,
      "outputs": [
        {
          "output_type": "execute_result",
          "data": {
            "text/plain": [
              "(4760, 21)"
            ]
          },
          "metadata": {},
          "execution_count": 86
        }
      ]
    },
    {
      "cell_type": "code",
      "source": [
        "df.columns"
      ],
      "metadata": {
        "colab": {
          "base_uri": "https://localhost:8080/"
        },
        "id": "BDflAO61tyye",
        "outputId": "91cb7d7c-239c-46d1-a018-b49726b15ac2"
      },
      "execution_count": null,
      "outputs": [
        {
          "output_type": "execute_result",
          "data": {
            "text/plain": [
              "Index(['Movie_ID', 'Movie_Title', 'Movie_Genre', 'Movie_Language',\n",
              "       'Movie_Budget', 'Movie_Popularity', 'Movie_Release_Date',\n",
              "       'Movie_Revenue', 'Movie_Runtime', 'Movie_Vote', 'Movie_Vote_Count',\n",
              "       'Movie_Homepage', 'Movie_Keywords', 'Movie_Overview',\n",
              "       'Movie_Production_House', 'Movie_Production_Country',\n",
              "       'Movie_Spoken_Language', 'Movie_Tagline', 'Movie_Cast', 'Movie_Crew',\n",
              "       'Movie_Director'],\n",
              "      dtype='object')"
            ]
          },
          "metadata": {},
          "execution_count": 87
        }
      ]
    },
    {
      "cell_type": "markdown",
      "source": [
        "## **Get Feature Selection**"
      ],
      "metadata": {
        "id": "7PUnimBoiX-x"
      }
    },
    {
      "cell_type": "code",
      "source": [
        "df_features = df[['Movie_Genre', 'Movie_Keywords', 'Movie_Tagline', 'Movie_Cast', 'Movie_Director']].fillna('')"
      ],
      "metadata": {
        "id": "kG15arusiZ8Z"
      },
      "execution_count": null,
      "outputs": []
    },
    {
      "cell_type": "code",
      "source": [
        "df_features.shape"
      ],
      "metadata": {
        "colab": {
          "base_uri": "https://localhost:8080/"
        },
        "id": "lYFfuvB8usbD",
        "outputId": "8c5b62da-fe55-4899-8bfa-415a6f243df8"
      },
      "execution_count": null,
      "outputs": [
        {
          "output_type": "execute_result",
          "data": {
            "text/plain": [
              "(4760, 5)"
            ]
          },
          "metadata": {},
          "execution_count": 89
        }
      ]
    },
    {
      "cell_type": "code",
      "source": [
        "df_features"
      ],
      "metadata": {
        "colab": {
          "base_uri": "https://localhost:8080/",
          "height": 493
        },
        "id": "DHSfSpv2uyye",
        "outputId": "34cc643c-8b6f-4e1c-cc68-080e049cc6b8"
      },
      "execution_count": null,
      "outputs": [
        {
          "output_type": "execute_result",
          "data": {
            "text/plain": [
              "                           Movie_Genre  \\\n",
              "0                         Crime Comedy   \n",
              "1     Adventure Action Science Fiction   \n",
              "2                     Animation Family   \n",
              "3                 Comedy Drama Romance   \n",
              "4                                Drama   \n",
              "...                                ...   \n",
              "4755                            Horror   \n",
              "4756               Comedy Family Drama   \n",
              "4757                    Thriller Drama   \n",
              "4758                            Family   \n",
              "4759                       Documentary   \n",
              "\n",
              "                                         Movie_Keywords  \\\n",
              "0             hotel new year's eve witch bet hotel room   \n",
              "1           android galaxy hermit death star lightsaber   \n",
              "2     father son relationship harbor underwater fish...   \n",
              "3     vietnam veteran hippie mentally disabled runni...   \n",
              "4     male nudity female nudity adultery midlife cri...   \n",
              "...                                                 ...   \n",
              "4755                                                      \n",
              "4756                                                      \n",
              "4757                     christian film sex trafficking   \n",
              "4758                                                      \n",
              "4759  music actors legendary perfomer classic hollyw...   \n",
              "\n",
              "                                          Movie_Tagline  \\\n",
              "0     Twelve outrageous guests. Four scandalous requ...   \n",
              "1          A long time ago in a galaxy far, far away...   \n",
              "2     There are 3.7 trillion fish in the ocean, they...   \n",
              "3     The world will never be the same, once you've ...   \n",
              "4                                          Look closer.   \n",
              "...                                                 ...   \n",
              "4755                The hot spot where Satan's waitin'.   \n",
              "4756           It’s better to stand out than to fit in.   \n",
              "4757           She never knew it could happen to her...   \n",
              "4758                                                      \n",
              "4759                                                      \n",
              "\n",
              "                                             Movie_Cast     Movie_Director  \n",
              "0     Tim Roth Antonio Banderas Jennifer Beals Madon...     Allison Anders  \n",
              "1     Mark Hamill Harrison Ford Carrie Fisher Peter ...       George Lucas  \n",
              "2     Albert Brooks Ellen DeGeneres Alexander Gould ...     Andrew Stanton  \n",
              "3     Tom Hanks Robin Wright Gary Sinise Mykelti Wil...    Robert Zemeckis  \n",
              "4     Kevin Spacey Annette Bening Thora Birch Wes Be...         Sam Mendes  \n",
              "...                                                 ...                ...  \n",
              "4755  Lisa Hart Carroll Michael Des Barres Paul Drak...         Pece Dingo  \n",
              "4756  Roni Akurati Brighton Sharbino Jason Lee Anjul...       Frank Lotito  \n",
              "4757  Nicole Smolen Kim Baldwin Ariana Stephens Brys...       Jaco Booyens  \n",
              "4758                                                                        \n",
              "4759                                    Tony Oppedisano  Simon Napier-Bell  \n",
              "\n",
              "[4760 rows x 5 columns]"
            ],
            "text/html": [
              "\n",
              "  <div id=\"df-4718ceb6-abd2-4b24-b5c6-cbc6a8783e17\" class=\"colab-df-container\">\n",
              "    <div>\n",
              "<style scoped>\n",
              "    .dataframe tbody tr th:only-of-type {\n",
              "        vertical-align: middle;\n",
              "    }\n",
              "\n",
              "    .dataframe tbody tr th {\n",
              "        vertical-align: top;\n",
              "    }\n",
              "\n",
              "    .dataframe thead th {\n",
              "        text-align: right;\n",
              "    }\n",
              "</style>\n",
              "<table border=\"1\" class=\"dataframe\">\n",
              "  <thead>\n",
              "    <tr style=\"text-align: right;\">\n",
              "      <th></th>\n",
              "      <th>Movie_Genre</th>\n",
              "      <th>Movie_Keywords</th>\n",
              "      <th>Movie_Tagline</th>\n",
              "      <th>Movie_Cast</th>\n",
              "      <th>Movie_Director</th>\n",
              "    </tr>\n",
              "  </thead>\n",
              "  <tbody>\n",
              "    <tr>\n",
              "      <th>0</th>\n",
              "      <td>Crime Comedy</td>\n",
              "      <td>hotel new year's eve witch bet hotel room</td>\n",
              "      <td>Twelve outrageous guests. Four scandalous requ...</td>\n",
              "      <td>Tim Roth Antonio Banderas Jennifer Beals Madon...</td>\n",
              "      <td>Allison Anders</td>\n",
              "    </tr>\n",
              "    <tr>\n",
              "      <th>1</th>\n",
              "      <td>Adventure Action Science Fiction</td>\n",
              "      <td>android galaxy hermit death star lightsaber</td>\n",
              "      <td>A long time ago in a galaxy far, far away...</td>\n",
              "      <td>Mark Hamill Harrison Ford Carrie Fisher Peter ...</td>\n",
              "      <td>George Lucas</td>\n",
              "    </tr>\n",
              "    <tr>\n",
              "      <th>2</th>\n",
              "      <td>Animation Family</td>\n",
              "      <td>father son relationship harbor underwater fish...</td>\n",
              "      <td>There are 3.7 trillion fish in the ocean, they...</td>\n",
              "      <td>Albert Brooks Ellen DeGeneres Alexander Gould ...</td>\n",
              "      <td>Andrew Stanton</td>\n",
              "    </tr>\n",
              "    <tr>\n",
              "      <th>3</th>\n",
              "      <td>Comedy Drama Romance</td>\n",
              "      <td>vietnam veteran hippie mentally disabled runni...</td>\n",
              "      <td>The world will never be the same, once you've ...</td>\n",
              "      <td>Tom Hanks Robin Wright Gary Sinise Mykelti Wil...</td>\n",
              "      <td>Robert Zemeckis</td>\n",
              "    </tr>\n",
              "    <tr>\n",
              "      <th>4</th>\n",
              "      <td>Drama</td>\n",
              "      <td>male nudity female nudity adultery midlife cri...</td>\n",
              "      <td>Look closer.</td>\n",
              "      <td>Kevin Spacey Annette Bening Thora Birch Wes Be...</td>\n",
              "      <td>Sam Mendes</td>\n",
              "    </tr>\n",
              "    <tr>\n",
              "      <th>...</th>\n",
              "      <td>...</td>\n",
              "      <td>...</td>\n",
              "      <td>...</td>\n",
              "      <td>...</td>\n",
              "      <td>...</td>\n",
              "    </tr>\n",
              "    <tr>\n",
              "      <th>4755</th>\n",
              "      <td>Horror</td>\n",
              "      <td></td>\n",
              "      <td>The hot spot where Satan's waitin'.</td>\n",
              "      <td>Lisa Hart Carroll Michael Des Barres Paul Drak...</td>\n",
              "      <td>Pece Dingo</td>\n",
              "    </tr>\n",
              "    <tr>\n",
              "      <th>4756</th>\n",
              "      <td>Comedy Family Drama</td>\n",
              "      <td></td>\n",
              "      <td>It’s better to stand out than to fit in.</td>\n",
              "      <td>Roni Akurati Brighton Sharbino Jason Lee Anjul...</td>\n",
              "      <td>Frank Lotito</td>\n",
              "    </tr>\n",
              "    <tr>\n",
              "      <th>4757</th>\n",
              "      <td>Thriller Drama</td>\n",
              "      <td>christian film sex trafficking</td>\n",
              "      <td>She never knew it could happen to her...</td>\n",
              "      <td>Nicole Smolen Kim Baldwin Ariana Stephens Brys...</td>\n",
              "      <td>Jaco Booyens</td>\n",
              "    </tr>\n",
              "    <tr>\n",
              "      <th>4758</th>\n",
              "      <td>Family</td>\n",
              "      <td></td>\n",
              "      <td></td>\n",
              "      <td></td>\n",
              "      <td></td>\n",
              "    </tr>\n",
              "    <tr>\n",
              "      <th>4759</th>\n",
              "      <td>Documentary</td>\n",
              "      <td>music actors legendary perfomer classic hollyw...</td>\n",
              "      <td></td>\n",
              "      <td>Tony Oppedisano</td>\n",
              "      <td>Simon Napier-Bell</td>\n",
              "    </tr>\n",
              "  </tbody>\n",
              "</table>\n",
              "<p>4760 rows × 5 columns</p>\n",
              "</div>\n",
              "    <div class=\"colab-df-buttons\">\n",
              "\n",
              "  <div class=\"colab-df-container\">\n",
              "    <button class=\"colab-df-convert\" onclick=\"convertToInteractive('df-4718ceb6-abd2-4b24-b5c6-cbc6a8783e17')\"\n",
              "            title=\"Convert this dataframe to an interactive table.\"\n",
              "            style=\"display:none;\">\n",
              "\n",
              "  <svg xmlns=\"http://www.w3.org/2000/svg\" height=\"24px\" viewBox=\"0 -960 960 960\">\n",
              "    <path d=\"M120-120v-720h720v720H120Zm60-500h600v-160H180v160Zm220 220h160v-160H400v160Zm0 220h160v-160H400v160ZM180-400h160v-160H180v160Zm440 0h160v-160H620v160ZM180-180h160v-160H180v160Zm440 0h160v-160H620v160Z\"/>\n",
              "  </svg>\n",
              "    </button>\n",
              "\n",
              "  <style>\n",
              "    .colab-df-container {\n",
              "      display:flex;\n",
              "      gap: 12px;\n",
              "    }\n",
              "\n",
              "    .colab-df-convert {\n",
              "      background-color: #E8F0FE;\n",
              "      border: none;\n",
              "      border-radius: 50%;\n",
              "      cursor: pointer;\n",
              "      display: none;\n",
              "      fill: #1967D2;\n",
              "      height: 32px;\n",
              "      padding: 0 0 0 0;\n",
              "      width: 32px;\n",
              "    }\n",
              "\n",
              "    .colab-df-convert:hover {\n",
              "      background-color: #E2EBFA;\n",
              "      box-shadow: 0px 1px 2px rgba(60, 64, 67, 0.3), 0px 1px 3px 1px rgba(60, 64, 67, 0.15);\n",
              "      fill: #174EA6;\n",
              "    }\n",
              "\n",
              "    .colab-df-buttons div {\n",
              "      margin-bottom: 4px;\n",
              "    }\n",
              "\n",
              "    [theme=dark] .colab-df-convert {\n",
              "      background-color: #3B4455;\n",
              "      fill: #D2E3FC;\n",
              "    }\n",
              "\n",
              "    [theme=dark] .colab-df-convert:hover {\n",
              "      background-color: #434B5C;\n",
              "      box-shadow: 0px 1px 3px 1px rgba(0, 0, 0, 0.15);\n",
              "      filter: drop-shadow(0px 1px 2px rgba(0, 0, 0, 0.3));\n",
              "      fill: #FFFFFF;\n",
              "    }\n",
              "  </style>\n",
              "\n",
              "    <script>\n",
              "      const buttonEl =\n",
              "        document.querySelector('#df-4718ceb6-abd2-4b24-b5c6-cbc6a8783e17 button.colab-df-convert');\n",
              "      buttonEl.style.display =\n",
              "        google.colab.kernel.accessAllowed ? 'block' : 'none';\n",
              "\n",
              "      async function convertToInteractive(key) {\n",
              "        const element = document.querySelector('#df-4718ceb6-abd2-4b24-b5c6-cbc6a8783e17');\n",
              "        const dataTable =\n",
              "          await google.colab.kernel.invokeFunction('convertToInteractive',\n",
              "                                                    [key], {});\n",
              "        if (!dataTable) return;\n",
              "\n",
              "        const docLinkHtml = 'Like what you see? Visit the ' +\n",
              "          '<a target=\"_blank\" href=https://colab.research.google.com/notebooks/data_table.ipynb>data table notebook</a>'\n",
              "          + ' to learn more about interactive tables.';\n",
              "        element.innerHTML = '';\n",
              "        dataTable['output_type'] = 'display_data';\n",
              "        await google.colab.output.renderOutput(dataTable, element);\n",
              "        const docLink = document.createElement('div');\n",
              "        docLink.innerHTML = docLinkHtml;\n",
              "        element.appendChild(docLink);\n",
              "      }\n",
              "    </script>\n",
              "  </div>\n",
              "\n",
              "\n",
              "<div id=\"df-cf444800-2510-409f-b69b-d2fddbbbcc6c\">\n",
              "  <button class=\"colab-df-quickchart\" onclick=\"quickchart('df-cf444800-2510-409f-b69b-d2fddbbbcc6c')\"\n",
              "            title=\"Suggest charts\"\n",
              "            style=\"display:none;\">\n",
              "\n",
              "<svg xmlns=\"http://www.w3.org/2000/svg\" height=\"24px\"viewBox=\"0 0 24 24\"\n",
              "     width=\"24px\">\n",
              "    <g>\n",
              "        <path d=\"M19 3H5c-1.1 0-2 .9-2 2v14c0 1.1.9 2 2 2h14c1.1 0 2-.9 2-2V5c0-1.1-.9-2-2-2zM9 17H7v-7h2v7zm4 0h-2V7h2v10zm4 0h-2v-4h2v4z\"/>\n",
              "    </g>\n",
              "</svg>\n",
              "  </button>\n",
              "\n",
              "<style>\n",
              "  .colab-df-quickchart {\n",
              "      --bg-color: #E8F0FE;\n",
              "      --fill-color: #1967D2;\n",
              "      --hover-bg-color: #E2EBFA;\n",
              "      --hover-fill-color: #174EA6;\n",
              "      --disabled-fill-color: #AAA;\n",
              "      --disabled-bg-color: #DDD;\n",
              "  }\n",
              "\n",
              "  [theme=dark] .colab-df-quickchart {\n",
              "      --bg-color: #3B4455;\n",
              "      --fill-color: #D2E3FC;\n",
              "      --hover-bg-color: #434B5C;\n",
              "      --hover-fill-color: #FFFFFF;\n",
              "      --disabled-bg-color: #3B4455;\n",
              "      --disabled-fill-color: #666;\n",
              "  }\n",
              "\n",
              "  .colab-df-quickchart {\n",
              "    background-color: var(--bg-color);\n",
              "    border: none;\n",
              "    border-radius: 50%;\n",
              "    cursor: pointer;\n",
              "    display: none;\n",
              "    fill: var(--fill-color);\n",
              "    height: 32px;\n",
              "    padding: 0;\n",
              "    width: 32px;\n",
              "  }\n",
              "\n",
              "  .colab-df-quickchart:hover {\n",
              "    background-color: var(--hover-bg-color);\n",
              "    box-shadow: 0 1px 2px rgba(60, 64, 67, 0.3), 0 1px 3px 1px rgba(60, 64, 67, 0.15);\n",
              "    fill: var(--button-hover-fill-color);\n",
              "  }\n",
              "\n",
              "  .colab-df-quickchart-complete:disabled,\n",
              "  .colab-df-quickchart-complete:disabled:hover {\n",
              "    background-color: var(--disabled-bg-color);\n",
              "    fill: var(--disabled-fill-color);\n",
              "    box-shadow: none;\n",
              "  }\n",
              "\n",
              "  .colab-df-spinner {\n",
              "    border: 2px solid var(--fill-color);\n",
              "    border-color: transparent;\n",
              "    border-bottom-color: var(--fill-color);\n",
              "    animation:\n",
              "      spin 1s steps(1) infinite;\n",
              "  }\n",
              "\n",
              "  @keyframes spin {\n",
              "    0% {\n",
              "      border-color: transparent;\n",
              "      border-bottom-color: var(--fill-color);\n",
              "      border-left-color: var(--fill-color);\n",
              "    }\n",
              "    20% {\n",
              "      border-color: transparent;\n",
              "      border-left-color: var(--fill-color);\n",
              "      border-top-color: var(--fill-color);\n",
              "    }\n",
              "    30% {\n",
              "      border-color: transparent;\n",
              "      border-left-color: var(--fill-color);\n",
              "      border-top-color: var(--fill-color);\n",
              "      border-right-color: var(--fill-color);\n",
              "    }\n",
              "    40% {\n",
              "      border-color: transparent;\n",
              "      border-right-color: var(--fill-color);\n",
              "      border-top-color: var(--fill-color);\n",
              "    }\n",
              "    60% {\n",
              "      border-color: transparent;\n",
              "      border-right-color: var(--fill-color);\n",
              "    }\n",
              "    80% {\n",
              "      border-color: transparent;\n",
              "      border-right-color: var(--fill-color);\n",
              "      border-bottom-color: var(--fill-color);\n",
              "    }\n",
              "    90% {\n",
              "      border-color: transparent;\n",
              "      border-bottom-color: var(--fill-color);\n",
              "    }\n",
              "  }\n",
              "</style>\n",
              "\n",
              "  <script>\n",
              "    async function quickchart(key) {\n",
              "      const quickchartButtonEl =\n",
              "        document.querySelector('#' + key + ' button');\n",
              "      quickchartButtonEl.disabled = true;  // To prevent multiple clicks.\n",
              "      quickchartButtonEl.classList.add('colab-df-spinner');\n",
              "      try {\n",
              "        const charts = await google.colab.kernel.invokeFunction(\n",
              "            'suggestCharts', [key], {});\n",
              "      } catch (error) {\n",
              "        console.error('Error during call to suggestCharts:', error);\n",
              "      }\n",
              "      quickchartButtonEl.classList.remove('colab-df-spinner');\n",
              "      quickchartButtonEl.classList.add('colab-df-quickchart-complete');\n",
              "    }\n",
              "    (() => {\n",
              "      let quickchartButtonEl =\n",
              "        document.querySelector('#df-cf444800-2510-409f-b69b-d2fddbbbcc6c button');\n",
              "      quickchartButtonEl.style.display =\n",
              "        google.colab.kernel.accessAllowed ? 'block' : 'none';\n",
              "    })();\n",
              "  </script>\n",
              "</div>\n",
              "\n",
              "  <div id=\"id_aa494192-1010-4958-aa3a-327d501dc0dc\">\n",
              "    <style>\n",
              "      .colab-df-generate {\n",
              "        background-color: #E8F0FE;\n",
              "        border: none;\n",
              "        border-radius: 50%;\n",
              "        cursor: pointer;\n",
              "        display: none;\n",
              "        fill: #1967D2;\n",
              "        height: 32px;\n",
              "        padding: 0 0 0 0;\n",
              "        width: 32px;\n",
              "      }\n",
              "\n",
              "      .colab-df-generate:hover {\n",
              "        background-color: #E2EBFA;\n",
              "        box-shadow: 0px 1px 2px rgba(60, 64, 67, 0.3), 0px 1px 3px 1px rgba(60, 64, 67, 0.15);\n",
              "        fill: #174EA6;\n",
              "      }\n",
              "\n",
              "      [theme=dark] .colab-df-generate {\n",
              "        background-color: #3B4455;\n",
              "        fill: #D2E3FC;\n",
              "      }\n",
              "\n",
              "      [theme=dark] .colab-df-generate:hover {\n",
              "        background-color: #434B5C;\n",
              "        box-shadow: 0px 1px 3px 1px rgba(0, 0, 0, 0.15);\n",
              "        filter: drop-shadow(0px 1px 2px rgba(0, 0, 0, 0.3));\n",
              "        fill: #FFFFFF;\n",
              "      }\n",
              "    </style>\n",
              "    <button class=\"colab-df-generate\" onclick=\"generateWithVariable('df_features')\"\n",
              "            title=\"Generate code using this dataframe.\"\n",
              "            style=\"display:none;\">\n",
              "\n",
              "  <svg xmlns=\"http://www.w3.org/2000/svg\" height=\"24px\"viewBox=\"0 0 24 24\"\n",
              "       width=\"24px\">\n",
              "    <path d=\"M7,19H8.4L18.45,9,17,7.55,7,17.6ZM5,21V16.75L18.45,3.32a2,2,0,0,1,2.83,0l1.4,1.43a1.91,1.91,0,0,1,.58,1.4,1.91,1.91,0,0,1-.58,1.4L9.25,21ZM18.45,9,17,7.55Zm-12,3A5.31,5.31,0,0,0,4.9,8.1,5.31,5.31,0,0,0,1,6.5,5.31,5.31,0,0,0,4.9,4.9,5.31,5.31,0,0,0,6.5,1,5.31,5.31,0,0,0,8.1,4.9,5.31,5.31,0,0,0,12,6.5,5.46,5.46,0,0,0,6.5,12Z\"/>\n",
              "  </svg>\n",
              "    </button>\n",
              "    <script>\n",
              "      (() => {\n",
              "      const buttonEl =\n",
              "        document.querySelector('#id_aa494192-1010-4958-aa3a-327d501dc0dc button.colab-df-generate');\n",
              "      buttonEl.style.display =\n",
              "        google.colab.kernel.accessAllowed ? 'block' : 'none';\n",
              "\n",
              "      buttonEl.onclick = () => {\n",
              "        google.colab.notebook.generateWithVariable('df_features');\n",
              "      }\n",
              "      })();\n",
              "    </script>\n",
              "  </div>\n",
              "\n",
              "    </div>\n",
              "  </div>\n"
            ],
            "application/vnd.google.colaboratory.intrinsic+json": {
              "type": "dataframe",
              "variable_name": "df_features",
              "summary": "{\n  \"name\": \"df_features\",\n  \"rows\": 4760,\n  \"fields\": [\n    {\n      \"column\": \"Movie_Genre\",\n      \"properties\": {\n        \"dtype\": \"category\",\n        \"num_unique_values\": 1164,\n        \"samples\": [\n          \"Family Animation Adventure\",\n          \"Adventure Science Fiction Action\",\n          \"Action Crime Drama Romance Thriller\"\n        ],\n        \"semantic_type\": \"\",\n        \"description\": \"\"\n      }\n    },\n    {\n      \"column\": \"Movie_Keywords\",\n      \"properties\": {\n        \"dtype\": \"string\",\n        \"num_unique_values\": 4203,\n        \"samples\": [\n          \"canada nazis sequel spin off ancient evil\",\n          \"sex professor wedding woman director columbia university\",\n          \"prophecy sea beach gold small town\"\n        ],\n        \"semantic_type\": \"\",\n        \"description\": \"\"\n      }\n    },\n    {\n      \"column\": \"Movie_Tagline\",\n      \"properties\": {\n        \"dtype\": \"string\",\n        \"num_unique_values\": 3928,\n        \"samples\": [\n          \"The messenger must be silenced.\",\n          \"It's not the house that's haunted.\",\n          \"The final hunt begins.\"\n        ],\n        \"semantic_type\": \"\",\n        \"description\": \"\"\n      }\n    },\n    {\n      \"column\": \"Movie_Cast\",\n      \"properties\": {\n        \"dtype\": \"string\",\n        \"num_unique_values\": 4715,\n        \"samples\": [\n          \"Robin Tunney Fairuza Balk Neve Campbell Rachel True Skeet Ulrich\",\n          \"Peter Sellers Christopher Plummer Herbert Lom Catherine Schell Peter Arne\",\n          \"John Wayne Laraine Day Cedric Hardwicke Judith Anderson Anthony Quinn\"\n        ],\n        \"semantic_type\": \"\",\n        \"description\": \"\"\n      }\n    },\n    {\n      \"column\": \"Movie_Director\",\n      \"properties\": {\n        \"dtype\": \"category\",\n        \"num_unique_values\": 2332,\n        \"samples\": [\n          \"Rob McKittrick\",\n          \"Terron R. Parsons\",\n          \"Cyrus Nowrasteh\"\n        ],\n        \"semantic_type\": \"\",\n        \"description\": \"\"\n      }\n    }\n  ]\n}"
            }
          },
          "metadata": {},
          "execution_count": 90
        }
      ]
    },
    {
      "cell_type": "code",
      "source": [
        "x = df_features['Movie_Genre'] + ' ' + df_features['Movie_Keywords'] + ' ' + df_features['Movie_Tagline'] + ' ' + df_features['Movie_Cast'] + ' ' + df_features['Movie_Director']"
      ],
      "metadata": {
        "id": "u-khxSxluy1o"
      },
      "execution_count": null,
      "outputs": []
    },
    {
      "cell_type": "code",
      "source": [
        "x"
      ],
      "metadata": {
        "colab": {
          "base_uri": "https://localhost:8080/"
        },
        "id": "EWYGju1DvsIR",
        "outputId": "f58c6030-8afb-4bf9-e4a4-6d50e2249e67"
      },
      "execution_count": null,
      "outputs": [
        {
          "output_type": "execute_result",
          "data": {
            "text/plain": [
              "0       Crime Comedy hotel new year's eve witch bet ho...\n",
              "1       Adventure Action Science Fiction android galax...\n",
              "2       Animation Family father son relationship harbo...\n",
              "3       Comedy Drama Romance vietnam veteran hippie me...\n",
              "4       Drama male nudity female nudity adultery midli...\n",
              "                              ...                        \n",
              "4755    Horror  The hot spot where Satan's waitin'. Li...\n",
              "4756    Comedy Family Drama  It’s better to stand out ...\n",
              "4757    Thriller Drama christian film sex trafficking ...\n",
              "4758                                           Family    \n",
              "4759    Documentary music actors legendary perfomer cl...\n",
              "Length: 4760, dtype: object"
            ]
          },
          "metadata": {},
          "execution_count": 92
        }
      ]
    },
    {
      "cell_type": "code",
      "source": [
        "x.shape"
      ],
      "metadata": {
        "colab": {
          "base_uri": "https://localhost:8080/"
        },
        "id": "lAoRyGpCvsOw",
        "outputId": "c6a510c8-01a5-496c-9388-340e73d2f6fb"
      },
      "execution_count": null,
      "outputs": [
        {
          "output_type": "execute_result",
          "data": {
            "text/plain": [
              "(4760,)"
            ]
          },
          "metadata": {},
          "execution_count": 93
        }
      ]
    },
    {
      "cell_type": "markdown",
      "source": [
        "## **Get Feature Text Conversion to Tokens**"
      ],
      "metadata": {
        "id": "oBGX4Ekniriz"
      }
    },
    {
      "cell_type": "code",
      "source": [
        "from sklearn.feature_extraction.text import TfidfVectorizer"
      ],
      "metadata": {
        "id": "lW-OIRK0iuzO"
      },
      "execution_count": null,
      "outputs": []
    },
    {
      "cell_type": "code",
      "source": [
        "tfidf = TfidfVectorizer()"
      ],
      "metadata": {
        "id": "CCmI2Bt4wL-6"
      },
      "execution_count": null,
      "outputs": []
    },
    {
      "cell_type": "code",
      "source": [
        "x = tfidf.fit_transform(x)"
      ],
      "metadata": {
        "id": "YlmozbsrwWxm"
      },
      "execution_count": null,
      "outputs": []
    },
    {
      "cell_type": "code",
      "source": [
        "x.shape"
      ],
      "metadata": {
        "colab": {
          "base_uri": "https://localhost:8080/"
        },
        "id": "jvmrykGRwWzz",
        "outputId": "0fa04613-d0c1-435e-e17f-632ae1d93a78"
      },
      "execution_count": null,
      "outputs": [
        {
          "output_type": "execute_result",
          "data": {
            "text/plain": [
              "(4760, 17258)"
            ]
          },
          "metadata": {},
          "execution_count": 97
        }
      ]
    },
    {
      "cell_type": "code",
      "source": [
        "print(x)"
      ],
      "metadata": {
        "colab": {
          "base_uri": "https://localhost:8080/"
        },
        "id": "80GH8NVTwW3X",
        "outputId": "c1049689-b943-4c0d-d384-107f8e7fca1d"
      },
      "execution_count": null,
      "outputs": [
        {
          "output_type": "stream",
          "name": "stdout",
          "text": [
            "  (0, 617)\t0.1633382144407513\n",
            "  (0, 492)\t0.1432591540388685\n",
            "  (0, 15413)\t0.1465525095337543\n",
            "  (0, 9675)\t0.14226057295252661\n",
            "  (0, 9465)\t0.1659841367820977\n",
            "  (0, 1390)\t0.16898383612799558\n",
            "  (0, 7825)\t0.09799561597509843\n",
            "  (0, 1214)\t0.13865857545144072\n",
            "  (0, 729)\t0.13415063359531618\n",
            "  (0, 13093)\t0.1432591540388685\n",
            "  (0, 15355)\t0.10477815972666779\n",
            "  (0, 9048)\t0.0866842116160778\n",
            "  (0, 11161)\t0.06250380151644369\n",
            "  (0, 16773)\t0.17654247479915475\n",
            "  (0, 5612)\t0.08603537588547631\n",
            "  (0, 16735)\t0.10690083751525419\n",
            "  (0, 7904)\t0.13348000542112332\n",
            "  (0, 15219)\t0.09800472886453934\n",
            "  (0, 11242)\t0.07277788238484746\n",
            "  (0, 3878)\t0.11998399582562203\n",
            "  (0, 5499)\t0.11454057510303811\n",
            "  (0, 7071)\t0.19822417598406614\n",
            "  (0, 7454)\t0.14745635785412262\n",
            "  (0, 1495)\t0.19712637387361423\n",
            "  (0, 9206)\t0.15186283580984414\n",
            "  :\t:\n",
            "  (4757, 5455)\t0.12491480594769522\n",
            "  (4757, 2967)\t0.16273475835631626\n",
            "  (4757, 8464)\t0.23522565554066333\n",
            "  (4757, 6938)\t0.17088173678136628\n",
            "  (4757, 8379)\t0.17480603856721913\n",
            "  (4757, 15303)\t0.07654356007668191\n",
            "  (4757, 15384)\t0.09754322497537371\n",
            "  (4757, 7649)\t0.11479421494340192\n",
            "  (4757, 10896)\t0.14546473055066447\n",
            "  (4757, 4494)\t0.05675298448720501\n",
            "  (4758, 5238)\t1.0\n",
            "  (4759, 11264)\t0.33947721804318337\n",
            "  (4759, 11708)\t0.33947721804318337\n",
            "  (4759, 205)\t0.3237911628497312\n",
            "  (4759, 8902)\t0.3040290704566037\n",
            "  (4759, 14062)\t0.3237911628497312\n",
            "  (4759, 3058)\t0.2812896191863103\n",
            "  (4759, 7130)\t0.26419662449963793\n",
            "  (4759, 10761)\t0.3126617295732147\n",
            "  (4759, 4358)\t0.18306542312175342\n",
            "  (4759, 14051)\t0.20084315377640435\n",
            "  (4759, 5690)\t0.19534291014627303\n",
            "  (4759, 15431)\t0.19628653185946862\n",
            "  (4759, 1490)\t0.21197258705292082\n",
            "  (4759, 10666)\t0.15888268987343043\n"
          ]
        }
      ]
    },
    {
      "cell_type": "markdown",
      "source": [
        "## **Get Similarity Score using Cosine Similarity**"
      ],
      "metadata": {
        "id": "UqfyPOCYiiww"
      }
    },
    {
      "cell_type": "markdown",
      "source": [
        "cosine_similarity computes the L2-normalized dot product of vectors. Euclidean (L2) normalization projects the vectors onto the unit sphere, and their dot product is then the cosine of the angle between the points denoted by the vectors."
      ],
      "metadata": {
        "id": "ibx4DOlYw-z0"
      }
    },
    {
      "cell_type": "code",
      "source": [
        "from sklearn.metrics.pairwise import cosine_similarity"
      ],
      "metadata": {
        "id": "610z0-xNxQFW"
      },
      "execution_count": null,
      "outputs": []
    },
    {
      "cell_type": "code",
      "source": [
        "Similarity_Score = cosine_similarity(x)"
      ],
      "metadata": {
        "id": "XPZf1l7txZdV"
      },
      "execution_count": null,
      "outputs": []
    },
    {
      "cell_type": "code",
      "source": [
        "Similarity_Score"
      ],
      "metadata": {
        "colab": {
          "base_uri": "https://localhost:8080/"
        },
        "id": "xmB1JbWrxZf3",
        "outputId": "53d9638b-03fe-44cb-959f-7822783ac19b"
      },
      "execution_count": null,
      "outputs": [
        {
          "output_type": "execute_result",
          "data": {
            "text/plain": [
              "array([[1.        , 0.01351235, 0.03570468, ..., 0.        , 0.        ,\n",
              "        0.        ],\n",
              "       [0.01351235, 1.        , 0.00806674, ..., 0.        , 0.        ,\n",
              "        0.        ],\n",
              "       [0.03570468, 0.00806674, 1.        , ..., 0.        , 0.08014876,\n",
              "        0.        ],\n",
              "       ...,\n",
              "       [0.        , 0.        , 0.        , ..., 1.        , 0.        ,\n",
              "        0.        ],\n",
              "       [0.        , 0.        , 0.08014876, ..., 0.        , 1.        ,\n",
              "        0.        ],\n",
              "       [0.        , 0.        , 0.        , ..., 0.        , 0.        ,\n",
              "        1.        ]])"
            ]
          },
          "metadata": {},
          "execution_count": 101
        }
      ]
    },
    {
      "cell_type": "code",
      "source": [
        "Similarity_Score.shape"
      ],
      "metadata": {
        "colab": {
          "base_uri": "https://localhost:8080/"
        },
        "id": "rlGZAXMxxhUo",
        "outputId": "a72666e2-9cfa-4a39-9ecd-879b8069e43b"
      },
      "execution_count": null,
      "outputs": [
        {
          "output_type": "execute_result",
          "data": {
            "text/plain": [
              "(4760, 4760)"
            ]
          },
          "metadata": {},
          "execution_count": 102
        }
      ]
    },
    {
      "cell_type": "markdown",
      "source": [
        "## **Get Movie Name as Input from User and Validate for Closest Spelling**"
      ],
      "metadata": {
        "id": "2jXJpdAuiwYW"
      }
    },
    {
      "cell_type": "code",
      "source": [
        "Favourite_Movie_Name = input(' Enter your favourite movie name : ')"
      ],
      "metadata": {
        "id": "QBCakTuli57t",
        "colab": {
          "base_uri": "https://localhost:8080/"
        },
        "outputId": "ef9e0d08-9c0d-4beb-ff56-43af243181e3"
      },
      "execution_count": null,
      "outputs": [
        {
          "name": "stdout",
          "output_type": "stream",
          "text": [
            " Enter your favourite movie name : Iron Man\n"
          ]
        }
      ]
    },
    {
      "cell_type": "code",
      "source": [
        "All_Movies_Title_List = df['Movie_Title'].tolist()"
      ],
      "metadata": {
        "id": "Rk06oIivx14o"
      },
      "execution_count": null,
      "outputs": []
    },
    {
      "cell_type": "code",
      "source": [
        "import difflib"
      ],
      "metadata": {
        "id": "Vse4iKOTx17h"
      },
      "execution_count": null,
      "outputs": []
    },
    {
      "cell_type": "code",
      "source": [
        "Movie_Recommendation = difflib.get_close_matches(Favourite_Movie_Name, All_Movies_Title_List)\n",
        "print(Movie_Recommendation)"
      ],
      "metadata": {
        "colab": {
          "base_uri": "https://localhost:8080/"
        },
        "id": "qydxOjOHx1-B",
        "outputId": "90a9e270-7471-402c-a863-42ca38f6831e"
      },
      "execution_count": null,
      "outputs": [
        {
          "output_type": "stream",
          "name": "stdout",
          "text": [
            "['Iron Man', 'Iron Man 3', 'Iron Man 2']\n"
          ]
        }
      ]
    },
    {
      "cell_type": "code",
      "source": [
        "Close_Match = Movie_Recommendation[0]\n",
        "print(Close_Match)"
      ],
      "metadata": {
        "colab": {
          "base_uri": "https://localhost:8080/"
        },
        "id": "CN75fu-cyP-U",
        "outputId": "08956dc4-654f-4de3-d5c9-285dfd149df5"
      },
      "execution_count": null,
      "outputs": [
        {
          "output_type": "stream",
          "name": "stdout",
          "text": [
            "Iron Man\n"
          ]
        }
      ]
    },
    {
      "cell_type": "code",
      "source": [
        "Index_of_Close_Match_Movie = df[df.Movie_Title == Close_Match]['Movie_ID'].values[0]\n",
        "print(Index_of_Close_Match_Movie)"
      ],
      "metadata": {
        "colab": {
          "base_uri": "https://localhost:8080/"
        },
        "id": "RKzPzZUfyXqb",
        "outputId": "cee79538-afba-478c-eae5-3476ac3f6f31"
      },
      "execution_count": null,
      "outputs": [
        {
          "output_type": "stream",
          "name": "stdout",
          "text": [
            "568\n"
          ]
        }
      ]
    },
    {
      "cell_type": "code",
      "source": [
        "Recommendation_Score = list(enumerate(Similarity_Score[Index_of_Close_Match_Movie]))\n",
        "print(Recommendation_Score)"
      ],
      "metadata": {
        "colab": {
          "base_uri": "https://localhost:8080/"
        },
        "id": "B4q0pQEVyXxL",
        "outputId": "395fc2f1-bf0b-4cf8-bbe2-ca56bd9ab8aa"
      },
      "execution_count": null,
      "outputs": [
        {
          "output_type": "stream",
          "name": "stdout",
          "text": [
            "[(0, 0.026990942208242455), (1, 0.010950507698138944), (2, 0.018806392274173616), (3, 0.028913528217961625), (4, 0.0), (5, 0.0), (6, 0.045278184449287086), (7, 0.018586667790081918), (8, 0.0), (9, 0.04536669475996404), (10, 0.06945245379615324), (11, 0.008931072914346624), (12, 0.018500407537554785), (13, 0.0), (14, 0.00789196005214734), (15, 0.01449570874675743), (16, 0.0), (17, 0.044703222447363855), (18, 0.008269983194635585), (19, 0.020222904227665553), (20, 0.01873282400803726), (21, 0.0), (22, 0.006966263873994487), (23, 0.009065984808544987), (24, 0.02272842249229887), (25, 0.02733081208457935), (26, 0.0), (27, 0.007242460629470042), (28, 0.030203200017920463), (29, 0.014894235274266102), (30, 0.0), (31, 0.0), (32, 0.11981278942051383), (33, 0.0076219084873372185), (34, 0.009583388440146605), (35, 0.0416606444301921), (36, 0.017574944265830113), (37, 0.04275348186567463), (38, 0.025841364057983304), (39, 0.038877689068816626), (40, 0.013801714159467784), (41, 0.013641836385016058), (42, 0.0), (43, 0.006439756224773967), (44, 0.010241951566201474), (45, 0.023543121860290055), (46, 0.011394916286686065), (47, 0.0), (48, 0.024915231148062083), (49, 0.0), (50, 0.013127655275190416), (51, 0.0), (52, 0.0), (53, 0.034866797674668056), (54, 0.033902137686214154), (55, 0.043972262815364954), (56, 0.0675516864609185), (57, 0.05608234015712004), (58, 0.03078921119207484), (59, 0.012631273944000047), (60, 0.031448709983659624), (61, 0.020854603482968827), (62, 0.025097071774827964), (63, 0.015340989757438495), (64, 0.014509883667306895), (65, 0.0310078320385297), (66, 0.0), (67, 0.047303214504783295), (68, 0.015375373598359556), (69, 0.028057275082874644), (70, 0.0), (71, 0.031075159767910195), (72, 0.016801741218835552), (73, 0.014009518760825644), (74, 0.018345060708983618), (75, 0.03483148569944799), (76, 0.004314534991263949), (77, 0.0), (78, 0.029313311276019396), (79, 0.022542105053057558), (80, 0.05624594797893976), (81, 0.00912499816386435), (82, 0.04081406124623546), (83, 0.015849351163653012), (84, 0.02214005776513445), (85, 0.01511877051123475), (86, 0.021371407897321563), (87, 0.036651070314641564), (88, 0.011474777828735015), (89, 0.009809243699702212), (90, 0.02099454137530082), (91, 0.0337294098150876), (92, 0.004653443863225702), (93, 0.028896031229758427), (94, 0.06482957744211985), (95, 0.022084968303492096), (96, 0.020285348392693456), (97, 0.007568636680187168), (98, 0.0), (99, 0.0), (100, 0.0), (101, 0.0404493459089421), (102, 0.03476588046368707), (103, 0.0), (104, 0.015739231553790253), (105, 0.008553541330011493), (106, 0.04563279631932214), (107, 0.009867054654868002), (108, 0.08002519243775028), (109, 0.00699467843343552), (110, 0.022400374810430345), (111, 0.0), (112, 0.008303156223279545), (113, 0.005769405048974542), (114, 0.0), (115, 0.0), (116, 0.019936211968132212), (117, 0.02080312966531389), (118, 0.021506051998599757), (119, 0.0358342791078385), (120, 0.0), (121, 0.0), (122, 0.05718655709515656), (123, 0.025297336923782655), (124, 0.02856307011305916), (125, 0.04881100181045864), (126, 0.0), (127, 0.008470971109726612), (128, 0.01608312470041379), (129, 0.0), (130, 0.07286383772776327), (131, 0.0158460062945259), (132, 0.00816510017651375), (133, 0.0), (134, 0.0), (135, 0.022517501158379145), (136, 0.019506412567807805), (137, 0.01610273453105811), (138, 0.016634440205263567), (139, 0.0059327584241078155), (140, 0.0), (141, 0.023201463215225683), (142, 0.016802878979464815), (143, 0.005546974252375385), (144, 0.020444569162211632), (145, 0.0), (146, 0.0), (147, 0.0060699206004130955), (148, 0.012624938990599304), (149, 0.0), (150, 0.02209255711695663), (151, 0.012664456062985953), (152, 0.02028133788486794), (153, 0.02454584174788869), (154, 0.0), (155, 0.005235393915762386), (156, 0.012705662435866353), (157, 0.0), (158, 0.02870120193521642), (159, 0.023129517941058282), (160, 0.004846745199024863), (161, 0.012612586305011251), (162, 0.07765707813308764), (163, 0.0), (164, 0.0066759447275799655), (165, 0.02550939755776875), (166, 0.007616821220857918), (167, 0.016809131523394298), (168, 0.01912976619823565), (169, 0.01702113059547799), (170, 0.08309130442741268), (171, 0.019824249828989195), (172, 0.0), (173, 0.0073530620985212975), (174, 0.006929987743366363), (175, 0.013206899852207191), (176, 0.0), (177, 0.038692717989767075), (178, 0.0), (179, 0.0480726285177707), (180, 0.028222889539754065), (181, 0.026235219793036176), (182, 0.031486256977714615), (183, 0.006434420741858349), (184, 0.007594642934638142), (185, 0.013224309370896954), (186, 0.01832898830654292), (187, 0.023320054539695594), (188, 0.020985365941669356), (189, 0.021626709015354253), (190, 0.0), (191, 0.046716842637282784), (192, 0.009328056226081216), (193, 0.016616153526295325), (194, 0.0), (195, 0.007249218453783734), (196, 0.0), (197, 0.015320464439985394), (198, 0.0), (199, 0.006397237355302964), (200, 0.0), (201, 0.021789399336388255), (202, 0.020040971304633982), (203, 0.0), (204, 0.022068025284955058), (205, 0.0), (206, 0.03217673960574363), (207, 0.010402568658709522), (208, 0.02046443362631038), (209, 0.01578217446733857), (210, 0.005698888675355469), (211, 0.00901481836107267), (212, 0.04472535438144032), (213, 0.0), (214, 0.02333117720933343), (215, 0.008472988965454002), (216, 0.008941390693049948), (217, 0.005153912315580268), (218, 0.025649781734821363), (219, 0.01594553018234478), (220, 0.023826516937806318), (221, 0.025156681146369764), (222, 0.03512327276439812), (223, 0.02177438966287687), (224, 0.0), (225, 0.019924299216741055), (226, 0.008698656422493943), (227, 0.0), (228, 0.01965254314259477), (229, 0.0), (230, 0.03255281636158415), (231, 0.049720602736899114), (232, 0.08207697026825345), (233, 0.005218844774509496), (234, 0.025461696641407155), (235, 0.0), (236, 0.0), (237, 0.012653250703804417), (238, 0.021544229052759958), (239, 0.016543357122622542), (240, 0.007982906785634994), (241, 0.016142128072440642), (242, 0.01964327728163371), (243, 0.017083334133883802), (244, 0.005172858733614184), (245, 0.0), (246, 0.0), (247, 0.034672992903890254), (248, 0.006490522224168981), (249, 0.04558024874953509), (250, 0.00965080787673346), (251, 0.028254277255561556), (252, 0.01860499756276393), (253, 0.00951173337071729), (254, 0.0), (255, 0.0), (256, 0.0), (257, 0.04731709043270476), (258, 0.012343544152346573), (259, 0.02240784119894749), (260, 0.019808714086400166), (261, 0.020149494477218963), (262, 0.009675132416147331), (263, 0.042726134053137), (264, 0.020913194330462077), (265, 0.0), (266, 0.036068851381621), (267, 0.0), (268, 0.0), (269, 0.050819211418632215), (270, 0.0), (271, 0.009429306772791284), (272, 0.017319226879132593), (273, 0.01970808672274657), (274, 0.0), (275, 0.0), (276, 0.0), (277, 0.04602574618034156), (278, 0.0), (279, 0.029914898617841516), (280, 0.0155995981645776), (281, 0.0), (282, 0.01548250783699117), (283, 0.03570276853986087), (284, 0.019917073653334283), (285, 0.0), (286, 0.06301828800170732), (287, 0.030860927025674903), (288, 0.031018410942295578), (289, 0.009839788183585425), (290, 0.010004275080945858), (291, 0.01579133537074831), (292, 0.02706938493668725), (293, 0.02503582130612524), (294, 0.02355567050503158), (295, 0.017092948851454105), (296, 0.038702073615696296), (297, 0.047972222988508215), (298, 0.04744593717176296), (299, 0.03671400992168071), (300, 0.0422247975846118), (301, 0.05600645820017891), (302, 0.00837063485775545), (303, 0.015731828085431318), (304, 0.0), (305, 0.020864181629163425), (306, 0.03520398164642946), (307, 0.006580911212614688), (308, 0.0), (309, 0.01929974908578349), (310, 0.028351711953570197), (311, 0.0), (312, 0.0), (313, 0.007270965725440895), (314, 0.017997420427686258), (315, 0.01229759969428737), (316, 0.011362411806059104), (317, 0.012286631091754981), (318, 0.0), (319, 0.018466002282196047), (320, 0.012852714031310157), (321, 0.01870926547088316), (322, 0.027548008882795003), (323, 0.010966539855329733), (324, 0.02945234306550152), (325, 0.0), (326, 0.0), (327, 0.04844103641715906), (328, 0.03551609519422648), (329, 0.022051533744038156), (330, 0.04049435495620268), (331, 0.0), (332, 0.030282294584028542), (333, 0.004703369291990801), (334, 0.05306282484991082), (335, 0.007973253991826601), (336, 0.043791642553548435), (337, 0.007827811678902986), (338, 0.03500902925244619), (339, 0.020441237791414754), (340, 0.047620177594030935), (341, 0.026127006977498583), (342, 0.01703813331145149), (343, 0.02282824152868206), (344, 0.009070838143152326), (345, 0.015116145990640938), (346, 0.015541410320363535), (347, 0.030721195289688752), (348, 0.00853758156259438), (349, 0.012892642579672644), (350, 0.0057565865086216545), (351, 0.0), (352, 0.007838691246709903), (353, 0.030091086494556177), (354, 0.02227456891458034), (355, 0.019477651660605756), (356, 0.023217182350069903), (357, 0.014884907934705276), (358, 0.013646983735143427), (359, 0.012199170018269307), (360, 0.0), (361, 0.03897881575636249), (362, 0.031019696319988015), (363, 0.0528926998774339), (364, 0.005998153540458717), (365, 0.031199623190850623), (366, 0.0), (367, 0.008822734813513896), (368, 0.057780525357661275), (369, 0.013649044272690532), (370, 0.0), (371, 0.019624697799579077), (372, 0.016071764188420712), (373, 0.0), (374, 0.013844212017780858), (375, 0.026101467320879267), (376, 0.0), (377, 0.0), (378, 0.0), (379, 0.011290464100281972), (380, 0.03670998241800258), (381, 0.02999118659539794), (382, 0.03070470478863187), (383, 0.0), (384, 0.0), (385, 0.02338358239758017), (386, 0.012811617483409286), (387, 0.01633895662392055), (388, 0.008141749172096353), (389, 0.0173223899888388), (390, 0.020663958539717333), (391, 0.0), (392, 0.009161336443206478), (393, 0.0), (394, 0.012389619288778384), (395, 0.02266311036532001), (396, 0.0), (397, 0.019630202861624764), (398, 0.0), (399, 0.0), (400, 0.013171067160842589), (401, 0.049883799691954486), (402, 0.03699399857408764), (403, 0.020566827347461063), (404, 0.020499077182849313), (405, 0.0), (406, 0.007158122458058058), (407, 0.03201886970022063), (408, 0.008154116680088688), (409, 0.014359273208220693), (410, 0.008023782946440808), (411, 0.03215803694582533), (412, 0.019823913882561633), (413, 0.0365454434401979), (414, 0.021131060611371866), (415, 0.022311071344179936), (416, 0.007903311832113983), (417, 0.027479980270911794), (418, 0.16093391568075596), (419, 0.00785244539390744), (420, 0.009274008205753335), (421, 0.018790644604719357), (422, 0.0), (423, 0.0), (424, 0.023712907872704504), (425, 0.02369233428775441), (426, 0.01953403908279428), (427, 0.008272524781538008), (428, 0.028201998269245507), (429, 0.0), (430, 0.022735540424964784), (431, 0.0), (432, 0.027220144130608775), (433, 0.02235167377052785), (434, 0.019983663901921106), (435, 0.0042877057192131475), (436, 0.00973363803553152), (437, 0.013314317492775549), (438, 0.0), (439, 0.017222449596588495), (440, 0.025428682102914293), (441, 0.020051780804636432), (442, 0.011535725531625789), (443, 0.01065232800288245), (444, 0.0), (445, 0.006006128848641452), (446, 0.015828288222150343), (447, 0.0), (448, 0.00995486691999725), (449, 0.006345291587828379), (450, 0.08332085442322186), (451, 0.0352625376498953), (452, 0.05978174040511421), (453, 0.0), (454, 0.01655187359054731), (455, 0.018520291181695184), (456, 0.022379797492020882), (457, 0.00639908475829517), (458, 0.005900124873334962), (459, 0.0), (460, 0.01716893654235414), (461, 0.00825649657853097), (462, 0.0), (463, 0.014564933938966535), (464, 0.006934908591965718), (465, 0.04990345283303202), (466, 0.0), (467, 0.025189042055433236), (468, 0.018037619411916533), (469, 0.046357866360066384), (470, 0.012976522227365405), (471, 0.0), (472, 0.032236275261990355), (473, 0.0), (474, 0.0), (475, 0.0024526982857853304), (476, 0.0), (477, 0.07404539193161791), (478, 0.0), (479, 0.0), (480, 0.018535612837801897), (481, 0.0), (482, 0.016935905164637735), (483, 0.03140874729266134), (484, 0.018546441442720996), (485, 0.0), (486, 0.025971003125530332), (487, 0.0), (488, 0.0), (489, 0.03827605845013444), (490, 0.009119785373860382), (491, 0.04910968442454912), (492, 0.03271060160252616), (493, 0.03166441022776214), (494, 0.014564078524535864), (495, 0.13172799619425368), (496, 0.04453622591590751), (497, 0.026780515538561565), (498, 0.040047891461951785), (499, 0.0), (500, 0.021974797420268553), (501, 0.035441361785923574), (502, 0.009641591748267288), (503, 0.0), (504, 0.008676678251453324), (505, 0.0), (506, 0.0), (507, 0.008098217415394996), (508, 0.009916767426094788), (509, 0.0), (510, 0.03937082232956698), (511, 0.0206340684606729), (512, 0.026875827401204214), (513, 0.005748119562066246), (514, 0.005734361234490708), (515, 0.02579604448806982), (516, 0.005511776534543966), (517, 0.005495073398695369), (518, 0.0), (519, 0.017019536295977043), (520, 0.0), (521, 0.015058674437788924), (522, 0.020504344579971148), (523, 0.034652712225603774), (524, 0.01582389988290907), (525, 0.008578381981032458), (526, 0.0), (527, 0.011108538800504369), (528, 0.033991487854190344), (529, 0.008677862545019293), (530, 0.02554358664346925), (531, 0.0), (532, 0.004910133172922862), (533, 0.005947412642549206), (534, 0.005222537077536841), (535, 0.0), (536, 0.0), (537, 0.03242477829375696), (538, 0.04322794994414393), (539, 0.025004909982473542), (540, 0.02723486567125111), (541, 0.008908156384460877), (542, 0.0037080290303428995), (543, 0.0), (544, 0.0), (545, 0.02134362797263522), (546, 0.027107606677557145), (547, 0.013186645202320468), (548, 0.027742509431258274), (549, 0.008001898117077985), (550, 0.013541647151267652), (551, 0.023529681823123424), (552, 0.0), (553, 0.06271874531861754), (554, 0.005129334736718761), (555, 0.0442657898776526), (556, 0.0), (557, 0.0), (558, 0.0215133670261125), (559, 0.0), (560, 0.013954401875972772), (561, 0.07073756145801882), (562, 0.013143159957167534), (563, 0.0), (564, 0.0), (565, 0.011450825898081681), (566, 0.033479191207702944), (567, 0.011955361178750406), (568, 1.0000000000000002), (569, 0.05436412672527662), (570, 0.23774638753738936), (571, 0.0), (572, 0.012568245924833816), (573, 0.017079652643298776), (574, 0.021417962295131193), (575, 0.007235217913254576), (576, 0.0), (577, 0.015516065571473402), (578, 0.0), (579, 0.0), (580, 0.0), (581, 0.0), (582, 0.019115186507541414), (583, 0.035329236882041086), (584, 0.0), (585, 0.03447072828257876), (586, 0.02926621552453964), (587, 0.0), (588, 0.01800225359022782), (589, 0.016125538071198743), (590, 0.01643723922458033), (591, 0.023577833997212957), (592, 0.0576021641093529), (593, 0.0), (594, 0.021649355392573323), (595, 0.005815444568248933), (596, 0.0), (597, 0.02956518695334761), (598, 0.0), (599, 0.057930443707554236), (600, 0.057987526423699226), (601, 0.010458687796660076), (602, 0.010009785575212517), (603, 0.03146651368760004), (604, 0.008470131706403986), (605, 0.0), (606, 0.0), (607, 0.08989669942240236), (608, 0.006320033679388429), (609, 0.04534849636186039), (610, 0.05498306500199589), (611, 0.0), (612, 0.014113652965961343), (613, 0.04140595086752547), (614, 0.01596236538188795), (615, 0.05078277879328065), (616, 0.005846687395839526), (617, 0.0), (618, 0.02376223956756209), (619, 0.018494771762258118), (620, 0.01347711880755974), (621, 0.0044739135461325606), (622, 0.0), (623, 0.0), (624, 0.0), (625, 0.0), (626, 0.0), (627, 0.009440833004337682), (628, 0.009285484869505025), (629, 0.0060583602966340225), (630, 0.013431531390486895), (631, 0.02868686513057369), (632, 0.004779029363326446), (633, 0.0), (634, 0.0), (635, 0.07299403545218869), (636, 0.0), (637, 0.009537108476699302), (638, 0.0), (639, 0.046697011982070755), (640, 0.04238702399349263), (641, 0.010016822393454416), (642, 0.0), (643, 0.015156055882563036), (644, 0.0951957080181505), (645, 0.0), (646, 0.0), (647, 0.0), (648, 0.02124408492351665), (649, 0.0), (650, 0.006527874212669787), (651, 0.024712486473363368), (652, 0.0), (653, 0.03468145194072269), (654, 0.03353929414360668), (655, 0.0), (656, 0.005555256695245785), (657, 0.02920664665588262), (658, 0.0187042147876843), (659, 0.008103836226409516), (660, 0.01870801660078027), (661, 0.02613198078732803), (662, 0.020480398247729518), (663, 0.0), (664, 0.022275534606285122), (665, 0.01332279015755777), (666, 0.023500890205973613), (667, 0.0), (668, 0.10384678106617842), (669, 0.01925635778767132), (670, 0.006516577140925717), (671, 0.03747876165967108), (672, 0.021283707828635423), (673, 0.005770341328792288), (674, 0.06006284004996539), (675, 0.018892888936429538), (676, 0.03819026926328427), (677, 0.017092704068440927), (678, 0.00948429386801557), (679, 0.0), (680, 0.018424209230603096), (681, 0.03153784140007063), (682, 0.13792739122041112), (683, 0.035924626638314285), (684, 0.02801402930229601), (685, 0.035593253611440626), (686, 0.007705658067621235), (687, 0.030953981864598107), (688, 0.005857634863024583), (689, 0.024206840248671563), (690, 0.012944118513117907), (691, 0.019611522970300364), (692, 0.04305749450176164), (693, 0.0), (694, 0.0), (695, 0.0), (696, 0.0), (697, 0.007045264138892615), (698, 0.0), (699, 0.04077763307216609), (700, 0.040286982017744534), (701, 0.009627391198092675), (702, 0.0), (703, 0.06666166853570837), (704, 0.009325545846558193), (705, 0.006211212177649838), (706, 0.042840635484658135), (707, 0.0), (708, 0.0), (709, 0.0), (710, 0.014599997092122577), (711, 0.0), (712, 0.02679901721717261), (713, 0.041668931191705255), (714, 0.01240491369713249), (715, 0.044580061926543), (716, 0.012856176125126182), (717, 0.00899397260277336), (718, 0.018197013490823977), (719, 0.030670889373040758), (720, 0.027021341488455072), (721, 0.010552427797297823), (722, 0.0077495154092644385), (723, 0.02637962400518943), (724, 0.027901641656543966), (725, 0.053704198525352846), (726, 0.05742283556787854), (727, 0.022142059529621377), (728, 0.005703207575833157), (729, 0.00589646027630236), (730, 0.0), (731, 0.050181714771981786), (732, 0.014029478579682335), (733, 0.030420279015167303), (734, 0.006570628492281862), (735, 0.0), (736, 0.029947275390954937), (737, 0.017640810925229098), (738, 0.018565858142135707), (739, 0.0), (740, 0.00583621361861641), (741, 0.0), (742, 0.03585467184675675), (743, 0.0), (744, 0.007975866637596305), (745, 0.006446276866649511), (746, 0.022782760052497502), (747, 0.00961551757409032), (748, 0.03560079532943915), (749, 0.022550431869794295), (750, 0.0), (751, 0.04501655429780947), (752, 0.039084110278209364), (753, 0.006129597448964864), (754, 0.009866861896057524), (755, 0.0), (756, 0.03254847218630449), (757, 0.031875951854167715), (758, 0.007070358910222622), (759, 0.007920954810889575), (760, 0.0), (761, 0.0), (762, 0.03169702755478064), (763, 0.02789980939522351), (764, 0.013441113456534383), (765, 0.009114962157719429), (766, 0.006491668104726608), (767, 0.008181286194631945), (768, 0.031157605286086656), (769, 0.008511652486049076), (770, 0.027545739039258506), (771, 0.0), (772, 0.0), (773, 0.008343207168642473), (774, 0.009014318589205698), (775, 0.02926495595568036), (776, 0.01627753857820287), (777, 0.0), (778, 0.01609596090432425), (779, 0.03738541978059524), (780, 0.0329657341591669), (781, 0.031328355409384376), (782, 0.015008330611917139), (783, 0.0), (784, 0.0), (785, 0.03056032873649063), (786, 0.0), (787, 0.014842224255518057), (788, 0.02080231000832109), (789, 0.013920214290390148), (790, 0.017285591205738457), (791, 0.009346006152619145), (792, 0.009174179225359841), (793, 0.012732337898978945), (794, 0.015164219201996945), (795, 0.006249819347790341), (796, 0.0), (797, 0.0), (798, 0.01646083813102984), (799, 0.0), (800, 0.01105897301566131), (801, 0.0), (802, 0.009519255851813336), (803, 0.02785122275515958), (804, 0.004755937060174643), (805, 0.016020328857084855), (806, 0.0), (807, 0.0236189267881603), (808, 0.012370246660965808), (809, 0.021562919765920695), (810, 0.00805783759233602), (811, 0.02229704263946667), (812, 0.006633819856245279), (813, 0.019373207943262388), (814, 0.014414113340802361), (815, 0.023751993536880924), (816, 0.0), (817, 0.006789442583839733), (818, 0.016437607839894203), (819, 0.020021045251244058), (820, 0.015303316851572341), (821, 0.025552205195722013), (822, 0.030461357078860295), (823, 0.0), (824, 0.006058290329544225), (825, 0.014060669003636821), (826, 0.01307506904231847), (827, 0.005016360920884185), (828, 0.0), (829, 0.02859455389181855), (830, 0.009681240261321588), (831, 0.0), (832, 0.01813363757127545), (833, 0.006566042530909622), (834, 0.0069588135760778385), (835, 0.006633558865424769), (836, 0.018621761264508072), (837, 0.0), (838, 0.006523836263986114), (839, 0.0), (840, 0.02504995908905411), (841, 0.009552718682767707), (842, 0.06788019711074801), (843, 0.0057696886941964185), (844, 0.007562152039129121), (845, 0.005535806893550323), (846, 0.018338654968444175), (847, 0.017935460907935123), (848, 0.014106545382610537), (849, 0.03336112916872042), (850, 0.015922583326201962), (851, 0.02313701659857617), (852, 0.03141948422358373), (853, 0.02237080174065838), (854, 0.013277275836444898), (855, 0.0), (856, 0.047615376050590644), (857, 0.0), (858, 0.008975481939558527), (859, 0.028190618558790095), (860, 0.0), (861, 0.027830721392474733), (862, 0.03418690661076229), (863, 0.008418484877974546), (864, 0.02511036182086078), (865, 0.0), (866, 0.012933491012172995), (867, 0.01382904264328535), (868, 0.012986960629156363), (869, 0.005421521827956554), (870, 0.015293562482360648), (871, 0.01610265969664545), (872, 0.013124921116094274), (873, 0.0), (874, 0.02092558940881614), (875, 0.023563950925238587), (876, 0.0), (877, 0.0), (878, 0.030056227095447672), (879, 0.0), (880, 0.020819930526406117), (881, 0.027213612117653885), (882, 0.03254983124672541), (883, 0.016549151808548684), (884, 0.009051379552591311), (885, 0.007735824133838312), (886, 0.0), (887, 0.022968024005009538), (888, 0.009642057417095113), (889, 0.0), (890, 0.00899484782134465), (891, 0.023818975369588005), (892, 0.0), (893, 0.007844875898342967), (894, 0.008543538403055068), (895, 0.03717835620147056), (896, 0.0), (897, 0.024525453669729837), (898, 0.023375860627924606), (899, 0.020885032059201614), (900, 0.006559792611320262), (901, 0.0), (902, 0.012576235867334773), (903, 0.015168377895713635), (904, 0.10232723973821155), (905, 0.0958935386885064), (906, 0.02721082768416737), (907, 0.007931238551442015), (908, 0.04200835224151513), (909, 0.03770453914844993), (910, 0.0), (911, 0.027956350170136687), (912, 0.026672875008802888), (913, 0.058689268937205614), (914, 0.02003579330742996), (915, 0.020096177082434122), (916, 0.014492435150084497), (917, 0.0), (918, 0.02161273656642505), (919, 0.02122344662678262), (920, 0.006400522204154661), (921, 0.013018458026841302), (922, 0.0), (923, 0.017247350949584433), (924, 0.01362360060826239), (925, 0.0), (926, 0.005437934278912629), (927, 0.0), (928, 0.024129101595826256), (929, 0.016257312343796005), (930, 0.018308419031163665), (931, 0.008618602415544506), (932, 0.0), (933, 0.0), (934, 0.03690242087419092), (935, 0.030550737547289902), (936, 0.012586018789787524), (937, 0.0), (938, 0.030690105713043557), (939, 0.0), (940, 0.0196933997836545), (941, 0.0), (942, 0.0), (943, 0.009231835925966188), (944, 0.0), (945, 0.08627046094344668), (946, 0.012200151307357278), (947, 0.007132835047881706), (948, 0.017517317233056034), (949, 0.019299823676010453), (950, 0.0), (951, 0.02371778154412782), (952, 0.02275243273860542), (953, 0.017007511519822122), (954, 0.05068724747270145), (955, 0.0), (956, 0.013432213009059005), (957, 0.06005823241824538), (958, 0.006412692815538424), (959, 0.0), (960, 0.05995108390114315), (961, 0.021854891762847495), (962, 0.023008510973384896), (963, 0.03575691996118022), (964, 0.0), (965, 0.01223308357426942), (966, 0.06458333033975522), (967, 0.0), (968, 0.012710793705994556), (969, 0.0), (970, 0.0379529187875318), (971, 0.008877327521836596), (972, 0.0), (973, 0.03009065329076338), (974, 0.013023711177018102), (975, 0.012444395608449043), (976, 0.0), (977, 0.05534573307395309), (978, 0.007977293091470126), (979, 0.006203900611589746), (980, 0.008991519421488686), (981, 0.028121711932559038), (982, 0.01897473750550166), (983, 0.0), (984, 0.01703572330001342), (985, 0.0), (986, 0.0052837342395936696), (987, 0.0), (988, 0.01720759542139076), (989, 0.0), (990, 0.04433101785248349), (991, 0.02267426367206744), (992, 0.015509762000405814), (993, 0.032189958208677), (994, 0.023055944684323277), (995, 0.025346794754518346), (996, 0.007461543321133762), (997, 0.012579991784212282), (998, 0.0), (999, 0.0), (1000, 0.012513298398274027), (1001, 0.028124351371817125), (1002, 0.02520989783600906), (1003, 0.0), (1004, 0.0), (1005, 0.02258862000249596), (1006, 0.04071461728275462), (1007, 0.02024652919463365), (1008, 0.0), (1009, 0.006224020448670677), (1010, 0.011766914823198124), (1011, 0.03145971748803439), (1012, 0.042207166117952825), (1013, 0.007366985263979234), (1014, 0.014254638586315175), (1015, 0.013299963496555512), (1016, 0.006262650804407218), (1017, 0.02936674241114506), (1018, 0.013638926048920669), (1019, 0.0066576659433194895), (1020, 0.006731010766094687), (1021, 0.00698845616284087), (1022, 0.024185403527429733), (1023, 0.013830210486449895), (1024, 0.005507382961155353), (1025, 0.007685615317863886), (1026, 0.0), (1027, 0.0), (1028, 0.013119600344987693), (1029, 0.03840056859091373), (1030, 0.008421375489416343), (1031, 0.02404177394291196), (1032, 0.0), (1033, 0.03670858106926315), (1034, 0.0), (1035, 0.013515481315033209), (1036, 0.0), (1037, 0.005707207599679395), (1038, 0.0), (1039, 0.015681472951289393), (1040, 0.0), (1041, 0.02435763705656233), (1042, 0.007265974102231772), (1043, 0.040175182067088006), (1044, 0.01355010414400632), (1045, 0.03423115128472384), (1046, 0.029757909059505826), (1047, 0.01805003811299162), (1048, 0.016253042184960067), (1049, 0.0), (1050, 0.013351341531322504), (1051, 0.03436043151139774), (1052, 0.035091342967471496), (1053, 0.0), (1054, 0.013136932673276525), (1055, 0.01928773987303979), (1056, 0.024602325894636956), (1057, 0.015555940297984332), (1058, 0.0), (1059, 0.008537232056965218), (1060, 0.02946807599049792), (1061, 0.0), (1062, 0.0), (1063, 0.011845516304949935), (1064, 0.0), (1065, 0.01325067544754386), (1066, 0.020756539515498596), (1067, 0.03509390845915938), (1068, 0.02675779085511608), (1069, 0.059321948099236244), (1070, 0.0), (1071, 0.036814920507389735), (1072, 0.0), (1073, 0.0), (1074, 0.012341498442416828), (1075, 0.007390794598779332), (1076, 0.00509710337008916), (1077, 0.01597853256760557), (1078, 0.0), (1079, 0.006411519190647069), (1080, 0.0), (1081, 0.0), (1082, 0.00519324847630251), (1083, 0.0), (1084, 0.026073798039740158), (1085, 0.007107765565280962), (1086, 0.0), (1087, 0.03175733561628344), (1088, 0.0), (1089, 0.01012549539818252), (1090, 0.052788287098952204), (1091, 0.033028839573795016), (1092, 0.004407374107867262), (1093, 0.0), (1094, 0.006866045662538734), (1095, 0.021684999642639466), (1096, 0.011969817797735526), (1097, 0.0), (1098, 0.0), (1099, 0.02043960231581809), (1100, 0.03200160368101863), (1101, 0.018722277356048683), (1102, 0.00524800676703649), (1103, 0.014324405318841152), (1104, 0.028465150745173654), (1105, 0.026334257779762907), (1106, 0.02444297107736967), (1107, 0.0), (1108, 0.012509237501691937), (1109, 0.033866861101838217), (1110, 0.009052601627223602), (1111, 0.09160678416372882), (1112, 0.009172933476593644), (1113, 0.12722643271405384), (1114, 0.035302868264630444), (1115, 0.009851068342296697), (1116, 0.021515287015528718), (1117, 0.0), (1118, 0.06444270959525482), (1119, 0.0), (1120, 0.007353009584673613), (1121, 0.0), (1122, 0.005383426253650337), (1123, 0.0), (1124, 0.016293296476275893), (1125, 0.008850101776929981), (1126, 0.0068846784774184), (1127, 0.005204468699700605), (1128, 0.006874673024973595), (1129, 0.05771379160882244), (1130, 0.008451141466871849), (1131, 0.02729903269756482), (1132, 0.00819647556046683), (1133, 0.00918995369140456), (1134, 0.027194570403069968), (1135, 0.01137680862967795), (1136, 0.021272798817432166), (1137, 0.011484280218118207), (1138, 0.00534894942564245), (1139, 0.0), (1140, 0.009234523873338238), (1141, 0.013148627561358943), (1142, 0.02212917090702524), (1143, 0.05121125061216785), (1144, 0.012469645693194439), (1145, 0.0), (1146, 0.015122812608386625), (1147, 0.0), (1148, 0.0), (1149, 0.0), (1150, 0.04530900321446807), (1151, 0.012293213796597008), (1152, 0.0), (1153, 0.0037074628234910947), (1154, 0.004713148081150241), (1155, 0.030853205186144053), (1156, 0.019152308838985405), (1157, 0.020788000001006064), (1158, 0.0), (1159, 0.009114418155458175), (1160, 0.0), (1161, 0.0), (1162, 0.02107748600424465), (1163, 0.01787804152710351), (1164, 0.01178830035507627), (1165, 0.007222082900125758), (1166, 0.013550307068701799), (1167, 0.0), (1168, 0.020803649763238286), (1169, 0.0), (1170, 0.00863424677348645), (1171, 0.02694662080179755), (1172, 0.03346758548921668), (1173, 0.03358334407871003), (1174, 0.005405690068157586), (1175, 0.04176926268660661), (1176, 0.021561950811451052), (1177, 0.0), (1178, 0.007326528229216171), (1179, 0.02958019643749531), (1180, 0.0), (1181, 0.0), (1182, 0.007158155773955485), (1183, 0.004908104832793791), (1184, 0.02043181193589387), (1185, 0.031168468968575856), (1186, 0.015211881258498126), (1187, 0.0), (1188, 0.0), (1189, 0.0), (1190, 0.02008263647633128), (1191, 0.026563221511963355), (1192, 0.025423126975845534), (1193, 0.0), (1194, 0.01975668748707142), (1195, 0.05488204342845858), (1196, 0.030135015146773636), (1197, 0.036688081682623955), (1198, 0.006901471528629541), (1199, 0.00767452758458605), (1200, 0.008371093848723062), (1201, 0.0), (1202, 0.0), (1203, 0.0), (1204, 0.0), (1205, 0.0), (1206, 0.027656229633891104), (1207, 0.011712429968763574), (1208, 0.010995532425217114), (1209, 0.0), (1210, 0.03400058411653187), (1211, 0.012595950987031757), (1212, 0.02278450709813469), (1213, 0.0), (1214, 0.01889759787826816), (1215, 0.013387688555259479), (1216, 0.06132099036334236), (1217, 0.0), (1218, 0.04546422163947532), (1219, 0.014516834840892764), (1220, 0.022428987532623578), (1221, 0.012966707739282836), (1222, 0.011143681331085604), (1223, 0.02986287247449978), (1224, 0.018163001692449665), (1225, 0.012933485974947048), (1226, 0.012179831671710967), (1227, 0.009200412962429766), (1228, 0.007481816933162617), (1229, 0.005520405291122905), (1230, 0.005075394158694362), (1231, 0.0066810511826923), (1232, 0.01339566072126724), (1233, 0.030678818710267376), (1234, 0.00921255032706712), (1235, 0.0), (1236, 0.007911900514963764), (1237, 0.0), (1238, 0.022458467444267327), (1239, 0.02245061442124778), (1240, 0.036997694632788077), (1241, 0.025679015590577205), (1242, 0.006378161754670635), (1243, 0.010045303396935731), (1244, 0.03111927998322549), (1245, 0.020475522803425177), (1246, 0.041535076248609276), (1247, 0.008402865599443322), (1248, 0.0), (1249, 0.038462688102526864), (1250, 0.03747065363420044), (1251, 0.02352603260972985), (1252, 0.0052389278673492445), (1253, 0.039150052459037105), (1254, 0.07187220071564016), (1255, 0.02804738266387081), (1256, 0.028158493870165967), (1257, 0.036035169873070476), (1258, 0.051526086822057934), (1259, 0.03643328492940691), (1260, 0.0), (1261, 0.020451523912538693), (1262, 0.027826017735242084), (1263, 0.012089906627506121), (1264, 0.0), (1265, 0.02521207773926981), (1266, 0.04497351863902274), (1267, 0.015119656300114411), (1268, 0.0), (1269, 0.012240122596789492), (1270, 0.024256504026698343), (1271, 0.01879077915288582), (1272, 0.0068696222210770696), (1273, 0.028641202829680894), (1274, 0.02195867323396178), (1275, 0.010626707277470525), (1276, 0.02377417806440496), (1277, 0.006449487121891784), (1278, 0.050723665288374395), (1279, 0.013168322437959203), (1280, 0.013054897285490107), (1281, 0.004826281817732216), (1282, 0.00922033456712868), (1283, 0.029357615582207286), (1284, 0.008468880336989271), (1285, 0.005062453218191286), (1286, 0.0), (1287, 0.006717336946290797), (1288, 0.034201405332327225), (1289, 0.0), (1290, 0.004684596198497563), (1291, 0.01597783228372564), (1292, 0.0051998547210047805), (1293, 0.025270930576264467), (1294, 0.0), (1295, 0.0), (1296, 0.04855977118813261), (1297, 0.008631779390818347), (1298, 0.0), (1299, 0.009667897249599856), (1300, 0.007356362693738869), (1301, 0.037459818510105214), (1302, 0.01247890693819807), (1303, 0.0), (1304, 0.01725484487632459), (1305, 0.04722877496047101), (1306, 0.024030923437612872), (1307, 0.029396084044767592), (1308, 0.04012593783920064), (1309, 0.010492657369063883), (1310, 0.04279446096975902), (1311, 0.0), (1312, 0.020540757790681947), (1313, 0.0), (1314, 0.045478576897642724), (1315, 0.011925039253873783), (1316, 0.014600248265460834), (1317, 0.005684493633348635), (1318, 0.0), (1319, 0.025384643813164992), (1320, 0.020732699435997315), (1321, 0.06773149787653243), (1322, 0.008779550651585753), (1323, 0.0), (1324, 0.013077694322125084), (1325, 0.01996457065142538), (1326, 0.010008153688889071), (1327, 0.013301608420574436), (1328, 0.012928519425687117), (1329, 0.023945093471089814), (1330, 0.0), (1331, 0.03796167291223114), (1332, 0.04938073368042486), (1333, 0.13068374655395776), (1334, 0.0), (1335, 0.02291337124128508), (1336, 0.009055777132647711), (1337, 0.005396201977465209), (1338, 0.03079681150960289), (1339, 0.009789223847432792), (1340, 0.0), (1341, 0.08071592713756694), (1342, 0.0), (1343, 0.010252565711363477), (1344, 0.00703488066077204), (1345, 0.02026403129444071), (1346, 0.04224769245230761), (1347, 0.008330454689974162), (1348, 0.004605905021407825), (1349, 0.009717671134050877), (1350, 0.011942206214964658), (1351, 0.028995463217194494), (1352, 0.01774004418947388), (1353, 0.0), (1354, 0.027221778617805746), (1355, 0.0), (1356, 0.0), (1357, 0.00487293004149942), (1358, 0.012082826055378425), (1359, 0.007538981476804395), (1360, 0.007849378948248109), (1361, 0.0), (1362, 0.0), (1363, 0.020046857583594504), (1364, 0.01798892392507577), (1365, 0.044299377582283944), (1366, 0.011058961937472219), (1367, 0.0), (1368, 0.04053069598605018), (1369, 0.04932365223179318), (1370, 0.018213454121505088), (1371, 0.009664032532244429), (1372, 0.00816098754584448), (1373, 0.03557421675426138), (1374, 0.06474237812658003), (1375, 0.01646589973260116), (1376, 0.013324036277706666), (1377, 0.016882188941668905), (1378, 0.021105315751189836), (1379, 0.016707413927038835), (1380, 0.031200577991089037), (1381, 0.023966124525582617), (1382, 0.0072417390219564615), (1383, 0.009820637659173057), (1384, 0.044794540972179775), (1385, 0.019300071214862248), (1386, 0.03393926962594525), (1387, 0.023067787234758767), (1388, 0.007002481366285622), (1389, 0.007341857821616284), (1390, 0.009278847038387387), (1391, 0.0), (1392, 0.026448761112298658), (1393, 0.005552211322246051), (1394, 0.0076411720278189085), (1395, 0.006942284329374803), (1396, 0.038197004748163704), (1397, 0.006029246257752165), (1398, 0.014192261568751181), (1399, 0.024405007635901064), (1400, 0.022266251231825275), (1401, 0.03190423599262642), (1402, 0.009043802116590928), (1403, 0.01617133001239582), (1404, 0.0081525020658841), (1405, 0.0185704905855433), (1406, 0.005167940682605174), (1407, 0.007455862493394167), (1408, 0.02205375027121376), (1409, 0.00930729554340582), (1410, 0.0), (1411, 0.008522509796373789), (1412, 0.0414429293439807), (1413, 0.039339341745890544), (1414, 0.03846498526194156), (1415, 0.0), (1416, 0.0), (1417, 0.009604209585461751), (1418, 0.049704904714926335), (1419, 0.0052940713564058), (1420, 0.053793000644887845), (1421, 0.016701318874297082), (1422, 0.008397335062408043), (1423, 0.008173579229756072), (1424, 0.0), (1425, 0.025279934485965938), (1426, 0.009137417348774214), (1427, 0.0), (1428, 0.0), (1429, 0.0), (1430, 0.028469410507207707), (1431, 0.03881380475386865), (1432, 0.015101365460608472), (1433, 0.0), (1434, 0.0), (1435, 0.00889442272547148), (1436, 0.022097196016710164), (1437, 0.013892123740742897), (1438, 0.0), (1439, 0.0), (1440, 0.012449157677986227), (1441, 0.0), (1442, 0.013773393398952352), (1443, 0.037728894323857134), (1444, 0.0), (1445, 0.0), (1446, 0.014988264995135933), (1447, 0.0085067652281564), (1448, 0.0), (1449, 0.0), (1450, 0.04697800390604835), (1451, 0.016202322699951813), (1452, 0.009734601804035223), (1453, 0.030219313517518817), (1454, 0.005807926312144946), (1455, 0.02858338083138018), (1456, 0.008005213876894774), (1457, 0.0), (1458, 0.018171345487270382), (1459, 0.029046374603923085), (1460, 0.013572352484947576), (1461, 0.015815496109380912), (1462, 0.0), (1463, 0.016703472921931133), (1464, 0.014129480265294451), (1465, 0.04618743841313316), (1466, 0.04905891990519502), (1467, 0.05575160811621457), (1468, 0.0372351218013192), (1469, 0.005474124126076737), (1470, 0.012689935098706018), (1471, 0.03356942489618271), (1472, 0.039622147473290875), (1473, 0.0), (1474, 0.027095773232563618), (1475, 0.01458229805558684), (1476, 0.009330723250327778), (1477, 0.022381087759906014), (1478, 0.043251874725148395), (1479, 0.0), (1480, 0.008560283259871203), (1481, 0.0), (1482, 0.007538585695924029), (1483, 0.013879127056492302), (1484, 0.005593401554645397), (1485, 0.0), (1486, 0.023048025921944937), (1487, 0.05236354929595652), (1488, 0.0), (1489, 0.0), (1490, 0.006661568027486962), (1491, 0.0), (1492, 0.006071523423403648), (1493, 0.04433544627325031), (1494, 0.02499763040228133), (1495, 0.0961889423177075), (1496, 0.016208875850715704), (1497, 0.0), (1498, 0.009672057605071513), (1499, 0.010309637376717065), (1500, 0.032496615559177135), (1501, 0.03299836482384671), (1502, 0.023878770706117013), (1503, 0.029848481734308985), (1504, 0.005237126956038295), (1505, 0.0070362439031750115), (1506, 0.02252323047289762), (1507, 0.0), (1508, 0.0), (1509, 0.010684785606972088), (1510, 0.04953538127453265), (1511, 0.05247932381487361), (1512, 0.05006541761180549), (1513, 0.005508285219135204), (1514, 0.012945496996741905), (1515, 0.07881399814371035), (1516, 0.005445674397822561), (1517, 0.04040109181431943), (1518, 0.009369749529828688), (1519, 0.01453285979642158), (1520, 0.00925829689607899), (1521, 0.013470318143201036), (1522, 0.029798482806166038), (1523, 0.0), (1524, 0.007898835121159431), (1525, 0.03050045805178498), (1526, 0.02764916703284164), (1527, 0.005174993252920728), (1528, 0.0), (1529, 0.03201676994628048), (1530, 0.017103183963811695), (1531, 0.0), (1532, 0.0), (1533, 0.021427058070440576), (1534, 0.00905414519522255), (1535, 0.0190141562606629), (1536, 0.0054986396796876105), (1537, 0.014894967550120895), (1538, 0.0063682950600250764), (1539, 0.03278179474472459), (1540, 0.14326199460383862), (1541, 0.0), (1542, 0.0), (1543, 0.0), (1544, 0.013916809678933051), (1545, 0.005070629809131464), (1546, 0.011968464022409656), (1547, 0.014278991622907296), (1548, 0.047142103085912025), (1549, 0.0), (1550, 0.0), (1551, 0.015372094895767765), (1552, 0.018429622066088988), (1553, 0.021415347567340766), (1554, 0.02307673018334566), (1555, 0.008028831259748095), (1556, 0.008626046446464496), (1557, 0.0), (1558, 0.0), (1559, 0.01896886513402919), (1560, 0.005958672797129314), (1561, 0.0), (1562, 0.012312799317905338), (1563, 0.0), (1564, 0.014248553413121739), (1565, 0.025427311464247433), (1566, 0.012269737274836514), (1567, 0.0174610115779405), (1568, 0.007870416559445353), (1569, 0.051105948332648324), (1570, 0.012893391921564025), (1571, 0.020123697703096924), (1572, 0.03465480566987801), (1573, 0.0), (1574, 0.00870332235952576), (1575, 0.040651512322347885), (1576, 0.0042353661452484235), (1577, 0.03913271579826727), (1578, 0.1218507485725904), (1579, 0.035844363603883725), (1580, 0.0), (1581, 0.02821048857481967), (1582, 0.0), (1583, 0.017135236892292297), (1584, 0.023628985219708), (1585, 0.0), (1586, 0.02756118404370004), (1587, 0.02125858548207528), (1588, 0.02351247623204254), (1589, 0.0), (1590, 0.0), (1591, 0.016790290142500542), (1592, 0.0208223722949546), (1593, 0.0), (1594, 0.019312512154223197), (1595, 0.007804966359619739), (1596, 0.0), (1597, 0.025560087336663744), (1598, 0.006882494339505973), (1599, 0.005353754889333971), (1600, 0.037839742767944086), (1601, 0.024938249916844037), (1602, 0.009555436341338248), (1603, 0.035033053281450614), (1604, 0.03309855336026794), (1605, 0.021077268872199646), (1606, 0.00856751438929016), (1607, 0.00678968456558121), (1608, 0.022904712793410685), (1609, 0.0), (1610, 0.019557114921481714), (1611, 0.07738679872920809), (1612, 0.0069864068133186396), (1613, 0.030942368105799964), (1614, 0.0), (1615, 0.03327097856471594), (1616, 0.037125839969841555), (1617, 0.016913147285095485), (1618, 0.0), (1619, 0.016667858146171652), (1620, 0.008064453323751972), (1621, 0.0), (1622, 0.0), (1623, 0.0), (1624, 0.0), (1625, 0.0), (1626, 0.019859673037379795), (1627, 0.022576353401136805), (1628, 0.0), (1629, 0.016222572673222677), (1630, 0.025105490660125997), (1631, 0.008254021748535356), (1632, 0.030637982092717807), (1633, 0.02018365419032676), (1634, 0.0), (1635, 0.0), (1636, 0.008886132370315814), (1637, 0.01921094360105087), (1638, 0.0), (1639, 0.0), (1640, 0.016845435660841998), (1641, 0.0), (1642, 0.007982147148796095), (1643, 0.009054549690238804), (1644, 0.007008004162371714), (1645, 0.020175618227148265), (1646, 0.0), (1647, 0.006632020032827405), (1648, 0.012881435931247175), (1649, 0.03969499919781846), (1650, 0.03543076916433539), (1651, 0.009596678137373967), (1652, 0.018736397124920923), (1653, 0.022050698688885984), (1654, 0.013393920867074811), (1655, 0.008534318867256824), (1656, 0.0), (1657, 0.013093529547043136), (1658, 0.0077675866424516205), (1659, 0.014909178489806541), (1660, 0.009011208872932441), (1661, 0.0), (1662, 0.014577206794681188), (1663, 0.0), (1664, 0.033253687737777565), (1665, 0.00495098591424914), (1666, 0.0301189427925001), (1667, 0.0), (1668, 0.016607861975208343), (1669, 0.04730676179178619), (1670, 0.009693362474463679), (1671, 0.0), (1672, 0.012169054398648948), (1673, 0.02171961341684227), (1674, 0.0), (1675, 0.042665099068472656), (1676, 0.0), (1677, 0.0), (1678, 0.029965832695653533), (1679, 0.01868953128920772), (1680, 0.012703506579754742), (1681, 0.15366093144614124), (1682, 0.02126114277544228), (1683, 0.03245908037217009), (1684, 0.0246486837908343), (1685, 0.0074229677647049625), (1686, 0.007127945842519066), (1687, 0.014750787953679845), (1688, 0.024743332492831678), (1689, 0.018097288618160703), (1690, 0.006321114159637689), (1691, 0.014717951070784965), (1692, 0.03385950319139461), (1693, 0.0), (1694, 0.0), (1695, 0.023418857889612316), (1696, 0.025100211274784418), (1697, 0.04557604057143598), (1698, 0.06876992285694522), (1699, 0.0), (1700, 0.06384296363910588), (1701, 0.06486453695149616), (1702, 0.008964021851558457), (1703, 0.0), (1704, 0.008791550371008833), (1705, 0.013128320282670582), (1706, 0.007035623353795555), (1707, 0.04165629556846892), (1708, 0.013214791425365604), (1709, 0.034169783663649166), (1710, 0.014815595503027596), (1711, 0.0), (1712, 0.007499325857395255), (1713, 0.06500050193233559), (1714, 0.025548728469112478), (1715, 0.006283593205551708), (1716, 0.019429182136726692), (1717, 0.0), (1718, 0.016394142448431463), (1719, 0.0313383235394772), (1720, 0.0), (1721, 0.026696311526587295), (1722, 0.0), (1723, 0.014682623526364097), (1724, 0.009367363788762142), (1725, 0.0421201090239715), (1726, 0.03052615890724794), (1727, 0.00549783490701097), (1728, 0.025102712504240766), (1729, 0.0), (1730, 0.006396345069580142), (1731, 0.007474923091528921), (1732, 0.13151019053607485), (1733, 0.009456475824320004), (1734, 0.019469299846743497), (1735, 0.07177972878969696), (1736, 0.12838464360565432), (1737, 0.0387171997713948), (1738, 0.023549406185762664), (1739, 0.0), (1740, 0.005394062432900084), (1741, 0.0), (1742, 0.016380753587021693), (1743, 0.024627990620417563), (1744, 0.0), (1745, 0.010493514280548672), (1746, 0.022646248018402003), (1747, 0.005459985194950188), (1748, 0.031855242867792725), (1749, 0.0049594749403497115), (1750, 0.01887768029554324), (1751, 0.0140758328611253), (1752, 0.0), (1753, 0.0), (1754, 0.010145382190325002), (1755, 0.08425056085200464), (1756, 0.016817862625683182), (1757, 0.0), (1758, 0.01803531175045321), (1759, 0.0), (1760, 0.0705418177531611), (1761, 0.007169707403981657), (1762, 0.01395291975138056), (1763, 0.0), (1764, 0.031660251184619945), (1765, 0.0), (1766, 0.0), (1767, 0.0), (1768, 0.008867256248815453), (1769, 0.0), (1770, 0.013229761826227076), (1771, 0.033553785657176656), (1772, 0.0181227711184356), (1773, 0.006873937353309967), (1774, 0.015506828203050937), (1775, 0.0), (1776, 0.0), (1777, 0.0), (1778, 0.00803322255363447), (1779, 0.021622345130223965), (1780, 0.0), (1781, 0.01917582842749295), (1782, 0.01584509514691329), (1783, 0.0), (1784, 0.09669182663465674), (1785, 0.0), (1786, 0.00956836821604718), (1787, 0.029627276250021796), (1788, 0.11512033774631325), (1789, 0.06042113036076367), (1790, 0.008363645771469686), (1791, 0.09388066794212262), (1792, 0.0), (1793, 0.014659291850864706), (1794, 0.007891743389706002), (1795, 0.0), (1796, 0.012762404222723778), (1797, 0.01882234333671568), (1798, 0.04677649802300432), (1799, 0.16089450005652564), (1800, 0.0), (1801, 0.0), (1802, 0.04088644566203238), (1803, 0.0), (1804, 0.03856435681276109), (1805, 0.009478645697124343), (1806, 0.0), (1807, 0.015341409904066579), (1808, 0.007734777566290587), (1809, 0.025214925784508166), (1810, 0.023788263134006764), (1811, 0.013186217421388612), (1812, 0.03901743989977497), (1813, 0.07037556294806091), (1814, 0.008479909487216141), (1815, 0.016191904919848427), (1816, 0.007774437560902002), (1817, 0.015479754369955849), (1818, 0.04060183905740495), (1819, 0.0), (1820, 0.012361997411026645), (1821, 0.06633459300678507), (1822, 0.005581883086102724), (1823, 0.020851676252788588), (1824, 0.008106941967296907), (1825, 0.0471071494914359), (1826, 0.0), (1827, 0.007867115061493303), (1828, 0.04289143881305676), (1829, 0.009469818482195682), (1830, 0.0), (1831, 0.008601976732981863), (1832, 0.0), (1833, 0.02336054006940886), (1834, 0.0), (1835, 0.009128246967887176), (1836, 0.023453310654316238), (1837, 0.0), (1838, 0.0), (1839, 0.0), (1840, 0.024210723015827926), (1841, 0.060567170848522936), (1842, 0.0), (1843, 0.015915098381151946), (1844, 0.10201289204738176), (1845, 0.032255788809742635), (1846, 0.011943021209374047), (1847, 0.005459447282387487), (1848, 0.009914217451812429), (1849, 0.006906852876183433), (1850, 0.021396257204082197), (1851, 0.008978893444873308), (1852, 0.015423567867195943), (1853, 0.005597033762834585), (1854, 0.0), (1855, 0.026278762232657283), (1856, 0.0), (1857, 0.008490540956197602), (1858, 0.019955743151293902), (1859, 0.018805482008809583), (1860, 0.016162340702171055), (1861, 0.0), (1862, 0.0), (1863, 0.006059261999323106), (1864, 0.015115743135880717), (1865, 0.0), (1866, 0.0), (1867, 0.006928882399639533), (1868, 0.0), (1869, 0.0), (1870, 0.03811971108190624), (1871, 0.013848693367123036), (1872, 0.0), (1873, 0.007022879323936128), (1874, 0.0), (1875, 0.01436264462306697), (1876, 0.01237438684870035), (1877, 0.008229913570688243), (1878, 0.03857754264476072), (1879, 0.0), (1880, 0.0), (1881, 0.024184281099773428), (1882, 0.0), (1883, 0.013341060934480443), (1884, 0.0), (1885, 0.010791066068262675), (1886, 0.01659941319097864), (1887, 0.009773672322194714), (1888, 0.008472170339795165), (1889, 0.00707842297766167), (1890, 0.0), (1891, 0.0), (1892, 0.0), (1893, 0.009096557620424828), (1894, 0.013285277831519532), (1895, 0.01967354821601748), (1896, 0.018919622738879517), (1897, 0.007606985660957485), (1898, 0.011463703223678125), (1899, 0.01239244363524446), (1900, 0.0), (1901, 0.03647509856628095), (1902, 0.009144443923072548), (1903, 0.04682567759931006), (1904, 0.01296538584098755), (1905, 0.0), (1906, 0.00924100199770106), (1907, 0.009283472367965272), (1908, 0.052714389477105474), (1909, 0.0), (1910, 0.007286025641453361), (1911, 0.01452619219038144), (1912, 0.006675181859251202), (1913, 0.02776897375405334), (1914, 0.020598740764848893), (1915, 0.016404071298098503), (1916, 0.0), (1917, 0.0), (1918, 0.01891755012363341), (1919, 0.034390658643481085), (1920, 0.006487028167279091), (1921, 0.008230766527742902), (1922, 0.009297021389022551), (1923, 0.0), (1924, 0.00993907738985367), (1925, 0.02258672282561773), (1926, 0.029854011699099542), (1927, 0.0), (1928, 0.01958590052430553), (1929, 0.0), (1930, 0.009310138677604782), (1931, 0.026107952978650803), (1932, 0.029173658139711265), (1933, 0.00897730090057494), (1934, 0.03530622105589462), (1935, 0.022556639322626013), (1936, 0.01970072447451375), (1937, 0.005193954906786485), (1938, 0.0), (1939, 0.016270281241449993), (1940, 0.0), (1941, 0.006328821682056778), (1942, 0.007137975072310113), (1943, 0.018385795971399173), (1944, 0.0), (1945, 0.0374677113685318), (1946, 0.0), (1947, 0.0), (1948, 0.10926697883678246), (1949, 0.014501251988331368), (1950, 0.012775412647745402), (1951, 0.016594192471056438), (1952, 0.009287171000354413), (1953, 0.008948526105902426), (1954, 0.0), (1955, 0.0391853201785011), (1956, 0.0), (1957, 0.057047551626912905), (1958, 0.0), (1959, 0.0), (1960, 0.0), (1961, 0.07222689480616826), (1962, 0.0), (1963, 0.0), (1964, 0.02760886288976541), (1965, 0.02934615408337473), (1966, 0.0), (1967, 0.03956810391887472), (1968, 0.04114465862561656), (1969, 0.030039561792482176), (1970, 0.0), (1971, 0.011792062868878695), (1972, 0.0), (1973, 0.013087531046132531), (1974, 0.020098900143606692), (1975, 0.0), (1976, 0.005906986119208736), (1977, 0.004707975384652942), (1978, 0.0), (1979, 0.0), (1980, 0.0), (1981, 0.014893625502321985), (1982, 0.05427606853312518), (1983, 0.0), (1984, 0.007926906105951285), (1985, 0.03924455683487067), (1986, 0.024071967219189853), (1987, 0.02708725295359067), (1988, 0.04725357951230652), (1989, 0.01299707300512367), (1990, 0.027101952116562515), (1991, 0.0), (1992, 0.012418882957979615), (1993, 0.032859923932994896), (1994, 0.027899530118636724), (1995, 0.025086748775152684), (1996, 0.008359281622418393), (1997, 0.03764474729712872), (1998, 0.02137813197506067), (1999, 0.007875713167040367), (2000, 0.08170352448918439), (2001, 0.0), (2002, 0.0), (2003, 0.008332148990919979), (2004, 0.0), (2005, 0.028127507500082208), (2006, 0.005945960932188593), (2007, 0.0), (2008, 0.006822957462221572), (2009, 0.0), (2010, 0.009681814972506225), (2011, 0.006379605005710865), (2012, 0.01599947644386363), (2013, 0.0360326646690579), (2014, 0.0380024117628512), (2015, 0.021807418881240326), (2016, 0.035480604998088354), (2017, 0.017603585171311407), (2018, 0.01722935914124077), (2019, 0.027902674160355696), (2020, 0.04541958956002405), (2021, 0.011447335592444804), (2022, 0.029786241952118438), (2023, 0.01631430515852391), (2024, 0.013882764252512808), (2025, 0.05319335326243091), (2026, 0.0), (2027, 0.030738389903932288), (2028, 0.013143573237839302), (2029, 0.008420107574926578), (2030, 0.0), (2031, 0.03165864390042138), (2032, 0.010106551108004262), (2033, 0.02402371296402138), (2034, 0.010100596191443552), (2035, 0.0), (2036, 0.01570199574054772), (2037, 0.024690897719019722), (2038, 0.029785838338700868), (2039, 0.014636047586280098), (2040, 0.013592694565813765), (2041, 0.0), (2042, 0.0), (2043, 0.023429953721668197), (2044, 0.015399353514986645), (2045, 0.028354575107925457), (2046, 0.017302809244255295), (2047, 0.02293018474328016), (2048, 0.0071760930503947315), (2049, 0.04001442975498485), (2050, 0.019323437404638114), (2051, 0.007971231146943517), (2052, 0.018017446497387707), (2053, 0.01841250284554903), (2054, 0.0), (2055, 0.11793110203851845), (2056, 0.015071774195181721), (2057, 0.0), (2058, 0.026668986318723106), (2059, 0.0), (2060, 0.026316272537469806), (2061, 0.02282648565944956), (2062, 0.043948926712888706), (2063, 0.0), (2064, 0.01195120887554028), (2065, 0.02651149696536057), (2066, 0.013791779429516125), (2067, 0.02108575832975658), (2068, 0.00875142502306433), (2069, 0.0), (2070, 0.04813048528484715), (2071, 0.0246148929477764), (2072, 0.017951716519913515), (2073, 0.030914390840926283), (2074, 0.04774978881432609), (2075, 0.016064138390757845), (2076, 0.007273943694495051), (2077, 0.006448752864631249), (2078, 0.011064570080577235), (2079, 0.009845449625188503), (2080, 0.0), (2081, 0.005293363889252932), (2082, 0.005736467619369187), (2083, 0.005533730418090739), (2084, 0.009939291116961985), (2085, 0.0055091984601220965), (2086, 0.03168307767961685), (2087, 0.015869870239444497), (2088, 0.005540031986717726), (2089, 0.0), (2090, 0.0), (2091, 0.00536136877988535), (2092, 0.0), (2093, 0.019384696503331106), (2094, 0.03979327423753307), (2095, 0.028644844838075), (2096, 0.016750984858226854), (2097, 0.028956383984855543), (2098, 0.006001338252948924), (2099, 0.0), (2100, 0.047327840433917336), (2101, 0.007677636833544261), (2102, 0.05452333560772164), (2103, 0.027167355698076198), (2104, 0.0), (2105, 0.0), (2106, 0.008993595110031808), (2107, 0.03666281274947341), (2108, 0.0), (2109, 0.02916588170913461), (2110, 0.02286950634222228), (2111, 0.0), (2112, 0.017262738134325287), (2113, 0.11937772926054144), (2114, 0.05447636009611178), (2115, 0.0), (2116, 0.057932341474155664), (2117, 0.011759853328531716), (2118, 0.024405975135645838), (2119, 0.014578975271867061), (2120, 0.0), (2121, 0.015447110574924507), (2122, 0.0), (2123, 0.0), (2124, 0.01133370454788398), (2125, 0.011212736939517918), (2126, 0.0088943944125192), (2127, 0.017532367324583246), (2128, 0.008481038961246742), (2129, 0.0), (2130, 0.007047744875653355), (2131, 0.008285092325044863), (2132, 0.0), (2133, 0.0), (2134, 0.0103014925639921), (2135, 0.007933574765098964), (2136, 0.046161631914397455), (2137, 0.0), (2138, 0.0), (2139, 0.019600794884253266), (2140, 0.0), (2141, 0.0), (2142, 0.0), (2143, 0.014953775070906051), (2144, 0.007076907304025582), (2145, 0.02778133962734993), (2146, 0.0), (2147, 0.00915439691384758), (2148, 0.009545859187886287), (2149, 0.0), (2150, 0.011872266370682293), (2151, 0.0), (2152, 0.0), (2153, 0.012326903712524814), (2154, 0.00898668090730979), (2155, 0.0071385796691677775), (2156, 0.025763902527348108), (2157, 0.007315372402674688), (2158, 0.0), (2159, 0.0), (2160, 0.022833108326879747), (2161, 0.023038385053875822), (2162, 0.0), (2163, 0.0), (2164, 0.013722436977377505), (2165, 0.02573411214947157), (2166, 0.004979930705057413), (2167, 0.024935030280212916), (2168, 0.015325761528670472), (2169, 0.00868030624912405), (2170, 0.01975379497123575), (2171, 0.007532074285963677), (2172, 0.007139969233058103), (2173, 0.0), (2174, 0.006954305510639123), (2175, 0.030370932923851846), (2176, 0.0), (2177, 0.05213174895579696), (2178, 0.022490356547739745), (2179, 0.0), (2180, 0.0159031160628082), (2181, 0.016455764696301608), (2182, 0.005940280252888756), (2183, 0.00646536625289924), (2184, 0.004967153059919314), (2185, 0.038168833386281596), (2186, 0.0), (2187, 0.0), (2188, 0.017693063672942048), (2189, 0.0), (2190, 0.0), (2191, 0.0), (2192, 0.0), (2193, 0.01578276800636344), (2194, 0.0), (2195, 0.017278725704026582), (2196, 0.0), (2197, 0.01040625432151752), (2198, 0.050804604453248), (2199, 0.011988519945713441), (2200, 0.0), (2201, 0.027237735590865852), (2202, 0.0066095968839845615), (2203, 0.006419870727892379), (2204, 0.007311091941384841), (2205, 0.01966024059978066), (2206, 0.005054269375863958), (2207, 0.007964793914079895), (2208, 0.012993996013114205), (2209, 0.0078107949071793), (2210, 0.01414506468780276), (2211, 0.04538433666353231), (2212, 0.005276307525832692), (2213, 0.0), (2214, 0.0), (2215, 0.016190532126513908), (2216, 0.0), (2217, 0.005535655332479529), (2218, 0.043276382895756305), (2219, 0.0), (2220, 0.0), (2221, 0.02600511904589966), (2222, 0.032151704460761044), (2223, 0.03329174383675383), (2224, 0.02138541513499799), (2225, 0.021369015472447208), (2226, 0.0), (2227, 0.004393865090803092), (2228, 0.0), (2229, 0.009507479967198253), (2230, 0.008934617354556813), (2231, 0.0), (2232, 0.00516598218442847), (2233, 0.022918688314847138), (2234, 0.013652891413017584), (2235, 0.0), (2236, 0.03408138560142064), (2237, 0.0339751036722148), (2238, 0.0054760775375946045), (2239, 0.045726408311904), (2240, 0.007634551755758202), (2241, 0.032560546246301766), (2242, 0.028346771799980987), (2243, 0.005671787586824647), (2244, 0.007716212202693383), (2245, 0.030064975690695883), (2246, 0.01729185250361486), (2247, 0.02172322825407251), (2248, 0.0), (2249, 0.007291313905079215), (2250, 0.03974131128102124), (2251, 0.0), (2252, 0.01858497042564338), (2253, 0.010975403982153582), (2254, 0.0), (2255, 0.0), (2256, 0.00827499551979799), (2257, 0.0), (2258, 0.0), (2259, 0.054465208175912314), (2260, 0.031322223037943006), (2261, 0.0), (2262, 0.007769948345022601), (2263, 0.009256429003380837), (2264, 0.0), (2265, 0.025545330891907435), (2266, 0.0), (2267, 0.0), (2268, 0.008329418802777816), (2269, 0.024515948990640857), (2270, 0.0), (2271, 0.0), (2272, 0.008554478826314424), (2273, 0.0), (2274, 0.004865385888995709), (2275, 0.007160774794161784), (2276, 0.012638204318121729), (2277, 0.03710120212168284), (2278, 0.008749606338677456), (2279, 0.0), (2280, 0.00861807416700887), (2281, 0.0), (2282, 0.0), (2283, 0.04840273084341698), (2284, 0.0), (2285, 0.04266866805046761), (2286, 0.03876433294792228), (2287, 0.050452417735842234), (2288, 0.0), (2289, 0.0), (2290, 0.00887785621781011), (2291, 0.013399767637416876), (2292, 0.0), (2293, 0.0), (2294, 0.03165679865781005), (2295, 0.0), (2296, 0.025280120554326234), (2297, 0.02070484594413243), (2298, 0.012098020835556115), (2299, 0.05116617343918436), (2300, 0.0), (2301, 0.04299010786334245), (2302, 0.0), (2303, 0.01475108473259687), (2304, 0.0), (2305, 0.0), (2306, 0.008876514642460441), (2307, 0.0), (2308, 0.0), (2309, 0.006702003694613193), (2310, 0.01231368762877243), (2311, 0.008112975454197717), (2312, 0.0), (2313, 0.02972727705358253), (2314, 0.0), (2315, 0.004873854042749106), (2316, 0.020599805845385098), (2317, 0.007980037375341776), (2318, 0.020034959009564757), (2319, 0.05663157187938597), (2320, 0.020052485900666786), (2321, 0.008938271662965585), (2322, 0.0419262041574276), (2323, 0.0), (2324, 0.008995652029838019), (2325, 0.0), (2326, 0.006772258475754273), (2327, 0.016152311873467586), (2328, 0.0), (2329, 0.015298090587024894), (2330, 0.04441464989908082), (2331, 0.0), (2332, 0.007184845526397169), (2333, 0.0), (2334, 0.008877018683535276), (2335, 0.05792666811572696), (2336, 0.0), (2337, 0.0073815709486898615), (2338, 0.023444425461571553), (2339, 0.017764063699763986), (2340, 0.013326048007020122), (2341, 0.0), (2342, 0.0), (2343, 0.0), (2344, 0.0), (2345, 0.009601006109835192), (2346, 0.0), (2347, 0.0), (2348, 0.008674839147318272), (2349, 0.0), (2350, 0.0), (2351, 0.010294434445054762), (2352, 0.005958565328500477), (2353, 0.012622590798909289), (2354, 0.023353645638590177), (2355, 0.0), (2356, 0.013705193934496086), (2357, 0.0), (2358, 0.0), (2359, 0.025617917864874662), (2360, 0.0), (2361, 0.16436286018967577), (2362, 0.0), (2363, 0.06411178504437577), (2364, 0.005605723826406364), (2365, 0.00947864038400091), (2366, 0.0), (2367, 0.02483905300570033), (2368, 0.0), (2369, 0.0), (2370, 0.0), (2371, 0.022882148290665087), (2372, 0.0), (2373, 0.0), (2374, 0.008816973988683911), (2375, 0.009557633176744375), (2376, 0.08780951941930829), (2377, 0.013752426983570867), (2378, 0.006222907678555047), (2379, 0.0), (2380, 0.0), (2381, 0.013668956673397537), (2382, 0.0), (2383, 0.005879438751956338), (2384, 0.009689344779481199), (2385, 0.009700189631531533), (2386, 0.027817220976870245), (2387, 0.009189730570643175), (2388, 0.0), (2389, 0.02977770481593621), (2390, 0.010096213157671095), (2391, 0.0), (2392, 0.0), (2393, 0.0), (2394, 0.0), (2395, 0.0), (2396, 0.008778918931738464), (2397, 0.0), (2398, 0.016547793044940348), (2399, 0.004881025116375862), (2400, 0.009839990601358978), (2401, 0.0), (2402, 0.007878776529550722), (2403, 0.018701017670141148), (2404, 0.01252657288472584), (2405, 0.0), (2406, 0.0), (2407, 0.0), (2408, 0.013163126423484908), (2409, 0.008214219244840126), (2410, 0.0), (2411, 0.023918651866372286), (2412, 0.027057601017059504), (2413, 0.012859940380837685), (2414, 0.015721675770184126), (2415, 0.006416338983681599), (2416, 0.008500154265118782), (2417, 0.008214619756813034), (2418, 0.026341100915834127), (2419, 0.0), (2420, 0.0), (2421, 0.08092381574327105), (2422, 0.01674374515286838), (2423, 0.0), (2424, 0.004792849979280218), (2425, 0.0), (2426, 0.017374086572972333), (2427, 0.04497455078732085), (2428, 0.023130870313830976), (2429, 0.004901622336587201), (2430, 0.01750055999113861), (2431, 0.008876410266363354), (2432, 0.021795803510236005), (2433, 0.010736094759594087), (2434, 0.0), (2435, 0.0), (2436, 0.017480858065923283), (2437, 0.023975920099487107), (2438, 0.0), (2439, 0.010101510968759228), (2440, 0.0), (2441, 0.007044921828280337), (2442, 0.04469301892876004), (2443, 0.03335970111506978), (2444, 0.021302919971423605), (2445, 0.012234919743415193), (2446, 0.008010449997798933), (2447, 0.014858693015005687), (2448, 0.0), (2449, 0.0), (2450, 0.006481385523598894), (2451, 0.007488170067773364), (2452, 0.010103765949978557), (2453, 0.0), (2454, 0.0), (2455, 0.0116896068809498), (2456, 0.061001340103853524), (2457, 0.0), (2458, 0.009398796329726417), (2459, 0.006436080379136996), (2460, 0.0), (2461, 0.00843524325399776), (2462, 0.0), (2463, 0.015373940114627588), (2464, 0.0), (2465, 0.008876204672891679), (2466, 0.0), (2467, 0.0), (2468, 0.006178269142928865), (2469, 0.0054930500017988685), (2470, 0.01571290018991376), (2471, 0.0), (2472, 0.02732379215487475), (2473, 0.013321788843430726), (2474, 0.0359653397640325), (2475, 0.0), (2476, 0.006012590421193437), (2477, 0.0), (2478, 0.010572530223150824), (2479, 0.013690278398542957), (2480, 0.015506064656852402), (2481, 0.0188674997820884), (2482, 0.0330289509589952), (2483, 0.0), (2484, 0.0), (2485, 0.02895646529500112), (2486, 0.00984696201818667), (2487, 0.015850916474357178), (2488, 0.0), (2489, 0.0), (2490, 0.0), (2491, 0.007951706615097006), (2492, 0.01735707016384377), (2493, 0.005835895834253749), (2494, 0.016862637063498373), (2495, 0.009208943967657701), (2496, 0.0), (2497, 0.02747427007872876), (2498, 0.026062398828609407), (2499, 0.005622110412049528), (2500, 0.02947154629482314), (2501, 0.02098489686721449), (2502, 0.0), (2503, 0.02413645198697776), (2504, 0.015227879876514805), (2505, 0.0077916806867692305), (2506, 0.012299701701059453), (2507, 0.010004549839904894), (2508, 0.0), (2509, 0.014174920831714873), (2510, 0.037701979194193394), (2511, 0.008939592663054345), (2512, 0.006922093138810466), (2513, 0.06801266919883411), (2514, 0.016022673792129235), (2515, 0.0), (2516, 0.0), (2517, 0.026749727934039024), (2518, 0.009736286034405022), (2519, 0.0), (2520, 0.0), (2521, 0.0068841936442843475), (2522, 0.01306625750211549), (2523, 0.0), (2524, 0.029028646202674854), (2525, 0.016313418344837925), (2526, 0.017932865158313938), (2527, 0.03633521954121833), (2528, 0.0), (2529, 0.0), (2530, 0.015582224318556707), (2531, 0.018586562567477205), (2532, 0.04145442995744919), (2533, 0.0), (2534, 0.01565036367154856), (2535, 0.0), (2536, 0.0), (2537, 0.0), (2538, 0.0), (2539, 0.013604751317064352), (2540, 0.013817266050284677), (2541, 0.0), (2542, 0.0), (2543, 0.0), (2544, 0.01689394148885479), (2545, 0.007309517085815715), (2546, 0.018565807271222826), (2547, 0.01832035624994991), (2548, 0.0), (2549, 0.019478650690642835), (2550, 0.031043442366076784), (2551, 0.01592380074882029), (2552, 0.016197218556110872), (2553, 0.025297871147532944), (2554, 0.012367876465448301), (2555, 0.013941499664213576), (2556, 0.0), (2557, 0.011422200154862953), (2558, 0.0), (2559, 0.01611645816868939), (2560, 0.04724536437000855), (2561, 0.009608330119465177), (2562, 0.018236819211719546), (2563, 0.012935420902088933), (2564, 0.0), (2565, 0.0172123300773279), (2566, 0.00973668878116164), (2567, 0.014548433018242699), (2568, 0.019128845258264596), (2569, 0.0068892904528389), (2570, 0.0), (2571, 0.00833258060064239), (2572, 0.031369391407420455), (2573, 0.015230935842279775), (2574, 0.01359272639952352), (2575, 0.017686539666471584), (2576, 0.005982056505786881), (2577, 0.0), (2578, 0.0), (2579, 0.0), (2580, 0.0), (2581, 0.046539250986193804), (2582, 0.03906970565502245), (2583, 0.013329515315206668), (2584, 0.041590141131116226), (2585, 0.0), (2586, 0.022799916451156338), (2587, 0.01387980639644754), (2588, 0.03430826716765871), (2589, 0.0), (2590, 0.034727401211871914), (2591, 0.023851939785497548), (2592, 0.0), (2593, 0.0), (2594, 0.0), (2595, 0.0), (2596, 0.0), (2597, 0.0), (2598, 0.0), (2599, 0.0), (2600, 0.006671210738897374), (2601, 0.007316902512719675), (2602, 0.0), (2603, 0.01313611157075564), (2604, 0.0), (2605, 0.007278146403703535), (2606, 0.0), (2607, 0.006288701263240741), (2608, 0.0075539378001835), (2609, 0.03916628008740715), (2610, 0.00911459835748063), (2611, 0.007399095461955016), (2612, 0.04944625402696612), (2613, 0.0), (2614, 0.0), (2615, 0.014488242258338925), (2616, 0.08461505144876924), (2617, 0.00811984541508308), (2618, 0.0), (2619, 0.0), (2620, 0.0), (2621, 0.006103970794527358), (2622, 0.04270089680075806), (2623, 0.0), (2624, 0.0), (2625, 0.03580165477001143), (2626, 0.0058033463335515805), (2627, 0.015008555258225899), (2628, 0.0), (2629, 0.0), (2630, 0.009808962846145424), (2631, 0.008190319742800886), (2632, 0.032190040313359466), (2633, 0.08269884943079223), (2634, 0.004940803856807653), (2635, 0.0), (2636, 0.01338934970532962), (2637, 0.026085838159165035), (2638, 0.027655569551355688), (2639, 0.0), (2640, 0.029192470099716705), (2641, 0.031989588539235767), (2642, 0.028503197796917262), (2643, 0.0), (2644, 0.0), (2645, 0.01790450358858651), (2646, 0.026134019011611366), (2647, 0.029963817425286907), (2648, 0.0), (2649, 0.0), (2650, 0.009568686630636153), (2651, 0.0), (2652, 0.021354865638876522), (2653, 0.0067702832290266485), (2654, 0.027110810250503457), (2655, 0.0), (2656, 0.021778626630885325), (2657, 0.02123586139935218), (2658, 0.0), (2659, 0.007616745316789008), (2660, 0.032739485190972833), (2661, 0.0), (2662, 0.01015055004855123), (2663, 0.0), (2664, 0.0), (2665, 0.060599170596186684), (2666, 0.007928301425179042), (2667, 0.007205332858865619), (2668, 0.030407661402284243), (2669, 0.0), (2670, 0.005659903480580197), (2671, 0.0063898910566384986), (2672, 0.04708393951218611), (2673, 0.011473005664574733), (2674, 0.004867525796802696), (2675, 0.009041061986397092), (2676, 0.006063428062204946), (2677, 0.00847646939361211), (2678, 0.0), (2679, 0.0), (2680, 0.028328074516608875), (2681, 0.0), (2682, 0.049397298259351866), (2683, 0.0), (2684, 0.0), (2685, 0.008829169095821095), (2686, 0.0), (2687, 0.0), (2688, 0.0361422637055981), (2689, 0.023970145436081523), (2690, 0.0), (2691, 0.05100337526205852), (2692, 0.0060923938011236784), (2693, 0.0), (2694, 0.0), (2695, 0.0), (2696, 0.015452731055654019), (2697, 0.10280361085864685), (2698, 0.02371487632871207), (2699, 0.00811639988048506), (2700, 0.0), (2701, 0.0), (2702, 0.0), (2703, 0.0), (2704, 0.0), (2705, 0.0), (2706, 0.019896431188894993), (2707, 0.014388922109373991), (2708, 0.02868226660198234), (2709, 0.0), (2710, 0.013784697333715479), (2711, 0.005031410432526263), (2712, 0.03404742381323945), (2713, 0.020459368502433073), (2714, 0.03769874592647018), (2715, 0.03698665246785324), (2716, 0.0), (2717, 0.0), (2718, 0.010698860052538586), (2719, 0.009152630495325094), (2720, 0.016305573132925542), (2721, 0.008002494750733705), (2722, 0.05329875898532666), (2723, 0.0), (2724, 0.015327521139022766), (2725, 0.01668011474869223), (2726, 0.007244520249461004), (2727, 0.0), (2728, 0.0), (2729, 0.054017527341221824), (2730, 0.03260168634552241), (2731, 0.0), (2732, 0.06136788896243614), (2733, 0.02346441172167458), (2734, 0.006854830749462911), (2735, 0.0), (2736, 0.0), (2737, 0.015398510081267719), (2738, 0.02104637046769789), (2739, 0.009464690403066352), (2740, 0.07905692103559578), (2741, 0.006277620336596008), (2742, 0.011423428593059858), (2743, 0.03255125680095994), (2744, 0.007271269539923172), (2745, 0.0), (2746, 0.03032316906933468), (2747, 0.0), (2748, 0.0), (2749, 0.026924637306910696), (2750, 0.0), (2751, 0.011667564141425564), (2752, 0.0), (2753, 0.03153493088942092), (2754, 0.0055436968242010744), (2755, 0.01649212576042205), (2756, 0.010473121033086006), (2757, 0.0), (2758, 0.017939800480154335), (2759, 0.01978945257203176), (2760, 0.0), (2761, 0.0074217842968599), (2762, 0.03808638595391181), (2763, 0.0236544323694499), (2764, 0.0), (2765, 0.0163959675723012), (2766, 0.03478242727096956), (2767, 0.004125373854917396), (2768, 0.020608120133955993), (2769, 0.019151636113537235), (2770, 0.0), (2771, 0.007814750346903512), (2772, 0.017173419684774677), (2773, 0.0), (2774, 0.02965398906352723), (2775, 0.0), (2776, 0.0), (2777, 0.019364793241725832), (2778, 0.0063938372751310615), (2779, 0.0), (2780, 0.005475066994787169), (2781, 0.0), (2782, 0.02504939998015824), (2783, 0.0), (2784, 0.008815286463647433), (2785, 0.009874643287875443), (2786, 0.0), (2787, 0.05686452550828057), (2788, 0.014163615329898148), (2789, 0.020232084707376082), (2790, 0.02789850856372463), (2791, 0.020668683124395543), (2792, 0.009137252298425033), (2793, 0.03063245233863585), (2794, 0.0), (2795, 0.018308491843663264), (2796, 0.0), (2797, 0.0), (2798, 0.0246404054463727), (2799, 0.00973724380135294), (2800, 0.0), (2801, 0.0073983615193042), (2802, 0.0), (2803, 0.02545901697788184), (2804, 0.030311776446395097), (2805, 0.00754178786198969), (2806, 0.007721470102003755), (2807, 0.029183673388050085), (2808, 0.01515534783322008), (2809, 0.009078073449007625), (2810, 0.09750823594715402), (2811, 0.005790599407465471), (2812, 0.06797576053496927), (2813, 0.029811252617525985), (2814, 0.07847271943048317), (2815, 0.0053189738510294165), (2816, 0.016183202106169327), (2817, 0.028293561541872653), (2818, 0.01207749402589422), (2819, 0.05035500352078018), (2820, 0.010761639272149228), (2821, 0.0), (2822, 0.02881052664903324), (2823, 0.0), (2824, 0.0), (2825, 0.005223684002177601), (2826, 0.030330596544791394), (2827, 0.0), (2828, 0.0), (2829, 0.00826301409565287), (2830, 0.03126844091599546), (2831, 0.007023996015390655), (2832, 0.0), (2833, 0.0), (2834, 0.010699890179491998), (2835, 0.0), (2836, 0.0), (2837, 0.025447626199361098), (2838, 0.0), (2839, 0.03177595408724568), (2840, 0.015516654003752624), (2841, 0.019311273377542782), (2842, 0.012028409268775013), (2843, 0.05260407464094335), (2844, 0.03865417934160649), (2845, 0.0), (2846, 0.0), (2847, 0.03295968136919452), (2848, 0.02578361378906941), (2849, 0.0), (2850, 0.012184926146129265), (2851, 0.0), (2852, 0.0), (2853, 0.009163614594149832), (2854, 0.015450978303114128), (2855, 0.007313816167964229), (2856, 0.0), (2857, 0.011368406287602963), (2858, 0.013053947061054269), (2859, 0.014828303797446806), (2860, 0.013301494674041113), (2861, 0.0), (2862, 0.021003187541569213), (2863, 0.0), (2864, 0.030021345593862638), (2865, 0.0386296019365041), (2866, 0.0), (2867, 0.061468065491716406), (2868, 0.021502809974683193), (2869, 0.011413546106484557), (2870, 0.0), (2871, 0.0), (2872, 0.0), (2873, 0.017764121675691864), (2874, 0.014516116542604492), (2875, 0.0), (2876, 0.0), (2877, 0.007303902516076691), (2878, 0.03636571772373988), (2879, 0.0), (2880, 0.005699064371794429), (2881, 0.0059887423805468605), (2882, 0.03446091600660583), (2883, 0.0), (2884, 0.0), (2885, 0.0049571351646706275), (2886, 0.0), (2887, 0.007064581111964095), (2888, 0.013280347255192114), (2889, 0.0), (2890, 0.0), (2891, 0.0), (2892, 0.016445055233457392), (2893, 0.0), (2894, 0.0), (2895, 0.025698541388760696), (2896, 0.0), (2897, 0.02093508098941311), (2898, 0.05826491516025058), (2899, 0.013078149932711579), (2900, 0.008597130631456687), (2901, 0.0), (2902, 0.03199251780401856), (2903, 0.016257992714462793), (2904, 0.02287508395676305), (2905, 0.0), (2906, 0.007592968012653749), (2907, 0.0), (2908, 0.009887321071418782), (2909, 0.0), (2910, 0.022124161311928736), (2911, 0.008975992338803076), (2912, 0.0), (2913, 0.004337157348208476), (2914, 0.0), (2915, 0.007629629560452704), (2916, 0.0), (2917, 0.011052305746273128), (2918, 0.005094355697760946), (2919, 0.01797480114308591), (2920, 0.02269695907975007), (2921, 0.010305262516942306), (2922, 0.007194802126600858), (2923, 0.0), (2924, 0.0), (2925, 0.0), (2926, 0.0), (2927, 0.06701783820831375), (2928, 0.0), (2929, 0.013949395609912502), (2930, 0.010125941748934055), (2931, 0.02194971633289096), (2932, 0.0), (2933, 0.013282431962578832), (2934, 0.0), (2935, 0.010927277738920056), (2936, 0.018367613760152033), (2937, 0.017604699303613393), (2938, 0.027848554596605374), (2939, 0.0), (2940, 0.04489952192840452), (2941, 0.0), (2942, 0.013534066383499337), (2943, 0.005268766241101861), (2944, 0.054072622043599784), (2945, 0.0), (2946, 0.0), (2947, 0.005419695388027538), (2948, 0.006886035124525567), (2949, 0.0), (2950, 0.02040270550941816), (2951, 0.033647819076926884), (2952, 0.0), (2953, 0.0), (2954, 0.027956397724780587), (2955, 0.03409008387926097), (2956, 0.03144671839299527), (2957, 0.016262765593841134), (2958, 0.0049262163888202344), (2959, 0.014725102564545352), (2960, 0.012504222314299377), (2961, 0.0), (2962, 0.029724984756059253), (2963, 0.014854538642861733), (2964, 0.026010017932693388), (2965, 0.008748598399810898), (2966, 0.0), (2967, 0.0), (2968, 0.0), (2969, 0.023176598738489325), (2970, 0.0), (2971, 0.004600940487833232), (2972, 0.0), (2973, 0.0), (2974, 0.0), (2975, 0.02131778798893329), (2976, 0.00779337035648924), (2977, 0.016014393706501685), (2978, 0.0), (2979, 0.005744845089591769), (2980, 0.00688084534091495), (2981, 0.02072830523305318), (2982, 0.015128056243842312), (2983, 0.0), (2984, 0.0), (2985, 0.020239758963187117), (2986, 0.0), (2987, 0.0), (2988, 0.007236134180720319), (2989, 0.007368048791066673), (2990, 0.038525046365021146), (2991, 0.01866480576468553), (2992, 0.02810092160798011), (2993, 0.0), (2994, 0.0), (2995, 0.0), (2996, 0.01898257293830933), (2997, 0.0), (2998, 0.018405295094680807), (2999, 0.0), (3000, 0.0), (3001, 0.0), (3002, 0.0053436952021685335), (3003, 0.02499782499095312), (3004, 0.011343597769786683), (3005, 0.0), (3006, 0.0), (3007, 0.009838876529680303), (3008, 0.018139435126638487), (3009, 0.012895955322947674), (3010, 0.01663332328263568), (3011, 0.039536930488454414), (3012, 0.0), (3013, 0.0), (3014, 0.0), (3015, 0.0), (3016, 0.0), (3017, 0.0), (3018, 0.009006854984511483), (3019, 0.0), (3020, 0.0), (3021, 0.0), (3022, 0.04764729076942839), (3023, 0.006637912139615884), (3024, 0.03110948290430983), (3025, 0.0), (3026, 0.0), (3027, 0.039445670305727425), (3028, 0.021180088026744114), (3029, 0.0), (3030, 0.0), (3031, 0.0), (3032, 0.0), (3033, 0.01563162828916088), (3034, 0.0), (3035, 0.0), (3036, 0.0), (3037, 0.0), (3038, 0.0), (3039, 0.017698673855598666), (3040, 0.0), (3041, 0.0), (3042, 0.0), (3043, 0.020274406653159126), (3044, 0.0057639079905230225), (3045, 0.01534424189904722), (3046, 0.038222518784706595), (3047, 0.0), (3048, 0.0), (3049, 0.0), (3050, 0.0), (3051, 0.043268119388465254), (3052, 0.0), (3053, 0.008276486812424247), (3054, 0.0), (3055, 0.0), (3056, 0.007207170805897999), (3057, 0.008090718578998013), (3058, 0.027843676565492227), (3059, 0.005664774813854627), (3060, 0.013512374207966815), (3061, 0.0), (3062, 0.013592067542504804), (3063, 0.0), (3064, 0.005753729789447981), (3065, 0.01637279363606179), (3066, 0.015281036036251246), (3067, 0.02512746847632841), (3068, 0.0), (3069, 0.028593521373810712), (3070, 0.06217512460658263), (3071, 0.00807822726834781), (3072, 0.0), (3073, 0.048587602320934536), (3074, 0.0), (3075, 0.0), (3076, 0.012053002771051806), (3077, 0.0), (3078, 0.0), (3079, 0.008487751456679904), (3080, 0.0), (3081, 0.0), (3082, 0.0), (3083, 0.02037467980333959), (3084, 0.0), (3085, 0.01175389139264436), (3086, 0.0), (3087, 0.0), (3088, 0.0), (3089, 0.02566459783600614), (3090, 0.0), (3091, 0.023516236906430323), (3092, 0.0), (3093, 0.02078824448880466), (3094, 0.008209222559103009), (3095, 0.0075322839194166945), (3096, 0.02831120645026114), (3097, 0.005830697932492085), (3098, 0.0), (3099, 0.047744020994367684), (3100, 0.019578630606355965), (3101, 0.00961160072924238), (3102, 0.04305719731209512), (3103, 0.009112299664495524), (3104, 0.0), (3105, 0.00665764689724723), (3106, 0.023256508944928974), (3107, 0.0), (3108, 0.030111978617337658), (3109, 0.00926551429289951), (3110, 0.0), (3111, 0.007719140023244665), (3112, 0.00568599707289631), (3113, 0.0), (3114, 0.01781964282967308), (3115, 0.008231747829562736), (3116, 0.0), (3117, 0.0), (3118, 0.0), (3119, 0.0), (3120, 0.0), (3121, 0.014565720247969045), (3122, 0.033053918810692584), (3123, 0.0), (3124, 0.012728491644965223), (3125, 0.008667156780635663), (3126, 0.025292981832169374), (3127, 0.016781158795294543), (3128, 0.0), (3129, 0.05216085360543405), (3130, 0.004823936290763955), (3131, 0.022343608020257456), (3132, 0.012998167916269366), (3133, 0.03212473326189612), (3134, 0.012795811299638103), (3135, 0.011482795714836881), (3136, 0.019548607382651365), (3137, 0.008547905933142955), (3138, 0.0), (3139, 0.0), (3140, 0.011590447792152495), (3141, 0.05255928992880569), (3142, 0.01192426305047033), (3143, 0.004910989863771018), (3144, 0.018067218212090626), (3145, 0.011204852742747734), (3146, 0.0), (3147, 0.0), (3148, 0.0), (3149, 0.00831895244271341), (3150, 0.009023614313886567), (3151, 0.01489867778921183), (3152, 0.024375944638241647), (3153, 0.0), (3154, 0.011272234894495643), (3155, 0.0), (3156, 0.042658068337244365), (3157, 0.007809108149616365), (3158, 0.0), (3159, 0.011398459468008939), (3160, 0.03603063531743319), (3161, 0.005216474686844656), (3162, 0.022026464230882316), (3163, 0.013344096430764838), (3164, 0.013245003175858108), (3165, 0.0060734090472186735), (3166, 0.012775025950101998), (3167, 0.0), (3168, 0.005954206634576334), (3169, 0.005420813213219118), (3170, 0.0), (3171, 0.008760712680879487), (3172, 0.024317909051687105), (3173, 0.021658995909401207), (3174, 0.034942047264336154), (3175, 0.0), (3176, 0.0), (3177, 0.0), (3178, 0.0), (3179, 0.030065842328889907), (3180, 0.014789101951189652), (3181, 0.0340385826990342), (3182, 0.0), (3183, 0.0), (3184, 0.06348106148019253), (3185, 0.008023448027447116), (3186, 0.0), (3187, 0.0), (3188, 0.008689933294276028), (3189, 0.0), (3190, 0.0), (3191, 0.027190144488597814), (3192, 0.005841566438326416), (3193, 0.02826974975554771), (3194, 0.0), (3195, 0.0), (3196, 0.0), (3197, 0.0), (3198, 0.0), (3199, 0.006678794954372814), (3200, 0.01471999838430818), (3201, 0.02358400260033601), (3202, 0.01332967121918556), (3203, 0.011091647845291456), (3204, 0.0), (3205, 0.05282986102270351), (3206, 0.025359156170711536), (3207, 0.03519855910626804), (3208, 0.007329158630502509), (3209, 0.0), (3210, 0.02339893487942909), (3211, 0.029999604127694077), (3212, 0.0), (3213, 0.03786135024037226), (3214, 0.0), (3215, 0.016120655994976026), (3216, 0.0), (3217, 0.0), (3218, 0.016674357522039156), (3219, 0.0), (3220, 0.0), (3221, 0.02586109079523332), (3222, 0.02023138472543698), (3223, 0.014639127865994413), (3224, 0.0), (3225, 0.005418629570324453), (3226, 0.02083782416151493), (3227, 0.014617671592301835), (3228, 0.018980888822474035), (3229, 0.0), (3230, 0.00995695076832075), (3231, 0.02587055712040528), (3232, 0.01071906427866877), (3233, 0.008872592011816961), (3234, 0.018854247967177027), (3235, 0.009274367983109351), (3236, 0.0), (3237, 0.015448232987293857), (3238, 0.014844288897519235), (3239, 0.011611370246642444), (3240, 0.015114022863969791), (3241, 0.0055165116801434945), (3242, 0.0), (3243, 0.0), (3244, 0.018604229150502718), (3245, 0.0), (3246, 0.02333421272291561), (3247, 0.004782372010801787), (3248, 0.0), (3249, 0.0), (3250, 0.0), (3251, 0.015225928262682452), (3252, 0.0), (3253, 0.03244310563647886), (3254, 0.007113385351457903), (3255, 0.0), (3256, 0.008178470636840601), (3257, 0.0), (3258, 0.0), (3259, 0.014672193819983265), (3260, 0.008461855947673727), (3261, 0.0), (3262, 0.0), (3263, 0.005760566974379149), (3264, 0.025701098039906403), (3265, 0.02500621345617302), (3266, 0.0), (3267, 0.020586033609379495), (3268, 0.0), (3269, 0.0), (3270, 0.022971740730031096), (3271, 0.009318825758910913), (3272, 0.028594764209964534), (3273, 0.0), (3274, 0.0), (3275, 0.016348686185961983), (3276, 0.03240929988546685), (3277, 0.027402161733269363), (3278, 0.0), (3279, 0.011390703145069257), (3280, 0.008029591148055201), (3281, 0.0), (3282, 0.011282449739373613), (3283, 0.008784749134345115), (3284, 0.029185151134107266), (3285, 0.0), (3286, 0.027277237813459854), (3287, 0.007207685372630956), (3288, 0.006864569085889068), (3289, 0.0), (3290, 0.0), (3291, 0.0), (3292, 0.0), (3293, 0.016880095974520837), (3294, 0.08360024087509231), (3295, 0.00784866246156319), (3296, 0.0), (3297, 0.014782858241452873), (3298, 0.0), (3299, 0.022513252797647987), (3300, 0.0), (3301, 0.0), (3302, 0.02573673871946027), (3303, 0.01814887236378105), (3304, 0.007877601555753967), (3305, 0.0), (3306, 0.02494144847461823), (3307, 0.0), (3308, 0.0), (3309, 0.006699535367046652), (3310, 0.027552294791668375), (3311, 0.012584860598075055), (3312, 0.01615887784779949), (3313, 0.0), (3314, 0.0), (3315, 0.0), (3316, 0.012031143036939447), (3317, 0.014127950518267342), (3318, 0.011980642779070226), (3319, 0.0), (3320, 0.008100359903390753), (3321, 0.007979913083197909), (3322, 0.0), (3323, 0.03077116118259234), (3324, 0.0), (3325, 0.0), (3326, 0.0), (3327, 0.02172560897405655), (3328, 0.025449310432556514), (3329, 0.00641401088457067), (3330, 0.037775608248602696), (3331, 0.0), (3332, 0.005351092634771508), (3333, 0.0), (3334, 0.0), (3335, 0.02357248131660235), (3336, 0.012522187028129917), (3337, 0.0), (3338, 0.012384565653452207), (3339, 0.0045505607018786086), (3340, 0.005241641152476953), (3341, 0.0), (3342, 0.029035538472602446), (3343, 0.013898255609593018), (3344, 0.027995851474666926), (3345, 0.02013771942193808), (3346, 0.013950873898597074), (3347, 0.0073019041257152625), (3348, 0.0), (3349, 0.0), (3350, 0.0), (3351, 0.0), (3352, 0.0), (3353, 0.02196047550196233), (3354, 0.023190403048370226), (3355, 0.024301603125746075), (3356, 0.006504919020478255), (3357, 0.0), (3358, 0.0), (3359, 0.0), (3360, 0.03251139115970313), (3361, 0.0581091211169073), (3362, 0.023496194525330957), (3363, 0.011486036376332135), (3364, 0.019999469633035134), (3365, 0.015946191816221398), (3366, 0.006733545473888909), (3367, 0.01227917716494269), (3368, 0.013582866403016576), (3369, 0.0), (3370, 0.0), (3371, 0.0), (3372, 0.0), (3373, 0.005951495925174995), (3374, 0.013806889740044835), (3375, 0.0), (3376, 0.007364750262701767), (3377, 0.008158579355989092), (3378, 0.018077924815012133), (3379, 0.0), (3380, 0.0), (3381, 0.0), (3382, 0.009077985967726982), (3383, 0.09196762195467559), (3384, 0.03473507895488065), (3385, 0.03399656190089886), (3386, 0.037250655825390964), (3387, 0.038772884558447365), (3388, 0.009166249185093804), (3389, 0.014384682528486781), (3390, 0.00828911655205256), (3391, 0.0), (3392, 0.005780616409311482), (3393, 0.018850387556855686), (3394, 0.0245019636475464), (3395, 0.03373244214892486), (3396, 0.0), (3397, 0.030002298157543263), (3398, 0.03075788224137176), (3399, 0.023216688866883117), (3400, 0.017016016250031164), (3401, 0.0), (3402, 0.0), (3403, 0.015112157707846838), (3404, 0.03396481760827134), (3405, 0.042700703351808256), (3406, 0.0), (3407, 0.02716273269174208), (3408, 0.039799936720189326), (3409, 0.020701994708399056), (3410, 0.01258603584544365), (3411, 0.007566750980364804), (3412, 0.017393543321753687), (3413, 0.0), (3414, 0.019308551732476715), (3415, 0.0), (3416, 0.033395679138864195), (3417, 0.0), (3418, 0.0), (3419, 0.014148306296786275), (3420, 0.03694737186801368), (3421, 0.006018849243726697), (3422, 0.0), (3423, 0.008027803842413032), (3424, 0.034141263665826586), (3425, 0.015402666257385352), (3426, 0.021105208331312467), (3427, 0.012306201983143824), (3428, 0.0), (3429, 0.0035951681497900663), (3430, 0.014420282964298195), (3431, 0.0), (3432, 0.005249035954810885), (3433, 0.0), (3434, 0.0), (3435, 0.017660972926841108), (3436, 0.0), (3437, 0.0), (3438, 0.03158304264317843), (3439, 0.00904318139863551), (3440, 0.08018294266239293), (3441, 0.005244339993697733), (3442, 0.0), (3443, 0.005215566117591874), (3444, 0.027344104658756932), (3445, 0.054912997055495606), (3446, 0.008857356323469633), (3447, 0.046864089715352976), (3448, 0.02533479371925305), (3449, 0.0), (3450, 0.02685394471255539), (3451, 0.00566762095285874), (3452, 0.0), (3453, 0.015385086291467847), (3454, 0.04952814302316686), (3455, 0.0), (3456, 0.046178079936327235), (3457, 0.09941298667653828), (3458, 0.022532828479794827), (3459, 0.13763496549881873), (3460, 0.007999965101899445), (3461, 0.039141056018789276), (3462, 0.0), (3463, 0.052833940332332234), (3464, 0.037131514081255805), (3465, 0.021962279926680397), (3466, 0.017492194288754214), (3467, 0.012416608633000257), (3468, 0.015075108219376892), (3469, 0.03370174825920225), (3470, 0.047419523850155555), (3471, 0.0), (3472, 0.03346010005753998), (3473, 0.0), (3474, 0.0), (3475, 0.0), (3476, 0.0), (3477, 0.02173348984169681), (3478, 0.0), (3479, 0.0), (3480, 0.024871554045390966), (3481, 0.007258553304991317), (3482, 0.007014809135711778), (3483, 0.016639679536747023), (3484, 0.014831513370684286), (3485, 0.0), (3486, 0.012517697767846912), (3487, 0.0), (3488, 0.0), (3489, 0.0), (3490, 0.008354516619356876), (3491, 0.01739241936924369), (3492, 0.036674751797417374), (3493, 0.009105766837211765), (3494, 0.0), (3495, 0.011820429629442332), (3496, 0.009885794749936335), (3497, 0.0), (3498, 0.0), (3499, 0.0), (3500, 0.0), (3501, 0.0), (3502, 0.02158642169618437), (3503, 0.0), (3504, 0.014980814056608373), (3505, 0.0), (3506, 0.010033923241101892), (3507, 0.01442215296491375), (3508, 0.013809063701969998), (3509, 0.006087029249684443), (3510, 0.0), (3511, 0.0), (3512, 0.0), (3513, 0.005540135241719425), (3514, 0.005520253193073219), (3515, 0.03584013259735733), (3516, 0.024592319658451052), (3517, 0.009007890569820506), (3518, 0.06301744507493644), (3519, 0.0), (3520, 0.012410999894414179), (3521, 0.0), (3522, 0.036456374289402294), (3523, 0.0), (3524, 0.008254634738311622), (3525, 0.028251240775749885), (3526, 0.008826288164836988), (3527, 0.0), (3528, 0.004870966228425271), (3529, 0.0), (3530, 0.0), (3531, 0.018022120194795842), (3532, 0.014115465097185448), (3533, 0.0), (3534, 0.014367398916001176), (3535, 0.0), (3536, 0.0353403909352798), (3537, 0.0), (3538, 0.01381390615141323), (3539, 0.02250435888933015), (3540, 0.0), (3541, 0.02286616905767202), (3542, 0.0), (3543, 0.0), (3544, 0.0), (3545, 0.0), (3546, 0.011636318634134989), (3547, 0.0), (3548, 0.010931570565299266), (3549, 0.008919500523983506), (3550, 0.008081247591241241), (3551, 0.0174852344590248), (3552, 0.0), (3553, 0.00695343257677943), (3554, 0.006400971736493194), (3555, 0.011882242598769906), (3556, 0.004727959526381232), (3557, 0.02149305302331345), (3558, 0.01295440575975333), (3559, 0.023585757191028484), (3560, 0.013775125151199961), (3561, 0.0), (3562, 0.008307315964587454), (3563, 0.01578962739174002), (3564, 0.01739162045006011), (3565, 0.0), (3566, 0.04108256646258227), (3567, 0.014943046786235047), (3568, 0.020028929191449045), (3569, 0.0233276316368823), (3570, 0.0), (3571, 0.0), (3572, 0.0), (3573, 0.0), (3574, 0.017391234567805572), (3575, 0.0), (3576, 0.0), (3577, 0.03676337400105677), (3578, 0.04526453692166049), (3579, 0.013350408038426836), (3580, 0.0), (3581, 0.0), (3582, 0.011810567990431616), (3583, 0.0), (3584, 0.06357400308003942), (3585, 0.0), (3586, 0.0318385333195704), (3587, 0.05116403102681644), (3588, 0.006496785488478626), (3589, 0.008492894427181454), (3590, 0.14011656375639475), (3591, 0.005518788627595829), (3592, 0.03771258265269219), (3593, 0.02074186113102037), (3594, 0.015578702138611537), (3595, 0.005059165686510632), (3596, 0.016058043336258276), (3597, 0.012547171151278366), (3598, 0.02001723391660298), (3599, 0.0163305992328891), (3600, 0.011055010386006642), (3601, 0.0), (3602, 0.013753475899517857), (3603, 0.005388687988899951), (3604, 0.005807848159674597), (3605, 0.005054978012743483), (3606, 0.0), (3607, 0.0), (3608, 0.0), (3609, 0.02483403082445343), (3610, 0.01018625632995052), (3611, 0.0), (3612, 0.00862785434516952), (3613, 0.026054135288787958), (3614, 0.0), (3615, 0.0), (3616, 0.02725550808977376), (3617, 0.0), (3618, 0.01836364173608642), (3619, 0.019743043044910535), (3620, 0.0), (3621, 0.0), (3622, 0.0), (3623, 0.005454780763025864), (3624, 0.0), (3625, 0.0), (3626, 0.013291417655557067), (3627, 0.0), (3628, 0.013406611641691806), (3629, 0.011975508269217902), (3630, 0.01659918351885738), (3631, 0.0), (3632, 0.06146719722997571), (3633, 0.023240058690915562), (3634, 0.005931936714693081), (3635, 0.01657547584114466), (3636, 0.0), (3637, 0.012166580068035636), (3638, 0.030292254919386554), (3639, 0.02108059071420761), (3640, 0.0), (3641, 0.03546334364748019), (3642, 0.025154993009505106), (3643, 0.015889127239476893), (3644, 0.01702120856631896), (3645, 0.0039856228466102605), (3646, 0.00815508449187087), (3647, 0.013078717993155293), (3648, 0.02993702781317651), (3649, 0.0), (3650, 0.00873893150142335), (3651, 0.009866150364333082), (3652, 0.0), (3653, 0.0), (3654, 0.07555237606313653), (3655, 0.021182741583987197), (3656, 0.014483606248070978), (3657, 0.06182512574708675), (3658, 0.011690630286770587), (3659, 0.0), (3660, 0.005099180850121291), (3661, 0.028341599959556756), (3662, 0.0), (3663, 0.0), (3664, 0.0), (3665, 0.008604031980144833), (3666, 0.0), (3667, 0.011957801895006658), (3668, 0.011775684403407828), (3669, 0.0), (3670, 0.0), (3671, 0.0), (3672, 0.0), (3673, 0.0), (3674, 0.007280210142572526), (3675, 0.0), (3676, 0.005343576089780689), (3677, 0.018934047260602344), (3678, 0.009175158505841911), (3679, 0.0), (3680, 0.005979435703276028), (3681, 0.019798126431703724), (3682, 0.0), (3683, 0.0), (3684, 0.020066709619743613), (3685, 0.02972793162799962), (3686, 0.0), (3687, 0.0), (3688, 0.0), (3689, 0.016177691706183432), (3690, 0.030156745704451173), (3691, 0.0), (3692, 0.005693372826154148), (3693, 0.01046035531921957), (3694, 0.0), (3695, 0.04024651775578031), (3696, 0.01663464301617045), (3697, 0.03677714071356853), (3698, 0.05656346692860614), (3699, 0.00940680513303411), (3700, 0.011645117417126637), (3701, 0.008841776569095489), (3702, 0.0), (3703, 0.007892548074005919), (3704, 0.009952554444144527), (3705, 0.0), (3706, 0.013650926251353793), (3707, 0.014755189721043217), (3708, 0.00610528127148893), (3709, 0.035790028782193235), (3710, 0.015412544896608281), (3711, 0.02390811794312199), (3712, 0.016410488181124575), (3713, 0.02029369412471407), (3714, 0.0), (3715, 0.006823264408643224), (3716, 0.0), (3717, 0.0), (3718, 0.03532887371552627), (3719, 0.0), (3720, 0.013425742350856983), (3721, 0.0), (3722, 0.022534990291702445), (3723, 0.024925076840905294), (3724, 0.1834643245085129), (3725, 0.0), (3726, 0.0062887892510404475), (3727, 0.0), (3728, 0.030090300453840563), (3729, 0.0), (3730, 0.0334697591273245), (3731, 0.013338274378418835), (3732, 0.027785023453768154), (3733, 0.006682017668868881), (3734, 0.004987288101194438), (3735, 0.007715166686498523), (3736, 0.024298356922365205), (3737, 0.0), (3738, 0.02415734861913573), (3739, 0.008719374154842986), (3740, 0.0), (3741, 0.07382603461536467), (3742, 0.016028427032981706), (3743, 0.03053304891873392), (3744, 0.014920482617171077), (3745, 0.010833825204048369), (3746, 0.008490059228886205), (3747, 0.020358854347620525), (3748, 0.02105978140303296), (3749, 0.0), (3750, 0.0058831211652255015), (3751, 0.01994403549564664), (3752, 0.03855958713150327), (3753, 0.0), (3754, 0.010089310668319335), (3755, 0.0), (3756, 0.0), (3757, 0.0), (3758, 0.0), (3759, 0.025179820519724366), (3760, 0.0), (3761, 0.0), (3762, 0.011998402450133724), (3763, 0.0), (3764, 0.0), (3765, 0.016755501572826462), (3766, 0.0), (3767, 0.006444854027283182), (3768, 0.009896374500197492), (3769, 0.0), (3770, 0.0), (3771, 0.005727316378131286), (3772, 0.0), (3773, 0.03350106935136321), (3774, 0.0), (3775, 0.008073451749428888), (3776, 0.01191506816417676), (3777, 0.009112423396499206), (3778, 0.018524859830977743), (3779, 0.0), (3780, 0.009208637290478846), (3781, 0.009867833811554054), (3782, 0.027371070902182774), (3783, 0.03148577596587253), (3784, 0.02365330017102163), (3785, 0.02483169504503456), (3786, 0.04030604931491633), (3787, 0.013421983332423598), (3788, 0.008132282411201593), (3789, 0.0), (3790, 0.021954871007982553), (3791, 0.0), (3792, 0.0), (3793, 0.0), (3794, 0.005008355102411394), (3795, 0.010966817970710547), (3796, 0.0), (3797, 0.02814674466276101), (3798, 0.03462741594955412), (3799, 0.0), (3800, 0.0), (3801, 0.02082288510169099), (3802, 0.005790006561599409), (3803, 0.013645960294117842), (3804, 0.0), (3805, 0.02801367059314789), (3806, 0.0073394033842037075), (3807, 0.005260045456167045), (3808, 0.0), (3809, 0.0), (3810, 0.032561571528186), (3811, 0.0), (3812, 0.02149974071041192), (3813, 0.0), (3814, 0.005201037192279784), (3815, 0.0), (3816, 0.010085749949093368), (3817, 0.025105721073192984), (3818, 0.008552940208470501), (3819, 0.008143206041568514), (3820, 0.07271029741152753), (3821, 0.013116820129990915), (3822, 0.017561521281379826), (3823, 0.02439790612327688), (3824, 0.008303482609817133), (3825, 0.021908343990212527), (3826, 0.021739198223439594), (3827, 0.0), (3828, 0.0), (3829, 0.006521729783610787), (3830, 0.0), (3831, 0.009457631503145015), (3832, 0.0), (3833, 0.0), (3834, 0.022426153532545772), (3835, 0.00422549841400021), (3836, 0.0), (3837, 0.0), (3838, 0.0), (3839, 0.03347834169694147), (3840, 0.021486475848880957), (3841, 0.015536251230280978), (3842, 0.0), (3843, 0.0), (3844, 0.010901950444667356), (3845, 0.03054061125932097), (3846, 0.04974061650498351), (3847, 0.02187748919971145), (3848, 0.0), (3849, 0.01273366940768493), (3850, 0.005650955194250848), (3851, 0.0), (3852, 0.019097408529810463), (3853, 0.0), (3854, 0.007975536800557327), (3855, 0.014699974776304171), (3856, 0.01150439178369161), (3857, 0.009579253994642697), (3858, 0.02513357962208411), (3859, 0.0220672573195873), (3860, 0.01684677004289722), (3861, 0.0), (3862, 0.005522522559915198), (3863, 0.0), (3864, 0.019165490550045357), (3865, 0.032021093247868684), (3866, 0.025264323375028756), (3867, 0.0), (3868, 0.00825223662968939), (3869, 0.032513113786830306), (3870, 0.053011772796241106), (3871, 0.08736799754212891), (3872, 0.0), (3873, 0.009302593803549442), (3874, 0.0), (3875, 0.031127915986190472), (3876, 0.0), (3877, 0.027051583927471902), (3878, 0.011434286811619012), (3879, 0.0), (3880, 0.04297862167311959), (3881, 0.00829649525720894), (3882, 0.0), (3883, 0.0), (3884, 0.020837504466998256), (3885, 0.0), (3886, 0.02104904751308205), (3887, 0.0), (3888, 0.0), (3889, 0.014416595380510502), (3890, 0.01668781847379264), (3891, 0.008167388163612208), (3892, 0.0), (3893, 0.0), (3894, 0.007563922763187359), (3895, 0.0), (3896, 0.0), (3897, 0.0091441587425311), (3898, 0.0), (3899, 0.0), (3900, 0.0), (3901, 0.03897675051024672), (3902, 0.0), (3903, 0.05562327655348716), (3904, 0.009850807705067615), (3905, 0.0), (3906, 0.0), (3907, 0.030615440619325477), (3908, 0.014171668191822247), (3909, 0.014592465933945645), (3910, 0.0), (3911, 0.0), (3912, 0.0), (3913, 0.024544385524929626), (3914, 0.026735009243075026), (3915, 0.0), (3916, 0.011327067739778195), (3917, 0.020089792048571038), (3918, 0.0), (3919, 0.04073865546382728), (3920, 0.00893334454743166), (3921, 0.019876190636730014), (3922, 0.0), (3923, 0.011264910020097389), (3924, 0.01896125160519334), (3925, 0.0), (3926, 0.015665624098944016), (3927, 0.013018344207424162), (3928, 0.007204205527707314), (3929, 0.0), (3930, 0.02747025939396113), (3931, 0.0), (3932, 0.027005986511667184), (3933, 0.008209282411297354), (3934, 0.0), (3935, 0.0), (3936, 0.0), (3937, 0.029775113183822435), (3938, 0.0), (3939, 0.01226634156479476), (3940, 0.005784435520802041), (3941, 0.0), (3942, 0.01061236595749856), (3943, 0.0), (3944, 0.006952173949204376), (3945, 0.0), (3946, 0.009541396730752503), (3947, 0.03307129213240413), (3948, 0.018676284675754082), (3949, 0.0), (3950, 0.014776808754033439), (3951, 0.018249754678889528), (3952, 0.0), (3953, 0.004811125523906194), (3954, 0.006621496225522441), (3955, 0.05500487245948785), (3956, 0.0), (3957, 0.020482790064033585), (3958, 0.03709320517633593), (3959, 0.008932765532713828), (3960, 0.00977756736655942), (3961, 0.0), (3962, 0.0), (3963, 0.020728119330895352), (3964, 0.0), (3965, 0.0318823277176527), (3966, 0.008043584317198468), (3967, 0.0), (3968, 0.012874460107974184), (3969, 0.009060398655033098), (3970, 0.06272288593017383), (3971, 0.0), (3972, 0.014042114392876007), (3973, 0.007469828100763883), (3974, 0.0), (3975, 0.0), (3976, 0.0), (3977, 0.013241087681530091), (3978, 0.005043585491665192), (3979, 0.03544301840715232), (3980, 0.05064539498100713), (3981, 0.0), (3982, 0.021464268594444745), (3983, 0.02754215600696793), (3984, 0.0), (3985, 0.0), (3986, 0.015587775327199651), (3987, 0.0), (3988, 0.0), (3989, 0.018795057215879724), (3990, 0.0), (3991, 0.006575103384262065), (3992, 0.026372133442242995), (3993, 0.029449328933336856), (3994, 0.008381260309376732), (3995, 0.019096754063453757), (3996, 0.0), (3997, 0.0056293222396217035), (3998, 0.02016240985552093), (3999, 0.0), (4000, 0.017764448973283498), (4001, 0.029602569869117717), (4002, 0.020119491342237956), (4003, 0.0), (4004, 0.0), (4005, 0.0149461962688711), (4006, 0.00861947642312349), (4007, 0.022239537073149712), (4008, 0.007281214683659328), (4009, 0.0208937088589373), (4010, 0.0), (4011, 0.019837938426871586), (4012, 0.021822326122281046), (4013, 0.009389829853180442), (4014, 0.0), (4015, 0.02570519498783796), (4016, 0.01613732955598049), (4017, 0.0), (4018, 0.0), (4019, 0.011938837123166865), (4020, 0.014222733854646764), (4021, 0.0), (4022, 0.0), (4023, 0.010876230129487829), (4024, 0.0), (4025, 0.025173656065381668), (4026, 0.0), (4027, 0.0), (4028, 0.0), (4029, 0.0), (4030, 0.0), (4031, 0.028998312351637745), (4032, 0.038377533643629294), (4033, 0.005578441083976184), (4034, 0.054604110601076984), (4035, 0.0061046470241986174), (4036, 0.02745171397721501), (4037, 0.005009205264752232), (4038, 0.014873447671339532), (4039, 0.005154574154804387), (4040, 0.011884184483345534), (4041, 0.012400211758144819), (4042, 0.0), (4043, 0.0), (4044, 0.004797810860316324), (4045, 0.015316072183314107), (4046, 0.0203696767443924), (4047, 0.02844230700832013), (4048, 0.0), (4049, 0.0), (4050, 0.0), (4051, 0.02510529888610434), (4052, 0.02688222542373507), (4053, 0.0), (4054, 0.0), (4055, 0.051996349529891316), (4056, 0.012193645617135363), (4057, 0.013902098778019352), (4058, 0.0), (4059, 0.02529071391103621), (4060, 0.0), (4061, 0.026504585837395525), (4062, 0.018943867081756056), (4063, 0.0), (4064, 0.024314125193373896), (4065, 0.0), (4066, 0.0), (4067, 0.0), (4068, 0.014133908784015799), (4069, 0.017298761953684162), (4070, 0.059853035055135756), (4071, 0.09155254876839014), (4072, 0.0), (4073, 0.0), (4074, 0.014035916338094657), (4075, 0.0), (4076, 0.016802430415742493), (4077, 0.03074234407204554), (4078, 0.00965356861628546), (4079, 0.0), (4080, 0.0), (4081, 0.009260732377468462), (4082, 0.0), (4083, 0.0), (4084, 0.0), (4085, 0.0), (4086, 0.007544606858510473), (4087, 0.009457373445481676), (4088, 0.02377262697545022), (4089, 0.00958940656876693), (4090, 0.0), (4091, 0.03250662452214248), (4092, 0.0), (4093, 0.005408988733781116), (4094, 0.021203952857391784), (4095, 0.03833140051218868), (4096, 0.0), (4097, 0.010085636925844254), (4098, 0.005420199524224876), (4099, 0.0490106927845283), (4100, 0.0055235845235461255), (4101, 0.04204582337819441), (4102, 0.0), (4103, 0.012326235856219019), (4104, 0.0), (4105, 0.0), (4106, 0.021724191074096844), (4107, 0.011372106889220858), (4108, 0.019955797739371135), (4109, 0.007803733878462212), (4110, 0.04568325097733689), (4111, 0.0), (4112, 0.020385179627470426), (4113, 0.0), (4114, 0.0125822226680416), (4115, 0.012426697010449022), (4116, 0.005764871188222621), (4117, 0.010513137818459308), (4118, 0.026119625730738574), (4119, 0.034717936551578565), (4120, 0.00961350951168846), (4121, 0.015823426688789045), (4122, 0.006567030461762804), (4123, 0.0), (4124, 0.008160749727434552), (4125, 0.013806525316352552), (4126, 0.0), (4127, 0.0), (4128, 0.012215123902166697), (4129, 0.0), (4130, 0.013399986119673319), (4131, 0.005658588690238049), (4132, 0.0), (4133, 0.010042216996831482), (4134, 0.00962830437789866), (4135, 0.008746887140071775), (4136, 0.040052227967712656), (4137, 0.008703720555532998), (4138, 0.0), (4139, 0.0), (4140, 0.0), (4141, 0.012510910626982891), (4142, 0.01567431820066243), (4143, 0.01250569147902845), (4144, 0.00586228322560623), (4145, 0.010818470481875621), (4146, 0.0), (4147, 0.0), (4148, 0.0052670795891083385), (4149, 0.0), (4150, 0.020329973240277594), (4151, 0.0), (4152, 0.023667350784533192), (4153, 0.011172206836857488), (4154, 0.0), (4155, 0.01703788468053252), (4156, 0.051676470290175955), (4157, 0.008451620280439519), (4158, 0.032751016770544476), (4159, 0.0), (4160, 0.007817066098259377), (4161, 0.0), (4162, 0.0), (4163, 0.0), (4164, 0.008410795394100695), (4165, 0.008022855255917628), (4166, 0.0), (4167, 0.022659495135178523), (4168, 0.016028307547200776), (4169, 0.0), (4170, 0.0), (4171, 0.024884865905275385), (4172, 0.0), (4173, 0.0), (4174, 0.007938205676710696), (4175, 0.019070411571147874), (4176, 0.007930395788517277), (4177, 0.019415164975480022), (4178, 0.0), (4179, 0.0), (4180, 0.009732455909944288), (4181, 0.03325505995991939), (4182, 0.0119233033890885), (4183, 0.0), (4184, 0.01798269192015784), (4185, 0.005929669041289844), (4186, 0.004840399564727701), (4187, 0.0), (4188, 0.04232018862849803), (4189, 0.015998474846708088), (4190, 0.0), (4191, 0.019133651743740085), (4192, 0.016703317272464862), (4193, 0.011149348005963518), (4194, 0.02975869552937764), (4195, 0.006967886017013736), (4196, 0.02282260388452251), (4197, 0.0), (4198, 0.012160809562740658), (4199, 0.0266345440087996), (4200, 0.03638628161341811), (4201, 0.04647506065335474), (4202, 0.007393813392190148), (4203, 0.03353828561517332), (4204, 0.0), (4205, 0.029376993814891277), (4206, 0.008748206457517496), (4207, 0.0), (4208, 0.0), (4209, 0.01066062876247754), (4210, 0.02829950370004038), (4211, 0.012034627315531721), (4212, 0.0), (4213, 0.0), (4214, 0.0), (4215, 0.0), (4216, 0.0), (4217, 0.01510639657548822), (4218, 0.0359180123942301), (4219, 0.0), (4220, 0.008124626874784735), (4221, 0.007069745181580463), (4222, 0.012351606400839764), (4223, 0.014116795752142232), (4224, 0.03859913369419503), (4225, 0.0), (4226, 0.02716726880696451), (4227, 0.0), (4228, 0.0), (4229, 0.0), (4230, 0.0), (4231, 0.0), (4232, 0.0), (4233, 0.005600583050704767), (4234, 0.0), (4235, 0.0), (4236, 0.017826681093134754), (4237, 0.018805596939986492), (4238, 0.014306283978119574), (4239, 0.012723823326118483), (4240, 0.03342384338450621), (4241, 0.013759192144618144), (4242, 0.010714517548125291), (4243, 0.0), (4244, 0.006057774319914342), (4245, 0.031458909718744), (4246, 0.0), (4247, 0.019330137785909647), (4248, 0.005256457027802151), (4249, 0.005455876228570766), (4250, 0.0), (4251, 0.0), (4252, 0.00829796540718308), (4253, 0.0), (4254, 0.012481616740015298), (4255, 0.012472538551048303), (4256, 0.02475791189629209), (4257, 0.023409647053141944), (4258, 0.0), (4259, 0.0), (4260, 0.0), (4261, 0.003923106096772243), (4262, 0.008953961143351785), (4263, 0.0), (4264, 0.0052108126293436184), (4265, 0.018254951126681997), (4266, 0.03232072350006534), (4267, 0.01980664729289227), (4268, 0.009172562544991785), (4269, 0.026608232548312055), (4270, 0.03271465051064438), (4271, 0.010671845921882733), (4272, 0.0264687634483058), (4273, 0.0), (4274, 0.004848595555615474), (4275, 0.0), (4276, 0.006124761179961102), (4277, 0.0), (4278, 0.0), (4279, 0.12378550300043255), (4280, 0.0), (4281, 0.009967991523368136), (4282, 0.023816913546074174), (4283, 0.021288440637037248), (4284, 0.008462295457517732), (4285, 0.006205301793218483), (4286, 0.009737210438388655), (4287, 0.0), (4288, 0.007093405517156754), (4289, 0.013048760660764382), (4290, 0.023880516616572447), (4291, 0.0), (4292, 0.042793584734702), (4293, 0.005900507021083036), (4294, 0.03419086545372473), (4295, 0.0), (4296, 0.0), (4297, 0.015806619152969523), (4298, 0.0), (4299, 0.0), (4300, 0.007026620776452677), (4301, 0.0), (4302, 0.0), (4303, 0.02227606596618372), (4304, 0.0), (4305, 0.008082091678597855), (4306, 0.0), (4307, 0.0), (4308, 0.0), (4309, 0.0), (4310, 0.00529312763630619), (4311, 0.0), (4312, 0.0341081330903598), (4313, 0.0), (4314, 0.0), (4315, 0.0), (4316, 0.0), (4317, 0.0), (4318, 0.0), (4319, 0.009466130972307491), (4320, 0.029205779193483185), (4321, 0.0), (4322, 0.0084325328999667), (4323, 0.039294284980946094), (4324, 0.06401703093939148), (4325, 0.013446945962615465), (4326, 0.0), (4327, 0.00897544434420706), (4328, 0.021053712056330838), (4329, 0.04791072125848175), (4330, 0.008629366335746704), (4331, 0.0), (4332, 0.018713622729994092), (4333, 0.0), (4334, 0.01373913690916354), (4335, 0.0), (4336, 0.0067767900838141696), (4337, 0.007790124435279801), (4338, 0.07991645256833908), (4339, 0.04257164002390991), (4340, 0.0), (4341, 0.008270439964125192), (4342, 0.014412606758433411), (4343, 0.0), (4344, 0.020742127522419593), (4345, 0.013751550051391778), (4346, 0.024506472587028583), (4347, 0.007460849771843283), (4348, 0.007931338654803886), (4349, 0.0), (4350, 0.0), (4351, 0.0242496971413535), (4352, 0.02861052297275772), (4353, 0.01208185421694701), (4354, 0.007293584034934949), (4355, 0.009268270325358251), (4356, 0.008090936496599465), (4357, 0.0), (4358, 0.0), (4359, 0.008408233901451165), (4360, 0.0), (4361, 0.0), (4362, 0.0), (4363, 0.00903296696817363), (4364, 0.006978744570476117), (4365, 0.0), (4366, 0.007822450911473159), (4367, 0.00679888976924055), (4368, 0.009706503458155276), (4369, 0.010595633945271861), (4370, 0.0), (4371, 0.007523561488034852), (4372, 0.0), (4373, 0.015754553115726454), (4374, 0.024631755347078746), (4375, 0.02368875765470974), (4376, 0.03681187183014119), (4377, 0.0), (4378, 0.036158023347230166), (4379, 0.014414494576259904), (4380, 0.008853643084276596), (4381, 0.0), (4382, 0.028312861083360057), (4383, 0.0), (4384, 0.0056006433115022404), (4385, 0.03159130218192072), (4386, 0.0), (4387, 0.008409582927614368), (4388, 0.040076148877756027), (4389, 0.0), (4390, 0.03376833628798948), (4391, 0.009307361904517147), (4392, 0.0055680122799884645), (4393, 0.005965064209009776), (4394, 0.008558258338542797), (4395, 0.016853952680201165), (4396, 0.009733459647352847), (4397, 0.0), (4398, 0.0), (4399, 0.01630165626777215), (4400, 0.0), (4401, 0.018079510086275), (4402, 0.007974858918904634), (4403, 0.02347708294753604), (4404, 0.009409268399746385), (4405, 0.018417683624499522), (4406, 0.01886409214488572), (4407, 0.0), (4408, 0.0), (4409, 0.04232140603732209), (4410, 0.01955414360992886), (4411, 0.0), (4412, 0.0), (4413, 0.0), (4414, 0.006536357291322238), (4415, 0.02028809805181477), (4416, 0.0), (4417, 0.0), (4418, 0.00915688949782142), (4419, 0.034801972471431124), (4420, 0.0), (4421, 0.0), (4422, 0.03362690363369962), (4423, 0.0), (4424, 0.0), (4425, 0.0), (4426, 0.0), (4427, 0.0), (4428, 0.014809853442616937), (4429, 0.004591155099925866), (4430, 0.005536253798926569), (4431, 0.02829616309358577), (4432, 0.01224299011462183), (4433, 0.0), (4434, 0.0), (4435, 0.005312996907058825), (4436, 0.031948453105064695), (4437, 0.0), (4438, 0.008268538189474999), (4439, 0.011267923400532814), (4440, 0.015734721334965847), (4441, 0.016457016935247162), (4442, 0.008365465769901334), (4443, 0.006477635728186003), (4444, 0.01822438305562698), (4445, 0.0039695800839847145), (4446, 0.0), (4447, 0.0047973303204600646), (4448, 0.018625007372333923), (4449, 0.010119579141991405), (4450, 0.020044658882567637), (4451, 0.0), (4452, 0.0), (4453, 0.005904009193754312), (4454, 0.06927898204317563), (4455, 0.0338100070284011), (4456, 0.012625768131381469), (4457, 0.006946424060951687), (4458, 0.0), (4459, 0.023343900036251416), (4460, 0.009776185741452255), (4461, 0.07310020908125556), (4462, 0.015721964367095675), (4463, 0.009656766897224651), (4464, 0.0), (4465, 0.0), (4466, 0.007260004668437975), (4467, 0.023357722738290516), (4468, 0.015191993330971643), (4469, 0.0), (4470, 0.0), (4471, 0.0), (4472, 0.016746677062274493), (4473, 0.007511425699204114), (4474, 0.057398897480265616), (4475, 0.0), (4476, 0.0), (4477, 0.01625357685766213), (4478, 0.03003756510409384), (4479, 0.0), (4480, 0.0), (4481, 0.01329248257152688), (4482, 0.04504828038583755), (4483, 0.010986346460096127), (4484, 0.0), (4485, 0.0), (4486, 0.03123852025292955), (4487, 0.028847128762201555), (4488, 0.0), (4489, 0.0), (4490, 0.006270892733972102), (4491, 0.023360758968407058), (4492, 0.016754434303165925), (4493, 0.013277326340808287), (4494, 0.0), (4495, 0.0), (4496, 0.0), (4497, 0.0), (4498, 0.02399577724240108), (4499, 0.0), (4500, 0.0), (4501, 0.007044011337746164), (4502, 0.0), (4503, 0.022805034887240082), (4504, 0.008323992808248998), (4505, 0.0), (4506, 0.0), (4507, 0.0), (4508, 0.0), (4509, 0.03304467887245397), (4510, 0.0), (4511, 0.015556207775034121), (4512, 0.046532136035866145), (4513, 0.024220930719912367), (4514, 0.0), (4515, 0.019845436050433873), (4516, 0.03221697242047297), (4517, 0.00875247298208839), (4518, 0.0), (4519, 0.016258033460406537), (4520, 0.0), (4521, 0.011495487171754061), (4522, 0.0), (4523, 0.014919901020449555), (4524, 0.03452741561414756), (4525, 0.0), (4526, 0.034562500878426196), (4527, 0.0), (4528, 0.0), (4529, 0.0), (4530, 0.0), (4531, 0.02940612404765829), (4532, 0.0), (4533, 0.007135585833660102), (4534, 0.005142844452525502), (4535, 0.018111890025249995), (4536, 0.027974038123533013), (4537, 0.0), (4538, 0.0), (4539, 0.0), (4540, 0.0), (4541, 0.014086968508069127), (4542, 0.02998958936108341), (4543, 0.005093192907405139), (4544, 0.0), (4545, 0.0), (4546, 0.0), (4547, 0.0), (4548, 0.00808469675904912), (4549, 0.015433421878259034), (4550, 0.020246215261501478), (4551, 0.019089475711642583), (4552, 0.021894874563076584), (4553, 0.05211398618045858), (4554, 0.008339834304403198), (4555, 0.0), (4556, 0.0), (4557, 0.01300475719300559), (4558, 0.007622732452363564), (4559, 0.0), (4560, 0.0), (4561, 0.0), (4562, 0.0), (4563, 0.0), (4564, 0.026864192969571696), (4565, 0.0), (4566, 0.031438485859752535), (4567, 0.0), (4568, 0.02106500335044965), (4569, 0.026373692607939984), (4570, 0.008334417628791026), (4571, 0.01463451593513439), (4572, 0.0), (4573, 0.0051260494896383695), (4574, 0.0), (4575, 0.0), (4576, 0.036479527600792386), (4577, 0.0), (4578, 0.0), (4579, 0.0), (4580, 0.0), (4581, 0.03369409110452734), (4582, 0.0), (4583, 0.0), (4584, 0.0), (4585, 0.0), (4586, 0.015096122905888583), (4587, 0.008777607261227833), (4588, 0.006752270293042408), (4589, 0.10981794830020203), (4590, 0.020704492959928728), (4591, 0.0172812344154119), (4592, 0.008597849706975266), (4593, 0.009673959202870182), (4594, 0.02040585234134753), (4595, 0.009413756101025484), (4596, 0.0755312682071875), (4597, 0.00612662382174053), (4598, 0.0), (4599, 0.0), (4600, 0.012731740569363388), (4601, 0.00952237207986596), (4602, 0.009545157189805989), (4603, 0.0065444598726056265), (4604, 0.008671142209744317), (4605, 0.01802321454348782), (4606, 0.006694304143260823), (4607, 0.012633157012379197), (4608, 0.004692390252542211), (4609, 0.033612630371439106), (4610, 0.017044726609765463), (4611, 0.028155502012170448), (4612, 0.010736758450263836), (4613, 0.05546266023791831), (4614, 0.0), (4615, 0.0), (4616, 0.0), (4617, 0.0), (4618, 0.0), (4619, 0.005834180157982237), (4620, 0.016363747680364388), (4621, 0.009012389788599489), (4622, 0.0), (4623, 0.0), (4624, 0.027745179566989436), (4625, 0.0), (4626, 0.009912023071919226), (4627, 0.0), (4628, 0.0), (4629, 0.014513209905733186), (4630, 0.005929865536589603), (4631, 0.006421259748384017), (4632, 0.0), (4633, 0.010224237473810746), (4634, 0.008047663731980124), (4635, 0.012267343101648407), (4636, 0.0), (4637, 0.0), (4638, 0.0), (4639, 0.0), (4640, 0.0092267905769822), (4641, 0.0), (4642, 0.006240240266612321), (4643, 0.007171746373203208), (4644, 0.0), (4645, 0.0), (4646, 0.02883052704172785), (4647, 0.012580363082795799), (4648, 0.0), (4649, 0.019219687718452887), (4650, 0.0), (4651, 0.0), (4652, 0.025196817101117423), (4653, 0.006465004169079204), (4654, 0.0), (4655, 0.0), (4656, 0.015083217104849882), (4657, 0.0), (4658, 0.023327991983190875), (4659, 0.024401202706451318), (4660, 0.021363103628716733), (4661, 0.012850825227063902), (4662, 0.00920508622845562), (4663, 0.03709540215698131), (4664, 0.008029754030963029), (4665, 0.013184242620477621), (4666, 0.0071587472133378405), (4667, 0.0), (4668, 0.0), (4669, 0.01003065977883943), (4670, 0.0), (4671, 0.0), (4672, 0.0), (4673, 0.005121452878574445), (4674, 0.020841399250790836), (4675, 0.0), (4676, 0.03623541428101735), (4677, 0.0), (4678, 0.008891796588292724), (4679, 0.07952187666060073), (4680, 0.009847023093301844), (4681, 0.0), (4682, 0.02867604830001895), (4683, 0.0), (4684, 0.0053960992360623), (4685, 0.046769073256883766), (4686, 0.008677137076465136), (4687, 0.008433065991368754), (4688, 0.013199213470267417), (4689, 0.007869754537979093), (4690, 0.013595811090607694), (4691, 0.0), (4692, 0.011496284865023482), (4693, 0.0), (4694, 0.0), (4695, 0.016483286850795826), (4696, 0.0), (4697, 0.0), (4698, 0.006379694865087266), (4699, 0.0), (4700, 0.0), (4701, 0.021345305763949718), (4702, 0.009352027199453562), (4703, 0.023010934490719132), (4704, 0.0), (4705, 0.007560141143903447), (4706, 0.0), (4707, 0.0), (4708, 0.005247382125581085), (4709, 0.019705799597055373), (4710, 0.0), (4711, 0.0), (4712, 0.0), (4713, 0.0), (4714, 0.0), (4715, 0.0), (4716, 0.015025471204845828), (4717, 0.0), (4718, 0.0), (4719, 0.0), (4720, 0.0), (4721, 0.016544532707286563), (4722, 0.019968705566842236), (4723, 0.006465184699438716), (4724, 0.0), (4725, 0.006454955834488197), (4726, 0.05082712419834029), (4727, 0.005680457563732131), (4728, 0.022747648456874908), (4729, 0.0), (4730, 0.0), (4731, 0.0), (4732, 0.009406862438328018), (4733, 0.004412049062241808), (4734, 0.0), (4735, 0.0), (4736, 0.008694547615210735), (4737, 0.0), (4738, 0.020299835991644855), (4739, 0.025089830805322073), (4740, 0.0), (4741, 0.006025555868469074), (4742, 0.12136086712670666), (4743, 0.027923310670997493), (4744, 0.02373606792374949), (4745, 0.005454891282058729), (4746, 0.0), (4747, 0.026697170274352772), (4748, 0.013545717635339976), (4749, 0.0), (4750, 0.0), (4751, 0.0), (4752, 0.009965493386278158), (4753, 0.0), (4754, 0.07900462317350496), (4755, 0.017942512605965983), (4756, 0.0), (4757, 0.0), (4758, 0.0), (4759, 0.0)]\n"
          ]
        }
      ]
    },
    {
      "cell_type": "code",
      "source": [
        "len(Recommendation_Score)"
      ],
      "metadata": {
        "colab": {
          "base_uri": "https://localhost:8080/"
        },
        "id": "MBft3yhUy51J",
        "outputId": "c5add28a-be70-4913-b571-1978aa83f533"
      },
      "execution_count": null,
      "outputs": [
        {
          "output_type": "execute_result",
          "data": {
            "text/plain": [
              "4760"
            ]
          },
          "metadata": {},
          "execution_count": 110
        }
      ]
    },
    {
      "cell_type": "markdown",
      "source": [
        "## **Get All Movies Sort Based on Recommendation Score wrt Favourite Movie**"
      ],
      "metadata": {
        "id": "90_0q_Pbi658"
      }
    },
    {
      "cell_type": "code",
      "source": [
        "Sorted_Similar_Movies = sorted(Recommendation_Score, key = lambda x:x[1], reverse = True)\n",
        "print(Sorted_Similar_Movies)"
      ],
      "metadata": {
        "id": "u60YYaOFi-Dw",
        "colab": {
          "base_uri": "https://localhost:8080/"
        },
        "outputId": "d7811da3-0da6-4f56-e85a-3e1f2de16d87"
      },
      "execution_count": null,
      "outputs": [
        {
          "output_type": "stream",
          "name": "stdout",
          "text": [
            "[(568, 1.0000000000000002), (570, 0.23774638753738936), (3724, 0.1834643245085129), (2361, 0.16436286018967577), (418, 0.16093391568075596), (1799, 0.16089450005652564), (1681, 0.15366093144614124), (1540, 0.14326199460383862), (3590, 0.14011656375639475), (682, 0.13792739122041112), (3459, 0.13763496549881873), (495, 0.13172799619425368), (1732, 0.13151019053607485), (1333, 0.13068374655395776), (1736, 0.12838464360565432), (1113, 0.12722643271405384), (4279, 0.12378550300043255), (1578, 0.1218507485725904), (4742, 0.12136086712670666), (32, 0.11981278942051383), (2113, 0.11937772926054144), (2055, 0.11793110203851845), (1788, 0.11512033774631325), (4589, 0.10981794830020203), (1948, 0.10926697883678246), (668, 0.10384678106617842), (2697, 0.10280361085864685), (904, 0.10232723973821155), (1844, 0.10201289204738176), (3457, 0.09941298667653828), (2810, 0.09750823594715402), (1784, 0.09669182663465674), (1495, 0.0961889423177075), (905, 0.0958935386885064), (644, 0.0951957080181505), (1791, 0.09388066794212262), (3383, 0.09196762195467559), (1111, 0.09160678416372882), (4071, 0.09155254876839014), (607, 0.08989669942240236), (2376, 0.08780951941930829), (3871, 0.08736799754212891), (945, 0.08627046094344668), (2616, 0.08461505144876924), (1755, 0.08425056085200464), (3294, 0.08360024087509231), (450, 0.08332085442322186), (170, 0.08309130442741268), (2633, 0.08269884943079223), (232, 0.08207697026825345), (2000, 0.08170352448918439), (2421, 0.08092381574327105), (1341, 0.08071592713756694), (3440, 0.08018294266239293), (108, 0.08002519243775028), (4338, 0.07991645256833908), (4679, 0.07952187666060073), (2740, 0.07905692103559578), (4754, 0.07900462317350496), (1515, 0.07881399814371035), (2814, 0.07847271943048317), (162, 0.07765707813308764), (1611, 0.07738679872920809), (3654, 0.07555237606313653), (4596, 0.0755312682071875), (477, 0.07404539193161791), (3741, 0.07382603461536467), (4461, 0.07310020908125556), (635, 0.07299403545218869), (130, 0.07286383772776327), (3820, 0.07271029741152753), (1961, 0.07222689480616826), (1254, 0.07187220071564016), (1735, 0.07177972878969696), (561, 0.07073756145801882), (1760, 0.0705418177531611), (1813, 0.07037556294806091), (10, 0.06945245379615324), (4454, 0.06927898204317563), (1698, 0.06876992285694522), (2513, 0.06801266919883411), (2812, 0.06797576053496927), (842, 0.06788019711074801), (1321, 0.06773149787653243), (56, 0.0675516864609185), (2927, 0.06701783820831375), (703, 0.06666166853570837), (1821, 0.06633459300678507), (1713, 0.06500050193233559), (1701, 0.06486453695149616), (94, 0.06482957744211985), (1374, 0.06474237812658003), (966, 0.06458333033975522), (1118, 0.06444270959525482), (2363, 0.06411178504437577), (4324, 0.06401703093939148), (1700, 0.06384296363910588), (3584, 0.06357400308003942), (3184, 0.06348106148019253), (286, 0.06301828800170732), (3518, 0.06301744507493644), (3970, 0.06272288593017383), (553, 0.06271874531861754), (3070, 0.06217512460658263), (3657, 0.06182512574708675), (2867, 0.061468065491716406), (3632, 0.06146719722997571), (2732, 0.06136788896243614), (1216, 0.06132099036334236), (2456, 0.061001340103853524), (2665, 0.060599170596186684), (1841, 0.060567170848522936), (1789, 0.06042113036076367), (674, 0.06006284004996539), (957, 0.06005823241824538), (960, 0.05995108390114315), (4070, 0.059853035055135756), (452, 0.05978174040511421), (1069, 0.059321948099236244), (913, 0.058689268937205614), (2898, 0.05826491516025058), (3361, 0.0581091211169073), (600, 0.057987526423699226), (2116, 0.057932341474155664), (599, 0.057930443707554236), (2335, 0.05792666811572696), (368, 0.057780525357661275), (1129, 0.05771379160882244), (592, 0.0576021641093529), (726, 0.05742283556787854), (4474, 0.057398897480265616), (122, 0.05718655709515656), (1957, 0.057047551626912905), (2787, 0.05686452550828057), (2319, 0.05663157187938597), (3698, 0.05656346692860614), (80, 0.05624594797893976), (57, 0.05608234015712004), (301, 0.05600645820017891), (1467, 0.05575160811621457), (3903, 0.05562327655348716), (4613, 0.05546266023791831), (977, 0.05534573307395309), (3955, 0.05500487245948785), (610, 0.05498306500199589), (3445, 0.054912997055495606), (1195, 0.05488204342845858), (4034, 0.054604110601076984), (2102, 0.05452333560772164), (2114, 0.05447636009611178), (2259, 0.054465208175912314), (569, 0.05436412672527662), (1982, 0.05427606853312518), (2944, 0.054072622043599784), (2729, 0.054017527341221824), (1420, 0.053793000644887845), (725, 0.053704198525352846), (2722, 0.05329875898532666), (2025, 0.05319335326243091), (334, 0.05306282484991082), (3870, 0.053011772796241106), (363, 0.0528926998774339), (3463, 0.052833940332332234), (3205, 0.05282986102270351), (1090, 0.052788287098952204), (1908, 0.052714389477105474), (2843, 0.05260407464094335), (3141, 0.05255928992880569), (1511, 0.05247932381487361), (1487, 0.05236354929595652), (3129, 0.05216085360543405), (2177, 0.05213174895579696), (4553, 0.05211398618045858), (4055, 0.051996349529891316), (4156, 0.051676470290175955), (1258, 0.051526086822057934), (1143, 0.05121125061216785), (2299, 0.05116617343918436), (3587, 0.05116403102681644), (1569, 0.051105948332648324), (2691, 0.05100337526205852), (4726, 0.05082712419834029), (269, 0.050819211418632215), (2198, 0.050804604453248), (615, 0.05078277879328065), (1278, 0.050723665288374395), (954, 0.05068724747270145), (3980, 0.05064539498100713), (2287, 0.050452417735842234), (2819, 0.05035500352078018), (731, 0.050181714771981786), (1512, 0.05006541761180549), (465, 0.04990345283303202), (401, 0.049883799691954486), (3846, 0.04974061650498351), (231, 0.049720602736899114), (1418, 0.049704904714926335), (1510, 0.04953538127453265), (3454, 0.04952814302316686), (2612, 0.04944625402696612), (2682, 0.049397298259351866), (1332, 0.04938073368042486), (1369, 0.04932365223179318), (491, 0.04910968442454912), (1466, 0.04905891990519502), (4099, 0.0490106927845283), (125, 0.04881100181045864), (3073, 0.048587602320934536), (1296, 0.04855977118813261), (327, 0.04844103641715906), (2283, 0.04840273084341698), (2070, 0.04813048528484715), (179, 0.0480726285177707), (297, 0.047972222988508215), (4329, 0.04791072125848175), (2074, 0.04774978881432609), (3099, 0.047744020994367684), (3022, 0.04764729076942839), (340, 0.047620177594030935), (856, 0.047615376050590644), (298, 0.04744593717176296), (3470, 0.047419523850155555), (2100, 0.047327840433917336), (257, 0.04731709043270476), (1669, 0.04730676179178619), (67, 0.047303214504783295), (1988, 0.04725357951230652), (2560, 0.04724536437000855), (1305, 0.04722877496047101), (1548, 0.047142103085912025), (1825, 0.0471071494914359), (2672, 0.04708393951218611), (1450, 0.04697800390604835), (3447, 0.046864089715352976), (1903, 0.04682567759931006), (1798, 0.04677649802300432), (4685, 0.046769073256883766), (191, 0.046716842637282784), (639, 0.046697011982070755), (2581, 0.046539250986193804), (4512, 0.046532136035866145), (4201, 0.04647506065335474), (469, 0.046357866360066384), (1465, 0.04618743841313316), (3456, 0.046178079936327235), (2136, 0.046161631914397455), (277, 0.04602574618034156), (2239, 0.045726408311904), (4110, 0.04568325097733689), (106, 0.04563279631932214), (249, 0.04558024874953509), (1697, 0.04557604057143598), (1314, 0.045478576897642724), (1218, 0.04546422163947532), (2020, 0.04541958956002405), (2211, 0.04538433666353231), (9, 0.04536669475996404), (609, 0.04534849636186039), (1150, 0.04530900321446807), (6, 0.045278184449287086), (3578, 0.04526453692166049), (4482, 0.04504828038583755), (751, 0.04501655429780947), (2427, 0.04497455078732085), (1266, 0.04497351863902274), (2940, 0.04489952192840452), (1384, 0.044794540972179775), (212, 0.04472535438144032), (17, 0.044703222447363855), (2442, 0.04469301892876004), (715, 0.044580061926543), (496, 0.04453622591590751), (2330, 0.04441464989908082), (1493, 0.04433544627325031), (990, 0.04433101785248349), (1365, 0.044299377582283944), (555, 0.0442657898776526), (55, 0.043972262815364954), (2062, 0.043948926712888706), (336, 0.043791642553548435), (2218, 0.043276382895756305), (3051, 0.043268119388465254), (1478, 0.043251874725148395), (538, 0.04322794994414393), (692, 0.04305749450176164), (3102, 0.04305719731209512), (2301, 0.04299010786334245), (3880, 0.04297862167311959), (1828, 0.04289143881305676), (706, 0.042840635484658135), (1310, 0.04279446096975902), (4292, 0.042793584734702), (37, 0.04275348186567463), (263, 0.042726134053137), (2622, 0.04270089680075806), (3405, 0.042700703351808256), (2285, 0.04266866805046761), (1675, 0.042665099068472656), (3156, 0.042658068337244365), (4339, 0.04257164002390991), (640, 0.04238702399349263), (4409, 0.04232140603732209), (4188, 0.04232018862849803), (1346, 0.04224769245230761), (300, 0.0422247975846118), (1012, 0.042207166117952825), (1725, 0.0421201090239715), (4101, 0.04204582337819441), (908, 0.04200835224151513), (2322, 0.0419262041574276), (1175, 0.04176926268660661), (713, 0.041668931191705255), (35, 0.0416606444301921), (1707, 0.04165629556846892), (2584, 0.041590141131116226), (1246, 0.041535076248609276), (2532, 0.04145442995744919), (1412, 0.0414429293439807), (613, 0.04140595086752547), (1968, 0.04114465862561656), (3566, 0.04108256646258227), (1802, 0.04088644566203238), (82, 0.04081406124623546), (699, 0.04077763307216609), (3919, 0.04073865546382728), (1006, 0.04071461728275462), (1575, 0.040651512322347885), (1818, 0.04060183905740495), (1368, 0.04053069598605018), (330, 0.04049435495620268), (101, 0.0404493459089421), (1517, 0.04040109181431943), (3786, 0.04030604931491633), (700, 0.040286982017744534), (3695, 0.04024651775578031), (1043, 0.040175182067088006), (1308, 0.04012593783920064), (4388, 0.040076148877756027), (4136, 0.040052227967712656), (498, 0.040047891461951785), (2049, 0.04001442975498485), (3408, 0.039799936720189326), (2094, 0.03979327423753307), (2250, 0.03974131128102124), (1649, 0.03969499919781846), (1472, 0.039622147473290875), (1967, 0.03956810391887472), (3011, 0.039536930488454414), (3027, 0.039445670305727425), (510, 0.03937082232956698), (1413, 0.039339341745890544), (4323, 0.039294284980946094), (1985, 0.03924455683487067), (1955, 0.0391853201785011), (2609, 0.03916628008740715), (1253, 0.039150052459037105), (3461, 0.039141056018789276), (1577, 0.03913271579826727), (752, 0.039084110278209364), (2582, 0.03906970565502245), (1812, 0.03901743989977497), (361, 0.03897881575636249), (3901, 0.03897675051024672), (39, 0.038877689068816626), (1431, 0.03881380475386865), (3387, 0.038772884558447365), (2286, 0.03876433294792228), (1737, 0.0387171997713948), (296, 0.038702073615696296), (177, 0.038692717989767075), (2844, 0.03865417934160649), (2865, 0.0386296019365041), (4224, 0.03859913369419503), (1878, 0.03857754264476072), (1804, 0.03856435681276109), (3752, 0.03855958713150327), (2990, 0.038525046365021146), (1414, 0.03846498526194156), (1249, 0.038462688102526864), (1029, 0.03840056859091373), (4032, 0.038377533643629294), (4095, 0.03833140051218868), (489, 0.03827605845013444), (3046, 0.038222518784706595), (1396, 0.038197004748163704), (676, 0.03819026926328427), (2185, 0.038168833386281596), (1870, 0.03811971108190624), (2762, 0.03808638595391181), (2014, 0.0380024117628512), (1331, 0.03796167291223114), (970, 0.0379529187875318), (3213, 0.03786135024037226), (1600, 0.037839742767944086), (3330, 0.037775608248602696), (1443, 0.037728894323857134), (3592, 0.03771258265269219), (909, 0.03770453914844993), (2510, 0.037701979194193394), (2714, 0.03769874592647018), (1997, 0.03764474729712872), (671, 0.03747876165967108), (1250, 0.03747065363420044), (1945, 0.0374677113685318), (1301, 0.037459818510105214), (779, 0.03738541978059524), (3386, 0.037250655825390964), (1468, 0.0372351218013192), (895, 0.03717835620147056), (3464, 0.037131514081255805), (1616, 0.037125839969841555), (2277, 0.03710120212168284), (4663, 0.03709540215698131), (3958, 0.03709320517633593), (1240, 0.036997694632788077), (402, 0.03699399857408764), (2715, 0.03698665246785324), (3420, 0.03694737186801368), (934, 0.03690242087419092), (1071, 0.036814920507389735), (4376, 0.03681187183014119), (3697, 0.03677714071356853), (3577, 0.03676337400105677), (299, 0.03671400992168071), (380, 0.03670998241800258), (1033, 0.03670858106926315), (1197, 0.036688081682623955), (3492, 0.036674751797417374), (2107, 0.03666281274947341), (87, 0.036651070314641564), (413, 0.0365454434401979), (4576, 0.036479527600792386), (1901, 0.03647509856628095), (3522, 0.036456374289402294), (1259, 0.03643328492940691), (4200, 0.03638628161341811), (2878, 0.03636571772373988), (2527, 0.03633521954121833), (4676, 0.03623541428101735), (4378, 0.036158023347230166), (2688, 0.0361422637055981), (266, 0.036068851381621), (1257, 0.036035169873070476), (2013, 0.0360326646690579), (3160, 0.03603063531743319), (2474, 0.0359653397640325), (683, 0.035924626638314285), (4218, 0.0359180123942301), (742, 0.03585467184675675), (1579, 0.035844363603883725), (3515, 0.03584013259735733), (119, 0.0358342791078385), (2625, 0.03580165477001143), (3709, 0.035790028782193235), (963, 0.03575691996118022), (283, 0.03570276853986087), (748, 0.03560079532943915), (685, 0.035593253611440626), (1373, 0.03557421675426138), (328, 0.03551609519422648), (2016, 0.035480604998088354), (3641, 0.03546334364748019), (3979, 0.03544301840715232), (501, 0.035441361785923574), (1650, 0.03543076916433539), (3536, 0.0353403909352798), (583, 0.035329236882041086), (3718, 0.03532887371552627), (1934, 0.03530622105589462), (1114, 0.035302868264630444), (451, 0.0352625376498953), (306, 0.03520398164642946), (3207, 0.03519855910626804), (222, 0.03512327276439812), (1067, 0.03509390845915938), (1052, 0.035091342967471496), (1603, 0.035033053281450614), (338, 0.03500902925244619), (3174, 0.034942047264336154), (53, 0.034866797674668056), (75, 0.03483148569944799), (4419, 0.034801972471431124), (2766, 0.03478242727096956), (102, 0.03476588046368707), (3384, 0.03473507895488065), (2590, 0.034727401211871914), (4119, 0.034717936551578565), (653, 0.03468145194072269), (247, 0.034672992903890254), (1572, 0.03465480566987801), (523, 0.034652712225603774), (3798, 0.03462741594955412), (4526, 0.034562500878426196), (4524, 0.03452741561414756), (585, 0.03447072828257876), (2882, 0.03446091600660583), (1919, 0.034390658643481085), (1051, 0.03436043151139774), (2588, 0.03430826716765871), (1045, 0.03423115128472384), (1288, 0.034201405332327225), (4294, 0.03419086545372473), (862, 0.03418690661076229), (1709, 0.034169783663649166), (3424, 0.034141263665826586), (4312, 0.0341081330903598), (2955, 0.03409008387926097), (2236, 0.03408138560142064), (2712, 0.03404742381323945), (3181, 0.0340385826990342), (1210, 0.03400058411653187), (3385, 0.03399656190089886), (528, 0.033991487854190344), (2237, 0.0339751036722148), (3404, 0.03396481760827134), (1386, 0.03393926962594525), (54, 0.033902137686214154), (1109, 0.033866861101838217), (1692, 0.03385950319139461), (4455, 0.0338100070284011), (4390, 0.03376833628798948), (3395, 0.03373244214892486), (91, 0.0337294098150876), (3469, 0.03370174825920225), (4581, 0.03369409110452734), (2951, 0.033647819076926884), (4422, 0.03362690363369962), (4609, 0.033612630371439106), (1173, 0.03358334407871003), (1471, 0.03356942489618271), (1771, 0.033553785657176656), (654, 0.03353929414360668), (4203, 0.03353828561517332), (3773, 0.03350106935136321), (566, 0.033479191207702944), (3839, 0.03347834169694147), (3730, 0.0334697591273245), (1172, 0.03346758548921668), (3472, 0.03346010005753998), (4240, 0.03342384338450621), (3416, 0.033395679138864195), (849, 0.03336112916872042), (2443, 0.03335970111506978), (2223, 0.03329174383675383), (1615, 0.03327097856471594), (4181, 0.03325505995991939), (1664, 0.033253687737777565), (1604, 0.03309855336026794), (3947, 0.03307129213240413), (3122, 0.033053918810692584), (4509, 0.03304467887245397), (2482, 0.0330289509589952), (1091, 0.033028839573795016), (1501, 0.03299836482384671), (780, 0.0329657341591669), (2847, 0.03295968136919452), (1993, 0.032859923932994896), (1539, 0.03278179474472459), (4158, 0.032751016770544476), (2660, 0.032739485190972833), (4270, 0.03271465051064438), (492, 0.03271060160252616), (2730, 0.03260168634552241), (3810, 0.032561571528186), (2241, 0.032560546246301766), (230, 0.03255281636158415), (2743, 0.03255125680095994), (882, 0.03254983124672541), (756, 0.03254847218630449), (3869, 0.032513113786830306), (3360, 0.03251139115970313), (4091, 0.03250662452214248), (1500, 0.032496615559177135), (1683, 0.03245908037217009), (3253, 0.03244310563647886), (537, 0.03242477829375696), (3276, 0.03240929988546685), (4266, 0.03232072350006534), (1845, 0.032255788809742635), (472, 0.032236275261990355), (4516, 0.03221697242047297), (2632, 0.032190040313359466), (993, 0.032189958208677), (206, 0.03217673960574363), (411, 0.03215803694582533), (2222, 0.032151704460761044), (3133, 0.03212473326189612), (3865, 0.032021093247868684), (407, 0.03201886970022063), (1529, 0.03201676994628048), (1100, 0.03200160368101863), (2902, 0.03199251780401856), (2641, 0.031989588539235767), (4436, 0.031948453105064695), (1401, 0.03190423599262642), (3965, 0.0318823277176527), (757, 0.031875951854167715), (1748, 0.031855242867792725), (3586, 0.0318385333195704), (2839, 0.03177595408724568), (1087, 0.03175733561628344), (762, 0.03169702755478064), (2086, 0.03168307767961685), (493, 0.03166441022776214), (1764, 0.031660251184619945), (2031, 0.03165864390042138), (2294, 0.03165679865781005), (4385, 0.03159130218192072), (3438, 0.03158304264317843), (681, 0.03153784140007063), (2753, 0.03153493088942092), (182, 0.031486256977714615), (3783, 0.03148577596587253), (603, 0.03146651368760004), (1011, 0.03145971748803439), (4245, 0.031458909718744), (60, 0.031448709983659624), (2956, 0.03144671839299527), (4566, 0.031438485859752535), (852, 0.03141948422358373), (483, 0.03140874729266134), (2572, 0.031369391407420455), (1719, 0.0313383235394772), (781, 0.031328355409384376), (2260, 0.031322223037943006), (2830, 0.03126844091599546), (4486, 0.03123852025292955), (1380, 0.031200577991089037), (365, 0.031199623190850623), (1185, 0.031168468968575856), (768, 0.031157605286086656), (3875, 0.031127915986190472), (1244, 0.03111927998322549), (3024, 0.03110948290430983), (71, 0.031075159767910195), (2550, 0.031043442366076784), (362, 0.031019696319988015), (288, 0.031018410942295578), (65, 0.0310078320385297), (687, 0.030953981864598107), (1613, 0.030942368105799964), (2073, 0.030914390840926283), (287, 0.030860927025674903), (1155, 0.030853205186144053), (1338, 0.03079681150960289), (58, 0.03078921119207484), (3323, 0.03077116118259234), (3398, 0.03075788224137176), (4077, 0.03074234407204554), (2027, 0.030738389903932288), (347, 0.030721195289688752), (382, 0.03070470478863187), (938, 0.030690105713043557), (1233, 0.030678818710267376), (719, 0.030670889373040758), (1632, 0.030637982092717807), (2793, 0.03063245233863585), (3907, 0.030615440619325477), (785, 0.03056032873649063), (935, 0.030550737547289902), (3845, 0.03054061125932097), (3743, 0.03053304891873392), (1726, 0.03052615890724794), (1525, 0.03050045805178498), (822, 0.030461357078860295), (733, 0.030420279015167303), (2668, 0.030407661402284243), (2175, 0.030370932923851846), (2826, 0.030330596544791394), (2746, 0.03032316906933468), (2804, 0.030311776446395097), (3638, 0.030292254919386554), (332, 0.030282294584028542), (1453, 0.030219313517518817), (28, 0.030203200017920463), (3690, 0.030156745704451173), (1196, 0.030135015146773636), (1666, 0.0301189427925001), (3108, 0.030111978617337658), (353, 0.030091086494556177), (973, 0.03009065329076338), (3728, 0.030090300453840563), (3179, 0.030065842328889907), (2245, 0.030064975690695883), (878, 0.030056227095447672), (1969, 0.030039561792482176), (4478, 0.03003756510409384), (2864, 0.030021345593862638), (3397, 0.030002298157543263), (3211, 0.029999604127694077), (381, 0.02999118659539794), (4542, 0.02998958936108341), (1678, 0.029965832695653533), (2647, 0.029963817425286907), (736, 0.029947275390954937), (3648, 0.02993702781317651), (279, 0.029914898617841516), (1223, 0.02986287247449978), (1926, 0.029854011699099542), (1503, 0.029848481734308985), (2813, 0.029811252617525985), (1522, 0.029798482806166038), (2022, 0.029786241952118438), (2038, 0.029785838338700868), (2389, 0.02977770481593621), (3937, 0.029775113183822435), (4194, 0.02975869552937764), (1046, 0.029757909059505826), (3685, 0.02972793162799962), (2313, 0.02972727705358253), (2962, 0.029724984756059253), (2774, 0.02965398906352723), (1787, 0.029627276250021796), (4001, 0.029602569869117717), (1179, 0.02958019643749531), (597, 0.02956518695334761), (2500, 0.02947154629482314), (1060, 0.02946807599049792), (324, 0.02945234306550152), (3993, 0.029449328933336856), (4531, 0.02940612404765829), (1307, 0.029396084044767592), (4205, 0.029376993814891277), (1017, 0.02936674241114506), (1283, 0.029357615582207286), (1965, 0.02934615408337473), (78, 0.029313311276019396), (586, 0.02926621552453964), (775, 0.02926495595568036), (657, 0.02920664665588262), (4320, 0.029205779193483185), (2640, 0.029192470099716705), (3284, 0.029185151134107266), (2807, 0.029183673388050085), (1932, 0.029173658139711265), (2109, 0.02916588170913461), (1459, 0.029046374603923085), (3342, 0.029035538472602446), (2524, 0.029028646202674854), (4031, 0.028998312351637745), (1351, 0.028995463217194494), (2485, 0.02895646529500112), (2097, 0.028956383984855543), (3, 0.028913528217961625), (93, 0.028896031229758427), (4487, 0.028847128762201555), (4646, 0.02883052704172785), (2822, 0.02881052664903324), (158, 0.02870120193521642), (631, 0.02868686513057369), (2708, 0.02868226660198234), (4682, 0.02867604830001895), (2095, 0.028644844838075), (1273, 0.028641202829680894), (4352, 0.02861052297275772), (3272, 0.028594764209964534), (829, 0.02859455389181855), (3069, 0.028593521373810712), (1455, 0.02858338083138018), (124, 0.02856307011305916), (2642, 0.028503197796917262), (1430, 0.028469410507207707), (1104, 0.028465150745173654), (4047, 0.02844230700832013), (2045, 0.028354575107925457), (310, 0.028351711953570197), (2242, 0.028346771799980987), (3661, 0.028341599959556756), (2680, 0.028328074516608875), (4382, 0.028312861083360057), (3096, 0.02831120645026114), (4210, 0.02829950370004038), (4431, 0.02829616309358577), (2817, 0.028293561541872653), (3193, 0.02826974975554771), (251, 0.028254277255561556), (3525, 0.028251240775749885), (180, 0.028222889539754065), (1581, 0.02821048857481967), (428, 0.028201998269245507), (859, 0.028190618558790095), (1256, 0.028158493870165967), (4611, 0.028155502012170448), (3797, 0.02814674466276101), (2005, 0.028127507500082208), (1001, 0.028124351371817125), (981, 0.028121711932559038), (2992, 0.02810092160798011), (69, 0.028057275082874644), (1255, 0.02804738266387081), (684, 0.02801402930229601), (3805, 0.02801367059314789), (3344, 0.027995851474666926), (4536, 0.027974038123533013), (2954, 0.027956397724780587), (911, 0.027956350170136687), (4743, 0.027923310670997493), (2019, 0.027902674160355696), (724, 0.027901641656543966), (763, 0.02789980939522351), (1994, 0.027899530118636724), (2790, 0.02789850856372463), (803, 0.02785122275515958), (2938, 0.027848554596605374), (3058, 0.027843676565492227), (861, 0.027830721392474733), (1262, 0.027826017735242084), (2386, 0.027817220976870245), (3732, 0.027785023453768154), (2145, 0.02778133962734993), (1913, 0.02776897375405334), (4624, 0.027745179566989436), (548, 0.027742509431258274), (1206, 0.027656229633891104), (2638, 0.027655569551355688), (1526, 0.02764916703284164), (1964, 0.02760886288976541), (1586, 0.02756118404370004), (3310, 0.027552294791668375), (322, 0.027548008882795003), (770, 0.027545739039258506), (3983, 0.02754215600696793), (417, 0.027479980270911794), (2497, 0.02747427007872876), (3930, 0.02747025939396113), (4036, 0.02745171397721501), (3277, 0.027402161733269363), (3782, 0.027371070902182774), (3444, 0.027344104658756932), (25, 0.02733081208457935), (2472, 0.02732379215487475), (1131, 0.02729903269756482), (3286, 0.027277237813459854), (3616, 0.02725550808977376), (2201, 0.027237735590865852), (540, 0.02723486567125111), (1354, 0.027221778617805746), (432, 0.027220144130608775), (881, 0.027213612117653885), (906, 0.02721082768416737), (1134, 0.027194570403069968), (3191, 0.027190144488597814), (2103, 0.027167355698076198), (4226, 0.02716726880696451), (3407, 0.02716273269174208), (2654, 0.027110810250503457), (546, 0.027107606677557145), (1990, 0.027101952116562515), (1474, 0.027095773232563618), (1987, 0.02708725295359067), (292, 0.02706938493668725), (2412, 0.027057601017059504), (3877, 0.027051583927471902), (720, 0.027021341488455072), (3932, 0.027005986511667184), (0, 0.026990942208242455), (1171, 0.02694662080179755), (2749, 0.026924637306910696), (4052, 0.02688222542373507), (512, 0.026875827401204214), (4564, 0.026864192969571696), (3450, 0.02685394471255539), (712, 0.02679901721717261), (497, 0.026780515538561565), (1068, 0.02675779085511608), (2517, 0.026749727934039024), (3914, 0.026735009243075026), (4747, 0.026697170274352772), (1721, 0.026696311526587295), (912, 0.026672875008802888), (2058, 0.026668986318723106), (4199, 0.0266345440087996), (4269, 0.026608232548312055), (1191, 0.026563221511963355), (2065, 0.02651149696536057), (4061, 0.026504585837395525), (4272, 0.0264687634483058), (1392, 0.026448761112298658), (723, 0.02637962400518943), (4569, 0.026373692607939984), (3992, 0.026372133442242995), (2418, 0.026341100915834127), (1105, 0.026334257779762907), (2060, 0.026316272537469806), (1855, 0.026278762232657283), (181, 0.026235219793036176), (2646, 0.026134019011611366), (661, 0.02613198078732803), (341, 0.026127006977498583), (4118, 0.026119625730738574), (1931, 0.026107952978650803), (375, 0.026101467320879267), (2637, 0.026085838159165035), (1084, 0.026073798039740158), (2498, 0.026062398828609407), (3613, 0.026054135288787958), (2964, 0.026010017932693388), (2221, 0.02600511904589966), (486, 0.025971003125530332), (3231, 0.02587055712040528), (3221, 0.02586109079523332), (38, 0.025841364057983304), (515, 0.02579604448806982), (2848, 0.02578361378906941), (2156, 0.025763902527348108), (3302, 0.02573673871946027), (2165, 0.02573411214947157), (4015, 0.02570519498783796), (3264, 0.025701098039906403), (2895, 0.025698541388760696), (1241, 0.025679015590577205), (3089, 0.02566459783600614), (218, 0.025649781734821363), (2359, 0.025617917864874662), (1597, 0.025560087336663744), (821, 0.025552205195722013), (1714, 0.025548728469112478), (2265, 0.025545330891907435), (530, 0.02554358664346925), (165, 0.02550939755776875), (234, 0.025461696641407155), (2803, 0.02545901697788184), (3328, 0.025449310432556514), (2837, 0.025447626199361098), (440, 0.025428682102914293), (1565, 0.025427311464247433), (1192, 0.025423126975845534), (1319, 0.025384643813164992), (3206, 0.025359156170711536), (995, 0.025346794754518346), (3448, 0.02533479371925305), (2553, 0.025297871147532944), (123, 0.025297336923782655), (3126, 0.025292981832169374), (4059, 0.02529071391103621), (2296, 0.025280120554326234), (1425, 0.025279934485965938), (1293, 0.025270930576264467), (3866, 0.025264323375028756), (1809, 0.025214925784508166), (1265, 0.02521207773926981), (1002, 0.02520989783600906), (4652, 0.025196817101117423), (467, 0.025189042055433236), (3759, 0.025179820519724366), (4025, 0.025173656065381668), (221, 0.025156681146369764), (3642, 0.025154993009505106), (3858, 0.02513357962208411), (3067, 0.02512746847632841), (864, 0.02511036182086078), (3817, 0.025105721073192984), (1630, 0.025105490660125997), (4051, 0.02510529888610434), (1728, 0.025102712504240766), (1696, 0.025100211274784418), (62, 0.025097071774827964), (4739, 0.025089830805322073), (1995, 0.025086748775152684), (840, 0.02504995908905411), (2782, 0.02504939998015824), (293, 0.02503582130612524), (3265, 0.02500621345617302), (539, 0.025004909982473542), (3003, 0.02499782499095312), (1494, 0.02499763040228133), (3306, 0.02494144847461823), (1601, 0.024938249916844037), (2167, 0.024935030280212916), (3723, 0.024925076840905294), (48, 0.024915231148062083), (4171, 0.024884865905275385), (3480, 0.024871554045390966), (2367, 0.02483905300570033), (3609, 0.02483403082445343), (3785, 0.02483169504503456), (4256, 0.02475791189629209), (1688, 0.024743332492831678), (651, 0.024712486473363368), (2037, 0.024690897719019722), (1684, 0.0246486837908343), (2798, 0.0246404054463727), (4374, 0.024631755347078746), (1743, 0.024627990620417563), (2071, 0.0246148929477764), (1056, 0.024602325894636956), (3516, 0.024592319658451052), (153, 0.02454584174788869), (3913, 0.024544385524929626), (897, 0.024525453669729837), (2269, 0.024515948990640857), (4346, 0.024506472587028583), (3394, 0.0245019636475464), (1106, 0.02444297107736967), (2118, 0.024405975135645838), (1399, 0.024405007635901064), (4659, 0.024401202706451318), (3823, 0.02439790612327688), (3152, 0.024375944638241647), (1041, 0.02435763705656233), (3172, 0.024317909051687105), (4064, 0.024314125193373896), (3355, 0.024301603125746075), (3736, 0.024298356922365205), (1270, 0.024256504026698343), (4351, 0.0242496971413535), (4513, 0.024220930719912367), (1840, 0.024210723015827926), (689, 0.024206840248671563), (1022, 0.024185403527429733), (1881, 0.024184281099773428), (3738, 0.02415734861913573), (2503, 0.02413645198697776), (928, 0.024129101595826256), (1986, 0.024071967219189853), (1031, 0.02404177394291196), (1306, 0.024030923437612872), (2033, 0.02402371296402138), (4498, 0.02399577724240108), (2437, 0.023975920099487107), (2689, 0.023970145436081523), (1381, 0.023966124525582617), (1329, 0.023945093471089814), (2411, 0.023918651866372286), (3711, 0.02390811794312199), (4290, 0.023880516616572447), (1502, 0.023878770706117013), (2591, 0.023851939785497548), (220, 0.023826516937806318), (891, 0.023818975369588005), (4282, 0.023816913546074174), (1810, 0.023788263134006764), (1276, 0.02377417806440496), (4088, 0.02377262697545022), (618, 0.02376223956756209), (815, 0.023751993536880924), (4744, 0.02373606792374949), (951, 0.02371778154412782), (2698, 0.02371487632871207), (424, 0.023712907872704504), (425, 0.02369233428775441), (4375, 0.02368875765470974), (4152, 0.023667350784533192), (2763, 0.0236544323694499), (3784, 0.02365330017102163), (1584, 0.023628985219708), (807, 0.0236189267881603), (3559, 0.023585757191028484), (3201, 0.02358400260033601), (591, 0.023577833997212957), (3335, 0.02357248131660235), (875, 0.023563950925238587), (294, 0.02355567050503158), (1738, 0.023549406185762664), (45, 0.023543121860290055), (551, 0.023529681823123424), (1251, 0.02352603260972985), (3091, 0.023516236906430323), (1588, 0.02351247623204254), (666, 0.023500890205973613), (3362, 0.023496194525330957), (4403, 0.02347708294753604), (2733, 0.02346441172167458), (1836, 0.023453310654316238), (2338, 0.023444425461571553), (2043, 0.023429953721668197), (1695, 0.023418857889612316), (4257, 0.023409647053141944), (3210, 0.02339893487942909), (385, 0.02338358239758017), (898, 0.023375860627924606), (4491, 0.023360758968407058), (1833, 0.02336054006940886), (4467, 0.023357722738290516), (2354, 0.023353645638590177), (4459, 0.023343900036251416), (3246, 0.02333421272291561), (214, 0.02333117720933343), (4658, 0.023327991983190875), (3569, 0.0233276316368823), (187, 0.023320054539695594), (3106, 0.023256508944928974), (3633, 0.023240058690915562), (356, 0.023217182350069903), (3399, 0.023216688866883117), (141, 0.023201463215225683), (3354, 0.023190403048370226), (2969, 0.023176598738489325), (851, 0.02313701659857617), (2428, 0.023130870313830976), (159, 0.023129517941058282), (1554, 0.02307673018334566), (1387, 0.023067787234758767), (994, 0.023055944684323277), (1486, 0.023048025921944937), (2161, 0.023038385053875822), (4703, 0.023010934490719132), (962, 0.023008510973384896), (3270, 0.022971740730031096), (887, 0.022968024005009538), (2047, 0.02293018474328016), (2233, 0.022918688314847138), (1335, 0.02291337124128508), (1608, 0.022904712793410685), (2371, 0.022882148290665087), (2904, 0.02287508395676305), (2110, 0.02286950634222228), (3541, 0.02286616905767202), (2160, 0.022833108326879747), (343, 0.02282824152868206), (2061, 0.02282648565944956), (4196, 0.02282260388452251), (4503, 0.022805034887240082), (2586, 0.022799916451156338), (1212, 0.02278450709813469), (746, 0.022782760052497502), (952, 0.02275243273860542), (4728, 0.022747648456874908), (430, 0.022735540424964784), (24, 0.02272842249229887), (2920, 0.02269695907975007), (991, 0.02267426367206744), (395, 0.02266311036532001), (4167, 0.022659495135178523), (1746, 0.022646248018402003), (1005, 0.02258862000249596), (1925, 0.02258672282561773), (1627, 0.022576353401136805), (1935, 0.022556639322626013), (749, 0.022550431869794295), (79, 0.022542105053057558), (3722, 0.022534990291702445), (3458, 0.022532828479794827), (1506, 0.02252323047289762), (135, 0.022517501158379145), (3299, 0.022513252797647987), (3539, 0.02250435888933015), (2178, 0.022490356547739745), (1238, 0.022458467444267327), (1239, 0.02245061442124778), (1220, 0.022428987532623578), (3834, 0.022426153532545772), (259, 0.02240784119894749), (110, 0.022400374810430345), (1477, 0.022381087759906014), (456, 0.022379797492020882), (853, 0.02237080174065838), (433, 0.02235167377052785), (3131, 0.022343608020257456), (415, 0.022311071344179936), (811, 0.02229704263946667), (4303, 0.02227606596618372), (664, 0.022275534606285122), (354, 0.02227456891458034), (1400, 0.022266251231825275), (4007, 0.022239537073149712), (727, 0.022142059529621377), (84, 0.02214005776513445), (1142, 0.02212917090702524), (2910, 0.022124161311928736), (1436, 0.022097196016710164), (150, 0.02209255711695663), (95, 0.022084968303492096), (204, 0.022068025284955058), (3859, 0.0220672573195873), (1408, 0.02205375027121376), (329, 0.022051533744038156), (1653, 0.022050698688885984), (3162, 0.022026464230882316), (500, 0.021974797420268553), (3465, 0.021962279926680397), (3353, 0.02196047550196233), (1274, 0.02195867323396178), (3790, 0.021954871007982553), (2931, 0.02194971633289096), (3825, 0.021908343990212527), (4552, 0.021894874563076584), (3847, 0.02187748919971145), (961, 0.021854891762847495), (4012, 0.021822326122281046), (2015, 0.021807418881240326), (2432, 0.021795803510236005), (201, 0.021789399336388255), (2656, 0.021778626630885325), (223, 0.02177438966287687), (3826, 0.021739198223439594), (3477, 0.02173348984169681), (3327, 0.02172560897405655), (4106, 0.021724191074096844), (2247, 0.02172322825407251), (1673, 0.02171961341684227), (1095, 0.021684999642639466), (3173, 0.021658995909401207), (594, 0.021649355392573323), (189, 0.021626709015354253), (1779, 0.021622345130223965), (918, 0.02161273656642505), (3502, 0.02158642169618437), (809, 0.021562919765920695), (1176, 0.021561950811451052), (238, 0.021544229052759958), (1116, 0.021515287015528718), (558, 0.0215133670261125), (118, 0.021506051998599757), (2868, 0.021502809974683193), (3812, 0.02149974071041192), (3557, 0.02149305302331345), (3840, 0.021486475848880957), (3982, 0.021464268594444745), (1533, 0.021427058070440576), (574, 0.021417962295131193), (1553, 0.021415347567340766), (1850, 0.021396257204082197), (2224, 0.02138541513499799), (1998, 0.02137813197506067), (86, 0.021371407897321563), (2225, 0.021369015472447208), (4660, 0.021363103628716733), (2652, 0.021354865638876522), (4701, 0.021345305763949718), (545, 0.02134362797263522), (2975, 0.02131778798893329), (2444, 0.021302919971423605), (4283, 0.021288440637037248), (672, 0.021283707828635423), (1136, 0.021272798817432166), (1682, 0.02126114277544228), (1587, 0.02125858548207528), (648, 0.02124408492351665), (2657, 0.02123586139935218), (919, 0.02122344662678262), (4094, 0.021203952857391784), (3655, 0.021182741583987197), (3028, 0.021180088026744114), (414, 0.021131060611371866), (1378, 0.021105315751189836), (3426, 0.021105208331312467), (2067, 0.02108575832975658), (3639, 0.02108059071420761), (1162, 0.02107748600424465), (1605, 0.021077268872199646), (4568, 0.02106500335044965), (3748, 0.02105978140303296), (4328, 0.021053712056330838), (3886, 0.02104904751308205), (2738, 0.02104637046769789), (2862, 0.021003187541569213), (90, 0.02099454137530082), (188, 0.020985365941669356), (2501, 0.02098489686721449), (2897, 0.02093508098941311), (874, 0.02092558940881614), (264, 0.020913194330462077), (4009, 0.0208937088589373), (899, 0.020885032059201614), (305, 0.020864181629163425), (61, 0.020854603482968827), (1823, 0.020851676252788588), (4674, 0.020841399250790836), (3226, 0.02083782416151493), (3884, 0.020837504466998256), (3801, 0.02082288510169099), (1592, 0.0208223722949546), (880, 0.020819930526406117), (1168, 0.020803649763238286), (117, 0.02080312966531389), (788, 0.02080231000832109), (3093, 0.02078824448880466), (1157, 0.020788000001006064), (1066, 0.020756539515498596), (4344, 0.020742127522419593), (3593, 0.02074186113102037), (1320, 0.020732699435997315), (2981, 0.02072830523305318), (3963, 0.020728119330895352), (2297, 0.02070484594413243), (4590, 0.020704492959928728), (3409, 0.020701994708399056), (2791, 0.020668683124395543), (390, 0.020663958539717333), (511, 0.0206340684606729), (2768, 0.020608120133955993), (2316, 0.020599805845385098), (1914, 0.020598740764848893), (3267, 0.020586033609379495), (403, 0.020566827347461063), (1312, 0.020540757790681947), (522, 0.020504344579971148), (404, 0.020499077182849313), (3957, 0.020482790064033585), (662, 0.020480398247729518), (1245, 0.020475522803425177), (208, 0.02046443362631038), (2713, 0.020459368502433073), (1261, 0.020451523912538693), (144, 0.020444569162211632), (339, 0.020441237791414754), (1099, 0.02043960231581809), (1184, 0.02043181193589387), (4594, 0.02040585234134753), (2950, 0.02040270550941816), (4112, 0.020385179627470426), (3083, 0.02037467980333959), (4046, 0.0203696767443924), (3747, 0.020358854347620525), (4150, 0.020329973240277594), (4738, 0.020299835991644855), (3713, 0.02029369412471407), (4415, 0.02028809805181477), (96, 0.020285348392693456), (152, 0.02028133788486794), (3043, 0.020274406653159126), (1345, 0.02026403129444071), (1007, 0.02024652919463365), (4550, 0.020246215261501478), (2985, 0.020239758963187117), (2789, 0.020232084707376082), (3222, 0.02023138472543698), (19, 0.020222904227665553), (1633, 0.02018365419032676), (1645, 0.020175618227148265), (3998, 0.02016240985552093), (261, 0.020149494477218963), (3345, 0.02013771942193808), (1571, 0.020123697703096924), (4002, 0.020119491342237956), (1974, 0.020098900143606692), (915, 0.020096177082434122), (3917, 0.020089792048571038), (1190, 0.02008263647633128), (3684, 0.020066709619743613), (2320, 0.020052485900666786), (441, 0.020051780804636432), (1363, 0.020046857583594504), (4450, 0.020044658882567637), (202, 0.020040971304633982), (914, 0.02003579330742996), (2318, 0.020034959009564757), (3568, 0.020028929191449045), (819, 0.020021045251244058), (3598, 0.02001723391660298), (3364, 0.019999469633035134), (434, 0.019983663901921106), (4722, 0.019968705566842236), (1325, 0.01996457065142538), (4108, 0.019955797739371135), (1858, 0.019955743151293902), (3751, 0.01994403549564664), (116, 0.019936211968132212), (225, 0.019924299216741055), (284, 0.019917073653334283), (2706, 0.019896431188894993), (3921, 0.019876190636730014), (1626, 0.019859673037379795), (4515, 0.019845436050433873), (4011, 0.019837938426871586), (171, 0.019824249828989195), (412, 0.019823913882561633), (260, 0.019808714086400166), (4267, 0.01980664729289227), (3681, 0.019798126431703724), (2759, 0.01978945257203176), (1194, 0.01975668748707142), (2170, 0.01975379497123575), (3619, 0.019743043044910535), (273, 0.01970808672274657), (4709, 0.019705799597055373), (1936, 0.01970072447451375), (940, 0.0196933997836545), (1895, 0.01967354821601748), (2205, 0.01966024059978066), (228, 0.01965254314259477), (242, 0.01964327728163371), (397, 0.019630202861624764), (371, 0.019624697799579077), (691, 0.019611522970300364), (2139, 0.019600794884253266), (1928, 0.01958590052430553), (3100, 0.019578630606355965), (1610, 0.019557114921481714), (4410, 0.01955414360992886), (3136, 0.019548607382651365), (426, 0.01953403908279428), (136, 0.019506412567807805), (2549, 0.019478650690642835), (355, 0.019477651660605756), (1734, 0.019469299846743497), (1716, 0.019429182136726692), (4177, 0.019415164975480022), (2093, 0.019384696503331106), (813, 0.019373207943262388), (2777, 0.019364793241725832), (4247, 0.019330137785909647), (2050, 0.019323437404638114), (1594, 0.019312512154223197), (2841, 0.019311273377542782), (3414, 0.019308551732476715), (1385, 0.019300071214862248), (949, 0.019299823676010453), (309, 0.01929974908578349), (1055, 0.01928773987303979), (669, 0.01925635778767132), (4649, 0.019219687718452887), (1637, 0.01921094360105087), (1781, 0.01917582842749295), (3864, 0.019165490550045357), (1156, 0.019152308838985405), (2769, 0.019151636113537235), (4191, 0.019133651743740085), (168, 0.01912976619823565), (2568, 0.019128845258264596), (582, 0.019115186507541414), (3852, 0.019097408529810463), (3995, 0.019096754063453757), (4551, 0.019089475711642583), (4175, 0.019070411571147874), (1535, 0.0190141562606629), (2996, 0.01898257293830933), (3228, 0.018980888822474035), (982, 0.01897473750550166), (1559, 0.01896886513402919), (3924, 0.01896125160519334), (4062, 0.018943867081756056), (3677, 0.018934047260602344), (1896, 0.018919622738879517), (1918, 0.01891755012363341), (1214, 0.01889759787826816), (675, 0.018892888936429538), (1750, 0.01887768029554324), (2481, 0.0188674997820884), (4406, 0.01886409214488572), (3234, 0.018854247967177027), (3393, 0.018850387556855686), (1797, 0.01882234333671568), (2, 0.018806392274173616), (4237, 0.018805596939986492), (1859, 0.018805482008809583), (3989, 0.018795057215879724), (1271, 0.01879077915288582), (421, 0.018790644604719357), (1652, 0.018736397124920923), (20, 0.01873282400803726), (1101, 0.018722277356048683), (4332, 0.018713622729994092), (321, 0.01870926547088316), (660, 0.01870801660078027), (658, 0.0187042147876843), (2403, 0.018701017670141148), (1679, 0.01868953128920772), (3948, 0.018676284675754082), (2991, 0.01866480576468553), (4448, 0.018625007372333923), (836, 0.018621761264508072), (252, 0.01860499756276393), (3244, 0.018604229150502718), (7, 0.018586667790081918), (2531, 0.018586562567477205), (2252, 0.01858497042564338), (1405, 0.0185704905855433), (738, 0.018565858142135707), (2546, 0.018565807271222826), (484, 0.018546441442720996), (480, 0.018535612837801897), (3778, 0.018524859830977743), (455, 0.018520291181695184), (12, 0.018500407537554785), (619, 0.018494771762258118), (319, 0.018466002282196047), (1552, 0.018429622066088988), (680, 0.018424209230603096), (4405, 0.018417683624499522), (2053, 0.01841250284554903), (2998, 0.018405295094680807), (1943, 0.018385795971399173), (2936, 0.018367613760152033), (3618, 0.01836364173608642), (74, 0.018345060708983618), (846, 0.018338654968444175), (186, 0.01832898830654292), (2547, 0.01832035624994991), (2795, 0.018308491843663264), (930, 0.018308419031163665), (4265, 0.018254951126681997), (3951, 0.018249754678889528), (2562, 0.018236819211719546), (4444, 0.01822438305562698), (1370, 0.018213454121505088), (718, 0.018197013490823977), (1458, 0.018171345487270382), (1224, 0.018163001692449665), (3303, 0.01814887236378105), (3008, 0.018139435126638487), (832, 0.01813363757127545), (1772, 0.0181227711184356), (4535, 0.018111890025249995), (1689, 0.018097288618160703), (4401, 0.018079510086275), (3378, 0.018077924815012133), (3144, 0.018067218212090626), (1047, 0.01805003811299162), (468, 0.018037619411916533), (1758, 0.01803531175045321), (4605, 0.01802321454348782), (3531, 0.018022120194795842), (2052, 0.018017446497387707), (588, 0.01800225359022782), (314, 0.017997420427686258), (1364, 0.01798892392507577), (4184, 0.01798269192015784), (2919, 0.01797480114308591), (2072, 0.017951716519913515), (4755, 0.017942512605965983), (2758, 0.017939800480154335), (847, 0.017935460907935123), (2526, 0.017932865158313938), (2645, 0.01790450358858651), (1163, 0.01787804152710351), (4236, 0.017826681093134754), (3114, 0.01781964282967308), (4000, 0.017764448973283498), (2873, 0.017764121675691864), (2339, 0.017764063699763986), (1352, 0.01774004418947388), (3039, 0.017698673855598666), (2188, 0.017693063672942048), (2575, 0.017686539666471584), (3435, 0.017660972926841108), (737, 0.017640810925229098), (2937, 0.017604699303613393), (2017, 0.017603585171311407), (36, 0.017574944265830113), (3822, 0.017561521281379826), (2127, 0.017532367324583246), (948, 0.017517317233056034), (2430, 0.01750055999113861), (3466, 0.017492194288754214), (3551, 0.0174852344590248), (2436, 0.017480858065923283), (1567, 0.0174610115779405), (3412, 0.017393543321753687), (3491, 0.01739241936924369), (3564, 0.01739162045006011), (3574, 0.017391234567805572), (2426, 0.017374086572972333), (2492, 0.01735707016384377), (389, 0.0173223899888388), (272, 0.017319226879132593), (2046, 0.017302809244255295), (4069, 0.017298761953684162), (2246, 0.01729185250361486), (790, 0.017285591205738457), (4591, 0.0172812344154119), (2195, 0.017278725704026582), (2112, 0.017262738134325287), (1304, 0.01725484487632459), (923, 0.017247350949584433), (2018, 0.01722935914124077), (439, 0.017222449596588495), (2565, 0.0172123300773279), (988, 0.01720759542139076), (2772, 0.017173419684774677), (460, 0.01716893654235414), (1583, 0.017135236892292297), (1530, 0.017103183963811695), (295, 0.017092948851454105), (677, 0.017092704068440927), (243, 0.017083334133883802), (573, 0.017079652643298776), (4610, 0.017044726609765463), (342, 0.01703813331145149), (4155, 0.01703788468053252), (984, 0.01703572330001342), (3644, 0.01702120856631896), (169, 0.01702113059547799), (519, 0.017019536295977043), (3400, 0.017016016250031164), (953, 0.017007511519822122), (482, 0.016935905164637735), (1617, 0.016913147285095485), (2544, 0.01689394148885479), (1377, 0.016882188941668905), (3293, 0.016880095974520837), (2494, 0.016862637063498373), (4395, 0.016853952680201165), (3860, 0.01684677004289722), (1640, 0.016845435660841998), (1756, 0.016817862625683182), (167, 0.016809131523394298), (142, 0.016802878979464815), (4076, 0.016802430415742493), (72, 0.016801741218835552), (1591, 0.016790290142500542), (3127, 0.016781158795294543), (3765, 0.016755501572826462), (4492, 0.016754434303165925), (2096, 0.016750984858226854), (4472, 0.016746677062274493), (2422, 0.01674374515286838), (1379, 0.016707413927038835), (1463, 0.016703472921931133), (4192, 0.016703317272464862), (1421, 0.016701318874297082), (3890, 0.01668781847379264), (2725, 0.01668011474869223), (3218, 0.016674357522039156), (1619, 0.016667858146171652), (3483, 0.016639679536747023), (3696, 0.01663464301617045), (138, 0.016634440205263567), (3010, 0.01663332328263568), (193, 0.016616153526295325), (1668, 0.016607861975208343), (1886, 0.01659941319097864), (3630, 0.01659918351885738), (1951, 0.016594192471056438), (3635, 0.01657547584114466), (454, 0.01655187359054731), (883, 0.016549151808548684), (2398, 0.016547793044940348), (4721, 0.016544532707286563), (239, 0.016543357122622542), (2755, 0.01649212576042205), (4695, 0.016483286850795826), (1375, 0.01646589973260116), (798, 0.01646083813102984), (4441, 0.016457016935247162), (2181, 0.016455764696301608), (2892, 0.016445055233457392), (818, 0.016437607839894203), (590, 0.01643723922458033), (3712, 0.016410488181124575), (1915, 0.016404071298098503), (2765, 0.0163959675723012), (1718, 0.016394142448431463), (1742, 0.016380753587021693), (3065, 0.01637279363606179), (4620, 0.016363747680364388), (3275, 0.016348686185961983), (387, 0.01633895662392055), (3599, 0.0163305992328891), (2023, 0.01631430515852391), (2525, 0.016313418344837925), (2720, 0.016305573132925542), (4399, 0.01630165626777215), (1124, 0.016293296476275893), (776, 0.01627753857820287), (1939, 0.016270281241449993), (2957, 0.016262765593841134), (4519, 0.016258033460406537), (2903, 0.016257992714462793), (929, 0.016257312343796005), (4477, 0.01625357685766213), (1048, 0.016253042184960067), (1629, 0.016222572673222677), (1496, 0.016208875850715704), (1451, 0.016202322699951813), (2552, 0.016197218556110872), (1815, 0.016191904919848427), (2215, 0.016190532126513908), (2816, 0.016183202106169327), (3689, 0.016177691706183432), (1403, 0.01617133001239582), (1860, 0.016162340702171055), (3312, 0.01615887784779949), (2327, 0.016152311873467586), (241, 0.016142128072440642), (4016, 0.01613732955598049), (589, 0.016125538071198743), (3215, 0.016120655994976026), (2559, 0.01611645816868939), (137, 0.01610273453105811), (871, 0.01610265969664545), (778, 0.01609596090432425), (128, 0.01608312470041379), (372, 0.016071764188420712), (2075, 0.016064138390757845), (3596, 0.016058043336258276), (3742, 0.016028427032981706), (4168, 0.016028307547200776), (2514, 0.016022673792129235), (805, 0.016020328857084855), (2977, 0.016014393706501685), (2012, 0.01599947644386363), (4189, 0.015998474846708088), (1077, 0.01597853256760557), (1291, 0.01597783228372564), (614, 0.01596236538188795), (3365, 0.015946191816221398), (219, 0.01594553018234478), (2551, 0.01592380074882029), (850, 0.015922583326201962), (1843, 0.015915098381151946), (2180, 0.0159031160628082), (3643, 0.015889127239476893), (2087, 0.015869870239444497), (2487, 0.015850916474357178), (83, 0.015849351163653012), (131, 0.0158460062945259), (1782, 0.01584509514691329), (446, 0.015828288222150343), (524, 0.01582389988290907), (4121, 0.015823426688789045), (1461, 0.015815496109380912), (4297, 0.015806619152969523), (291, 0.01579133537074831), (3563, 0.01578962739174002), (2193, 0.01578276800636344), (209, 0.01578217446733857), (4373, 0.015754553115726454), (104, 0.015739231553790253), (4440, 0.015734721334965847), (303, 0.015731828085431318), (4462, 0.015721964367095675), (2414, 0.015721675770184126), (2470, 0.01571290018991376), (2036, 0.01570199574054772), (1039, 0.015681472951289393), (4142, 0.01567431820066243), (3926, 0.015665624098944016), (2534, 0.01565036367154856), (3033, 0.01563162828916088), (280, 0.0155995981645776), (3986, 0.015587775327199651), (2530, 0.015582224318556707), (3594, 0.015578702138611537), (4511, 0.015556207775034121), (1057, 0.015555940297984332), (346, 0.015541410320363535), (3841, 0.015536251230280978), (2840, 0.015516654003752624), (577, 0.015516065571473402), (992, 0.015509762000405814), (1774, 0.015506828203050937), (2480, 0.015506064656852402), (282, 0.01548250783699117), (1817, 0.015479754369955849), (2696, 0.015452731055654019), (2854, 0.015450978303114128), (3237, 0.015448232987293857), (2121, 0.015447110574924507), (4549, 0.015433421878259034), (1852, 0.015423567867195943), (3710, 0.015412544896608281), (3425, 0.015402666257385352), (2044, 0.015399353514986645), (2737, 0.015398510081267719), (3453, 0.015385086291467847), (68, 0.015375373598359556), (2463, 0.015373940114627588), (1551, 0.015372094895767765), (3045, 0.01534424189904722), (1807, 0.015341409904066579), (63, 0.015340989757438495), (2724, 0.015327521139022766), (2168, 0.015325761528670472), (197, 0.015320464439985394), (4045, 0.015316072183314107), (820, 0.015303316851572341), (2329, 0.015298090587024894), (870, 0.015293562482360648), (3066, 0.015281036036251246), (2573, 0.015230935842279775), (2504, 0.015227879876514805), (3251, 0.015225928262682452), (1186, 0.015211881258498126), (4468, 0.015191993330971643), (903, 0.015168377895713635), (794, 0.015164219201996945), (643, 0.015156055882563036), (2808, 0.01515534783322008), (2982, 0.015128056243842312), (1146, 0.015122812608386625), (1267, 0.015119656300114411), (85, 0.01511877051123475), (345, 0.015116145990640938), (1864, 0.015115743135880717), (3240, 0.015114022863969791), (3403, 0.015112157707846838), (4217, 0.01510639657548822), (1432, 0.015101365460608472), (4586, 0.015096122905888583), (4656, 0.015083217104849882), (3468, 0.015075108219376892), (2056, 0.015071774195181721), (521, 0.015058674437788924), (4716, 0.015025471204845828), (2627, 0.015008555258225899), (782, 0.015008330611917139), (1446, 0.014988264995135933), (3504, 0.014980814056608373), (2143, 0.014953775070906051), (4005, 0.0149461962688711), (3567, 0.014943046786235047), (3744, 0.014920482617171077), (4523, 0.014919901020449555), (1659, 0.014909178489806541), (3151, 0.01489867778921183), (1537, 0.014894967550120895), (29, 0.014894235274266102), (1981, 0.014893625502321985), (357, 0.014884907934705276), (4038, 0.014873447671339532), (2447, 0.014858693015005687), (2963, 0.014854538642861733), (3238, 0.014844288897519235), (787, 0.014842224255518057), (3484, 0.014831513370684286), (2859, 0.014828303797446806), (1710, 0.014815595503027596), (4428, 0.014809853442616937), (3180, 0.014789101951189652), (3297, 0.014782858241452873), (3950, 0.014776808754033439), (3707, 0.014755189721043217), (2303, 0.01475108473259687), (1687, 0.014750787953679845), (2959, 0.014725102564545352), (3200, 0.01471999838430818), (1691, 0.014717951070784965), (3855, 0.014699974776304171), (1723, 0.014682623526364097), (3259, 0.014672193819983265), (1793, 0.014659291850864706), (3223, 0.014639127865994413), (2039, 0.014636047586280098), (4571, 0.01463451593513439), (3227, 0.014617671592301835), (1316, 0.014600248265460834), (710, 0.014599997092122577), (3909, 0.014592465933945645), (1475, 0.01458229805558684), (2119, 0.014578975271867061), (1662, 0.014577206794681188), (3121, 0.014565720247969045), (463, 0.014564933938966535), (494, 0.014564078524535864), (2567, 0.014548433018242699), (1519, 0.01453285979642158), (1911, 0.01452619219038144), (1219, 0.014516834840892764), (2874, 0.014516116542604492), (4629, 0.014513209905733186), (64, 0.014509883667306895), (1949, 0.014501251988331368), (15, 0.01449570874675743), (916, 0.014492435150084497), (2615, 0.014488242258338925), (3656, 0.014483606248070978), (3507, 0.01442215296491375), (3430, 0.014420282964298195), (3889, 0.014416595380510502), (4379, 0.014414494576259904), (814, 0.014414113340802361), (4342, 0.014412606758433411), (2707, 0.014388922109373991), (3389, 0.014384682528486781), (3534, 0.014367398916001176), (1875, 0.01436264462306697), (409, 0.014359273208220693), (1103, 0.014324405318841152), (4238, 0.014306283978119574), (1547, 0.014278991622907296), (1014, 0.014254638586315175), (1564, 0.014248553413121739), (4020, 0.014222733854646764), (1398, 0.014192261568751181), (2509, 0.014174920831714873), (3908, 0.014171668191822247), (2788, 0.014163615329898148), (3419, 0.014148306296786275), (2210, 0.01414506468780276), (4068, 0.014133908784015799), (1464, 0.014129480265294451), (3317, 0.014127950518267342), (4223, 0.014116795752142232), (3532, 0.014115465097185448), (612, 0.014113652965961343), (848, 0.014106545382610537), (4541, 0.014086968508069127), (1751, 0.0140758328611253), (825, 0.014060669003636821), (3972, 0.014042114392876007), (4074, 0.014035916338094657), (732, 0.014029478579682335), (73, 0.014009518760825644), (560, 0.013954401875972772), (1762, 0.01395291975138056), (3346, 0.013950873898597074), (2929, 0.013949395609912502), (2555, 0.013941499664213576), (789, 0.013920214290390148), (1544, 0.013916809678933051), (4057, 0.013902098778019352), (3343, 0.013898255609593018), (1437, 0.013892123740742897), (2024, 0.013882764252512808), (2587, 0.01387980639644754), (1483, 0.013879127056492302), (1871, 0.013848693367123036), (374, 0.013844212017780858), (1023, 0.013830210486449895), (867, 0.01382904264328535), (2540, 0.013817266050284677), (3538, 0.01381390615141323), (3508, 0.013809063701969998), (3374, 0.013806889740044835), (4125, 0.013806525316352552), (40, 0.013801714159467784), (2066, 0.013791779429516125), (2710, 0.013784697333715479), (3560, 0.013775125151199961), (1442, 0.013773393398952352), (4241, 0.013759192144618144), (3602, 0.013753475899517857), (2377, 0.013752426983570867), (4345, 0.013751550051391778), (4334, 0.01373913690916354), (2164, 0.013722436977377505), (2356, 0.013705193934496086), (2479, 0.013690278398542957), (2381, 0.013668956673397537), (2234, 0.013652891413017584), (3706, 0.013650926251353793), (369, 0.013649044272690532), (358, 0.013646983735143427), (3803, 0.013645960294117842), (41, 0.013641836385016058), (1018, 0.013638926048920669), (924, 0.01362360060826239), (2539, 0.013604751317064352), (4690, 0.013595811090607694), (2574, 0.01359272639952352), (2040, 0.013592694565813765), (3062, 0.013592067542504804), (3368, 0.013582866403016576), (1460, 0.013572352484947576), (1166, 0.013550307068701799), (1044, 0.01355010414400632), (4748, 0.013545717635339976), (550, 0.013541647151267652), (2942, 0.013534066383499337), (1035, 0.013515481315033209), (3060, 0.013512374207966815), (620, 0.01347711880755974), (1521, 0.013470318143201036), (4325, 0.013446945962615465), (764, 0.013441113456534383), (956, 0.013432213009059005), (630, 0.013431531390486895), (3720, 0.013425742350856983), (3787, 0.013421983332423598), (3628, 0.013406611641691806), (4130, 0.013399986119673319), (2291, 0.013399767637416876), (1232, 0.01339566072126724), (1654, 0.013393920867074811), (2636, 0.01338934970532962), (1215, 0.013387688555259479), (1050, 0.013351341531322504), (3579, 0.013350408038426836), (3163, 0.013344096430764838), (1883, 0.013341060934480443), (3731, 0.013338274378418835), (3202, 0.01332967121918556), (2583, 0.013329515315206668), (2340, 0.013326048007020122), (1376, 0.013324036277706666), (665, 0.01332279015755777), (2473, 0.013321788843430726), (437, 0.013314317492775549), (1327, 0.013301608420574436), (2860, 0.013301494674041113), (1015, 0.013299963496555512), (4481, 0.01329248257152688), (3626, 0.013291417655557067), (1894, 0.013285277831519532), (2933, 0.013282431962578832), (2888, 0.013280347255192114), (4493, 0.013277326340808287), (854, 0.013277275836444898), (1065, 0.01325067544754386), (3164, 0.013245003175858108), (3977, 0.013241087681530091), (1770, 0.013229761826227076), (185, 0.013224309370896954), (1708, 0.013214791425365604), (175, 0.013206899852207191), (4688, 0.013199213470267417), (547, 0.013186645202320468), (1811, 0.013186217421388612), (4665, 0.013184242620477621), (400, 0.013171067160842589), (1279, 0.013168322437959203), (2408, 0.013163126423484908), (1141, 0.013148627561358943), (2028, 0.013143573237839302), (562, 0.013143159957167534), (1054, 0.013136932673276525), (2603, 0.01313611157075564), (1705, 0.013128320282670582), (50, 0.013127655275190416), (872, 0.013124921116094274), (1028, 0.013119600344987693), (3821, 0.013116820129990915), (1657, 0.013093529547043136), (1973, 0.013087531046132531), (3647, 0.013078717993155293), (2899, 0.013078149932711579), (1324, 0.013077694322125084), (826, 0.01307506904231847), (2522, 0.01306625750211549), (1280, 0.013054897285490107), (2858, 0.013053947061054269), (4289, 0.013048760660764382), (974, 0.013023711177018102), (921, 0.013018458026841302), (3927, 0.013018344207424162), (4557, 0.01300475719300559), (3132, 0.012998167916269366), (1989, 0.01299707300512367), (2208, 0.012993996013114205), (868, 0.012986960629156363), (470, 0.012976522227365405), (1221, 0.012966707739282836), (1904, 0.01296538584098755), (3558, 0.01295440575975333), (1514, 0.012945496996741905), (690, 0.012944118513117907), (2563, 0.012935420902088933), (866, 0.012933491012172995), (1225, 0.012933485974947048), (1328, 0.012928519425687117), (3009, 0.012895955322947674), (1570, 0.012893391921564025), (349, 0.012892642579672644), (1648, 0.012881435931247175), (3968, 0.012874460107974184), (2413, 0.012859940380837685), (716, 0.012856176125126182), (320, 0.012852714031310157), (4661, 0.012850825227063902), (386, 0.012811617483409286), (3134, 0.012795811299638103), (1950, 0.012775412647745402), (3166, 0.012775025950101998), (1796, 0.012762404222723778), (3849, 0.01273366940768493), (793, 0.012732337898978945), (4600, 0.012731740569363388), (3124, 0.012728491644965223), (4239, 0.012723823326118483), (968, 0.012710793705994556), (156, 0.012705662435866353), (1680, 0.012703506579754742), (1470, 0.012689935098706018), (151, 0.012664456062985953), (237, 0.012653250703804417), (2276, 0.012638204318121729), (4607, 0.012633157012379197), (59, 0.012631273944000047), (4456, 0.012625768131381469), (148, 0.012624938990599304), (2353, 0.012622590798909289), (161, 0.012612586305011251), (1211, 0.012595950987031757), (3410, 0.01258603584544365), (936, 0.012586018789787524), (3311, 0.012584860598075055), (4114, 0.0125822226680416), (4647, 0.012580363082795799), (997, 0.012579991784212282), (902, 0.012576235867334773), (572, 0.012568245924833816), (3597, 0.012547171151278366), (2404, 0.01252657288472584), (3336, 0.012522187028129917), (3486, 0.012517697767846912), (1000, 0.012513298398274027), (4141, 0.012510910626982891), (1108, 0.012509237501691937), (4143, 0.01250569147902845), (2960, 0.012504222314299377), (4254, 0.012481616740015298), (1302, 0.01247890693819807), (4255, 0.012472538551048303), (1144, 0.012469645693194439), (1440, 0.012449157677986227), (975, 0.012444395608449043), (4115, 0.012426697010449022), (1992, 0.012418882957979615), (3467, 0.012416608633000257), (3520, 0.012410999894414179), (714, 0.01240491369713249), (4041, 0.012400211758144819), (1899, 0.01239244363524446), (394, 0.012389619288778384), (3338, 0.012384565653452207), (1876, 0.01237438684870035), (808, 0.012370246660965808), (2554, 0.012367876465448301), (1820, 0.012361997411026645), (4222, 0.012351606400839764), (258, 0.012343544152346573), (1074, 0.012341498442416828), (2153, 0.012326903712524814), (4103, 0.012326235856219019), (2310, 0.01231368762877243), (1562, 0.012312799317905338), (3427, 0.012306201983143824), (2506, 0.012299701701059453), (315, 0.01229759969428737), (1151, 0.012293213796597008), (317, 0.012286631091754981), (3367, 0.01227917716494269), (1566, 0.012269737274836514), (4635, 0.012267343101648407), (3939, 0.01226634156479476), (4432, 0.01224299011462183), (1269, 0.012240122596789492), (2445, 0.012234919743415193), (965, 0.01223308357426942), (4128, 0.012215123902166697), (946, 0.012200151307357278), (359, 0.012199170018269307), (4056, 0.012193645617135363), (2850, 0.012184926146129265), (1226, 0.012179831671710967), (1672, 0.012169054398648948), (3637, 0.012166580068035636), (4198, 0.012160809562740658), (2298, 0.012098020835556115), (1263, 0.012089906627506121), (1358, 0.012082826055378425), (4353, 0.01208185421694701), (2818, 0.01207749402589422), (3076, 0.012053002771051806), (4211, 0.012034627315531721), (3316, 0.012031143036939447), (2842, 0.012028409268775013), (3762, 0.011998402450133724), (2199, 0.011988519945713441), (3318, 0.011980642779070226), (3629, 0.011975508269217902), (1096, 0.011969817797735526), (1546, 0.011968464022409656), (3667, 0.011957801895006658), (567, 0.011955361178750406), (2064, 0.01195120887554028), (1846, 0.011943021209374047), (1350, 0.011942206214964658), (4019, 0.011938837123166865), (1315, 0.011925039253873783), (3142, 0.01192426305047033), (4182, 0.0119233033890885), (3776, 0.01191506816417676), (4040, 0.011884184483345534), (3555, 0.011882242598769906), (2150, 0.011872266370682293), (1063, 0.011845516304949935), (3495, 0.011820429629442332), (3582, 0.011810567990431616), (1971, 0.011792062868878695), (1164, 0.01178830035507627), (3668, 0.011775684403407828), (1010, 0.011766914823198124), (2117, 0.011759853328531716), (3085, 0.01175389139264436), (1207, 0.011712429968763574), (3658, 0.011690630286770587), (2455, 0.0116896068809498), (2751, 0.011667564141425564), (3700, 0.011645117417126637), (3546, 0.011636318634134989), (3239, 0.011611370246642444), (3140, 0.011590447792152495), (442, 0.011535725531625789), (3856, 0.01150439178369161), (4692, 0.011496284865023482), (4521, 0.011495487171754061), (3363, 0.011486036376332135), (1137, 0.011484280218118207), (3135, 0.011482795714836881), (88, 0.011474777828735015), (2673, 0.011473005664574733), (1898, 0.011463703223678125), (565, 0.011450825898081681), (2021, 0.011447335592444804), (3878, 0.011434286811619012), (2742, 0.011423428593059858), (2557, 0.011422200154862953), (2869, 0.011413546106484557), (3159, 0.011398459468008939), (46, 0.011394916286686065), (3279, 0.011390703145069257), (1135, 0.01137680862967795), (4107, 0.011372106889220858), (2857, 0.011368406287602963), (316, 0.011362411806059104), (3004, 0.011343597769786683), (2124, 0.01133370454788398), (3916, 0.011327067739778195), (379, 0.011290464100281972), (3282, 0.011282449739373613), (3154, 0.011272234894495643), (4439, 0.011267923400532814), (3923, 0.011264910020097389), (2125, 0.011212736939517918), (3145, 0.011204852742747734), (4153, 0.011172206836857488), (4193, 0.011149348005963518), (1222, 0.011143681331085604), (527, 0.011108538800504369), (3203, 0.011091647845291456), (2078, 0.011064570080577235), (800, 0.01105897301566131), (1366, 0.011058961937472219), (3600, 0.011055010386006642), (2917, 0.011052305746273128), (1208, 0.010995532425217114), (4483, 0.010986346460096127), (2253, 0.010975403982153582), (3795, 0.010966817970710547), (323, 0.010966539855329733), (1, 0.010950507698138944), (3548, 0.010931570565299266), (2935, 0.010927277738920056), (3844, 0.010901950444667356), (4023, 0.010876230129487829), (3745, 0.010833825204048369), (4145, 0.010818470481875621), (1885, 0.010791066068262675), (2820, 0.010761639272149228), (4612, 0.010736758450263836), (2433, 0.010736094759594087), (3232, 0.01071906427866877), (4242, 0.010714517548125291), (2834, 0.010699890179491998), (2718, 0.010698860052538586), (1509, 0.010684785606972088), (4271, 0.010671845921882733), (4209, 0.01066062876247754), (443, 0.01065232800288245), (1275, 0.010626707277470525), (3942, 0.01061236595749856), (4369, 0.010595633945271861), (2478, 0.010572530223150824), (721, 0.010552427797297823), (4117, 0.010513137818459308), (1745, 0.010493514280548672), (1309, 0.010492657369063883), (2756, 0.010473121033086006), (3693, 0.01046035531921957), (601, 0.010458687796660076), (2197, 0.01040625432151752), (207, 0.010402568658709522), (1499, 0.010309637376717065), (2921, 0.010305262516942306), (2134, 0.0103014925639921), (2351, 0.010294434445054762), (1343, 0.010252565711363477), (44, 0.010241951566201474), (4633, 0.010224237473810746), (3610, 0.01018625632995052), (2662, 0.01015055004855123), (1754, 0.010145382190325002), (2930, 0.010125941748934055), (1089, 0.01012549539818252), (4449, 0.010119579141991405), (2032, 0.010106551108004262), (2452, 0.010103765949978557), (2439, 0.010101510968759228), (2034, 0.010100596191443552), (2390, 0.010096213157671095), (3754, 0.010089310668319335), (3816, 0.010085749949093368), (4097, 0.010085636925844254), (1243, 0.010045303396935731), (4133, 0.010042216996831482), (3506, 0.010033923241101892), (4669, 0.01003065977883943), (641, 0.010016822393454416), (602, 0.010009785575212517), (1326, 0.010008153688889071), (2507, 0.010004549839904894), (290, 0.010004275080945858), (4281, 0.009967991523368136), (4752, 0.009965493386278158), (3230, 0.00995695076832075), (448, 0.00995486691999725), (3704, 0.009952554444144527), (2084, 0.009939291116961985), (1924, 0.00993907738985367), (508, 0.009916767426094788), (1848, 0.009914217451812429), (4626, 0.009912023071919226), (3768, 0.009896374500197492), (2908, 0.009887321071418782), (3496, 0.009885794749936335), (2785, 0.009874643287875443), (3781, 0.009867833811554054), (107, 0.009867054654868002), (754, 0.009866861896057524), (3651, 0.009866150364333082), (1115, 0.009851068342296697), (3904, 0.009850807705067615), (4680, 0.009847023093301844), (2486, 0.00984696201818667), (2079, 0.009845449625188503), (2400, 0.009839990601358978), (289, 0.009839788183585425), (3007, 0.009838876529680303), (1383, 0.009820637659173057), (89, 0.009809243699702212), (2630, 0.009808962846145424), (1339, 0.009789223847432792), (3960, 0.00977756736655942), (4460, 0.009776185741452255), (1887, 0.009773672322194714), (2799, 0.00973724380135294), (4286, 0.009737210438388655), (2566, 0.00973668878116164), (2518, 0.009736286034405022), (1452, 0.009734601804035223), (436, 0.00973363803553152), (4396, 0.009733459647352847), (4180, 0.009732455909944288), (1349, 0.009717671134050877), (4368, 0.009706503458155276), (2385, 0.009700189631531533), (1670, 0.009693362474463679), (2384, 0.009689344779481199), (2010, 0.009681814972506225), (830, 0.009681240261321588), (262, 0.009675132416147331), (4593, 0.009673959202870182), (1498, 0.009672057605071513), (1299, 0.009667897249599856), (1371, 0.009664032532244429), (4463, 0.009656766897224651), (4078, 0.00965356861628546), (250, 0.00965080787673346), (888, 0.009642057417095113), (502, 0.009641591748267288), (4134, 0.00962830437789866), (701, 0.009627391198092675), (747, 0.00961551757409032), (4120, 0.00961350951168846), (3101, 0.00961160072924238), (2561, 0.009608330119465177), (1417, 0.009604209585461751), (2345, 0.009601006109835192), (1651, 0.009596678137373967), (4089, 0.00958940656876693), (34, 0.009583388440146605), (3857, 0.009579253994642697), (2650, 0.009568686630636153), (1786, 0.00956836821604718), (2375, 0.009557633176744375), (1602, 0.009555436341338248), (841, 0.009552718682767707), (2148, 0.009545859187886287), (4602, 0.009545157189805989), (3946, 0.009541396730752503), (637, 0.009537108476699302), (4601, 0.00952237207986596), (802, 0.009519255851813336), (253, 0.00951173337071729), (2229, 0.009507479967198253), (678, 0.00948429386801557), (1805, 0.009478645697124343), (2365, 0.00947864038400091), (1829, 0.009469818482195682), (4319, 0.009466130972307491), (2739, 0.009464690403066352), (3831, 0.009457631503145015), (4087, 0.009457373445481676), (1733, 0.009456475824320004), (627, 0.009440833004337682), (271, 0.009429306772791284), (4595, 0.009413756101025484), (4404, 0.009409268399746385), (4732, 0.009406862438328018), (3699, 0.00940680513303411), (2458, 0.009398796329726417), (4013, 0.009389829853180442), (1518, 0.009369749529828688), (1724, 0.009367363788762142), (4702, 0.009352027199453562), (791, 0.009346006152619145), (1476, 0.009330723250327778), (192, 0.009328056226081216), (704, 0.009325545846558193), (3271, 0.009318825758910913), (1930, 0.009310138677604782), (4391, 0.009307361904517147), (1409, 0.00930729554340582), (3873, 0.009302593803549442), (1922, 0.009297021389022551), (1952, 0.009287171000354413), (628, 0.009285484869505025), (1907, 0.009283472367965272), (1390, 0.009278847038387387), (3235, 0.009274367983109351), (420, 0.009274008205753335), (4355, 0.009268270325358251), (3109, 0.00926551429289951), (4081, 0.009260732377468462), (1520, 0.00925829689607899), (2263, 0.009256429003380837), (1906, 0.00924100199770106), (1140, 0.009234523873338238), (943, 0.009231835925966188), (4640, 0.0092267905769822), (1282, 0.00922033456712868), (1234, 0.00921255032706712), (2495, 0.009208943967657701), (3780, 0.009208637290478846), (4662, 0.00920508622845562), (1227, 0.009200412962429766), (1133, 0.00918995369140456), (2387, 0.009189730570643175), (3678, 0.009175158505841911), (792, 0.009174179225359841), (1112, 0.009172933476593644), (4268, 0.009172562544991785), (3388, 0.009166249185093804), (2853, 0.009163614594149832), (392, 0.009161336443206478), (4418, 0.00915688949782142), (2147, 0.00915439691384758), (2719, 0.009152630495325094), (1902, 0.009144443923072548), (3897, 0.0091441587425311), (1426, 0.009137417348774214), (2792, 0.009137252298425033), (1835, 0.009128246967887176), (81, 0.00912499816386435), (490, 0.009119785373860382), (765, 0.009114962157719429), (2610, 0.00911459835748063), (1159, 0.009114418155458175), (3777, 0.009112423396499206), (3103, 0.009112299664495524), (3493, 0.009105766837211765), (1893, 0.009096557620424828), (2809, 0.009078073449007625), (3382, 0.009077985967726982), (344, 0.009070838143152326), (23, 0.009065984808544987), (3969, 0.009060398655033098), (1336, 0.009055777132647711), (1643, 0.009054549690238804), (1534, 0.00905414519522255), (1110, 0.009052601627223602), (884, 0.009051379552591311), (1402, 0.009043802116590928), (3439, 0.00904318139863551), (2675, 0.009041061986397092), (4363, 0.00903296696817363), (3150, 0.009023614313886567), (211, 0.00901481836107267), (774, 0.009014318589205698), (4621, 0.009012389788599489), (1660, 0.009011208872932441), (3517, 0.009007890569820506), (3018, 0.009006854984511483), (2324, 0.008995652029838019), (890, 0.00899484782134465), (717, 0.00899397260277336), (2106, 0.008993595110031808), (980, 0.008991519421488686), (2154, 0.00898668090730979), (1851, 0.008978893444873308), (1933, 0.00897730090057494), (2911, 0.008975992338803076), (858, 0.008975481939558527), (4327, 0.00897544434420706), (1702, 0.008964021851558457), (4262, 0.008953961143351785), (1953, 0.008948526105902426), (216, 0.008941390693049948), (2511, 0.008939592663054345), (2321, 0.008938271662965585), (2230, 0.008934617354556813), (3920, 0.00893334454743166), (3959, 0.008932765532713828), (11, 0.008931072914346624), (3549, 0.008919500523983506), (541, 0.008908156384460877), (1435, 0.00889442272547148), (2126, 0.0088943944125192), (4678, 0.008891796588292724), (1636, 0.008886132370315814), (2290, 0.00887785621781011), (971, 0.008877327521836596), (2334, 0.008877018683535276), (2306, 0.008876514642460441), (2431, 0.008876410266363354), (2465, 0.008876204672891679), (3233, 0.008872592011816961), (1768, 0.008867256248815453), (3446, 0.008857356323469633), (4380, 0.008853643084276596), (1125, 0.008850101776929981), (3701, 0.008841776569095489), (2685, 0.008829169095821095), (3526, 0.008826288164836988), (367, 0.008822734813513896), (2374, 0.008816973988683911), (2784, 0.008815286463647433), (1704, 0.008791550371008833), (3283, 0.008784749134345115), (1322, 0.008779550651585753), (2396, 0.008778918931738464), (4587, 0.008777607261227833), (3171, 0.008760712680879487), (4517, 0.00875247298208839), (2068, 0.00875142502306433), (2278, 0.008749606338677456), (2965, 0.008748598399810898), (4206, 0.008748206457517496), (4135, 0.008746887140071775), (3650, 0.00873893150142335), (3739, 0.008719374154842986), (4137, 0.008703720555532998), (1574, 0.00870332235952576), (226, 0.008698656422493943), (4736, 0.008694547615210735), (3188, 0.008689933294276028), (2169, 0.00868030624912405), (529, 0.008677862545019293), (4686, 0.008677137076465136), (504, 0.008676678251453324), (2348, 0.008674839147318272), (4604, 0.008671142209744317), (3125, 0.008667156780635663), (1170, 0.00863424677348645), (1297, 0.008631779390818347), (4330, 0.008629366335746704), (3612, 0.00862785434516952), (1556, 0.008626046446464496), (4006, 0.00861947642312349), (931, 0.008618602415544506), (2280, 0.00861807416700887), (3665, 0.008604031980144833), (1831, 0.008601976732981863), (4592, 0.008597849706975266), (2900, 0.008597130631456687), (525, 0.008578381981032458), (1606, 0.00856751438929016), (1480, 0.008560283259871203), (4394, 0.008558258338542797), (2272, 0.008554478826314424), (105, 0.008553541330011493), (3818, 0.008552940208470501), (3137, 0.008547905933142955), (894, 0.008543538403055068), (348, 0.00853758156259438), (1059, 0.008537232056965218), (1655, 0.008534318867256824), (1411, 0.008522509796373789), (769, 0.008511652486049076), (1447, 0.0085067652281564), (2416, 0.008500154265118782), (3589, 0.008492894427181454), (1857, 0.008490540956197602), (3746, 0.008490059228886205), (3079, 0.008487751456679904), (2128, 0.008481038961246742), (1814, 0.008479909487216141), (2677, 0.00847646939361211), (215, 0.008472988965454002), (1888, 0.008472170339795165), (127, 0.008470971109726612), (604, 0.008470131706403986), (1284, 0.008468880336989271), (4284, 0.008462295457517732), (3260, 0.008461855947673727), (4157, 0.008451620280439519), (1130, 0.008451141466871849), (2461, 0.00843524325399776), (4687, 0.008433065991368754), (4322, 0.0084325328999667), (1030, 0.008421375489416343), (2029, 0.008420107574926578), (863, 0.008418484877974546), (4164, 0.008410795394100695), (4387, 0.008409582927614368), (4359, 0.008408233901451165), (1247, 0.008402865599443322), (1422, 0.008397335062408043), (3994, 0.008381260309376732), (1200, 0.008371093848723062), (302, 0.00837063485775545), (4442, 0.008365465769901334), (1790, 0.008363645771469686), (1996, 0.008359281622418393), (3490, 0.008354516619356876), (773, 0.008343207168642473), (4554, 0.008339834304403198), (4570, 0.008334417628791026), (2571, 0.00833258060064239), (2003, 0.008332148990919979), (1347, 0.008330454689974162), (2268, 0.008329418802777816), (4504, 0.008323992808248998), (3149, 0.00831895244271341), (3562, 0.008307315964587454), (3824, 0.008303482609817133), (112, 0.008303156223279545), (4252, 0.00829796540718308), (3881, 0.00829649525720894), (3390, 0.00828911655205256), (2131, 0.008285092325044863), (3053, 0.008276486812424247), (2256, 0.00827499551979799), (427, 0.008272524781538008), (4341, 0.008270439964125192), (18, 0.008269983194635585), (4438, 0.008268538189474999), (2829, 0.00826301409565287), (461, 0.00825649657853097), (3524, 0.008254634738311622), (1631, 0.008254021748535356), (3868, 0.00825223662968939), (3115, 0.008231747829562736), (1921, 0.008230766527742902), (1877, 0.008229913570688243), (2417, 0.008214619756813034), (2409, 0.008214219244840126), (3933, 0.008209282411297354), (3094, 0.008209222559103009), (1132, 0.00819647556046683), (2631, 0.008190319742800886), (767, 0.008181286194631945), (3256, 0.008178470636840601), (1423, 0.008173579229756072), (3891, 0.008167388163612208), (132, 0.00816510017651375), (1372, 0.00816098754584448), (4124, 0.008160749727434552), (3377, 0.008158579355989092), (3646, 0.00815508449187087), (408, 0.008154116680088688), (1404, 0.0081525020658841), (3819, 0.008143206041568514), (388, 0.008141749172096353), (3788, 0.008132282411201593), (4220, 0.008124626874784735), (2617, 0.00811984541508308), (2699, 0.00811639988048506), (2311, 0.008112975454197717), (1824, 0.008106941967296907), (659, 0.008103836226409516), (3320, 0.008100359903390753), (507, 0.008098217415394996), (4356, 0.008090936496599465), (3057, 0.008090718578998013), (4548, 0.00808469675904912), (4305, 0.008082091678597855), (3550, 0.008081247591241241), (3071, 0.00807822726834781), (3775, 0.008073451749428888), (1620, 0.008064453323751972), (810, 0.00805783759233602), (4634, 0.008047663731980124), (3966, 0.008043584317198468), (1778, 0.00803322255363447), (4664, 0.008029754030963029), (3280, 0.008029591148055201), (1555, 0.008028831259748095), (3423, 0.008027803842413032), (410, 0.008023782946440808), (3185, 0.008023448027447116), (4165, 0.008022855255917628), (2446, 0.008010449997798933), (1456, 0.008005213876894774), (2721, 0.008002494750733705), (549, 0.008001898117077985), (3460, 0.007999965101899445), (240, 0.007982906785634994), (1642, 0.007982147148796095), (2317, 0.007980037375341776), (3321, 0.007979913083197909), (978, 0.007977293091470126), (744, 0.007975866637596305), (3854, 0.007975536800557327), (4402, 0.007974858918904634), (335, 0.007973253991826601), (2051, 0.007971231146943517), (2207, 0.007964793914079895), (2491, 0.007951706615097006), (4174, 0.007938205676710696), (2135, 0.007933574765098964), (4348, 0.007931338654803886), (907, 0.007931238551442015), (4176, 0.007930395788517277), (2666, 0.007928301425179042), (1984, 0.007926906105951285), (759, 0.007920954810889575), (1236, 0.007911900514963764), (416, 0.007903311832113983), (1524, 0.007898835121159431), (3703, 0.007892548074005919), (14, 0.00789196005214734), (1794, 0.007891743389706002), (2402, 0.007878776529550722), (3304, 0.007877601555753967), (1999, 0.007875713167040367), (1568, 0.007870416559445353), (4689, 0.007869754537979093), (1827, 0.007867115061493303), (419, 0.00785244539390744), (1360, 0.007849378948248109), (3295, 0.00784866246156319), (893, 0.007844875898342967), (352, 0.007838691246709903), (337, 0.007827811678902986), (4366, 0.007822450911473159), (4160, 0.007817066098259377), (2771, 0.007814750346903512), (2209, 0.0078107949071793), (3157, 0.007809108149616365), (1595, 0.007804966359619739), (4109, 0.007803733878462212), (2976, 0.00779337035648924), (2505, 0.0077916806867692305), (4337, 0.007790124435279801), (1816, 0.007774437560902002), (2262, 0.007769948345022601), (1658, 0.0077675866424516205), (722, 0.0077495154092644385), (885, 0.007735824133838312), (1808, 0.007734777566290587), (2806, 0.007721470102003755), (3111, 0.007719140023244665), (2244, 0.007716212202693383), (3735, 0.007715166686498523), (686, 0.007705658067621235), (1025, 0.007685615317863886), (2101, 0.007677636833544261), (1199, 0.00767452758458605), (1394, 0.0076411720278189085), (2240, 0.007634551755758202), (2915, 0.007629629560452704), (4558, 0.007622732452363564), (33, 0.0076219084873372185), (166, 0.007616821220857918), (2659, 0.007616745316789008), (1897, 0.007606985660957485), (184, 0.007594642934638142), (2906, 0.007592968012653749), (97, 0.007568636680187168), (3411, 0.007566750980364804), (3894, 0.007563922763187359), (844, 0.007562152039129121), (4705, 0.007560141143903447), (2608, 0.0075539378001835), (4086, 0.007544606858510473), (2805, 0.00754178786198969), (1359, 0.007538981476804395), (1482, 0.007538585695924029), (3095, 0.0075322839194166945), (2171, 0.007532074285963677), (4371, 0.007523561488034852), (4473, 0.007511425699204114), (1712, 0.007499325857395255), (2451, 0.007488170067773364), (1228, 0.007481816933162617), (1731, 0.007474923091528921), (3973, 0.007469828100763883), (996, 0.007461543321133762), (4347, 0.007460849771843283), (1407, 0.007455862493394167), (1685, 0.0074229677647049625), (2761, 0.0074217842968599), (2611, 0.007399095461955016), (2801, 0.0073983615193042), (4202, 0.007393813392190148), (1075, 0.007390794598779332), (2337, 0.0073815709486898615), (2989, 0.007368048791066673), (1013, 0.007366985263979234), (3376, 0.007364750262701767), (1300, 0.007356362693738869), (173, 0.0073530620985212975), (1120, 0.007353009584673613), (1389, 0.007341857821616284), (3806, 0.0073394033842037075), (3208, 0.007329158630502509), (1178, 0.007326528229216171), (2601, 0.007316902512719675), (2157, 0.007315372402674688), (2855, 0.007313816167964229), (2204, 0.007311091941384841), (2545, 0.007309517085815715), (2877, 0.007303902516076691), (3347, 0.0073019041257152625), (4354, 0.007293584034934949), (2249, 0.007291313905079215), (1910, 0.007286025641453361), (4008, 0.007281214683659328), (3674, 0.007280210142572526), (2605, 0.007278146403703535), (2076, 0.007273943694495051), (2744, 0.007271269539923172), (313, 0.007270965725440895), (1042, 0.007265974102231772), (4466, 0.007260004668437975), (3481, 0.007258553304991317), (195, 0.007249218453783734), (2726, 0.007244520249461004), (27, 0.007242460629470042), (1382, 0.0072417390219564615), (2988, 0.007236134180720319), (575, 0.007235217913254576), (1165, 0.007222082900125758), (3287, 0.007207685372630956), (3056, 0.007207170805897999), (2667, 0.007205332858865619), (3928, 0.007204205527707314), (2922, 0.007194802126600858), (2332, 0.007184845526397169), (2048, 0.0071760930503947315), (4643, 0.007171746373203208), (1761, 0.007169707403981657), (2275, 0.007160774794161784), (4666, 0.0071587472133378405), (1182, 0.007158155773955485), (406, 0.007158122458058058), (2172, 0.007139969233058103), (2155, 0.0071385796691677775), (1942, 0.007137975072310113), (4533, 0.007135585833660102), (947, 0.007132835047881706), (1686, 0.007127945842519066), (3254, 0.007113385351457903), (1085, 0.007107765565280962), (4288, 0.007093405517156754), (1889, 0.00707842297766167), (2144, 0.007076907304025582), (758, 0.007070358910222622), (4221, 0.007069745181580463), (2887, 0.007064581111964095), (2130, 0.007047744875653355), (697, 0.007045264138892615), (2441, 0.007044921828280337), (4501, 0.007044011337746164), (1505, 0.0070362439031750115), (1706, 0.007035623353795555), (1344, 0.00703488066077204), (4300, 0.007026620776452677), (2831, 0.007023996015390655), (1873, 0.007022879323936128), (3482, 0.007014809135711778), (1644, 0.007008004162371714), (1388, 0.007002481366285622), (109, 0.00699467843343552), (1021, 0.00698845616284087), (1612, 0.0069864068133186396), (4364, 0.006978744570476117), (4195, 0.006967886017013736), (22, 0.006966263873994487), (834, 0.0069588135760778385), (2174, 0.006954305510639123), (3553, 0.00695343257677943), (3944, 0.006952173949204376), (4457, 0.006946424060951687), (1395, 0.006942284329374803), (464, 0.006934908591965718), (174, 0.006929987743366363), (1867, 0.006928882399639533), (2512, 0.006922093138810466), (1849, 0.006906852876183433), (1198, 0.006901471528629541), (2569, 0.0068892904528389), (2948, 0.006886035124525567), (1126, 0.0068846784774184), (2521, 0.0068841936442843475), (1598, 0.006882494339505973), (2980, 0.00688084534091495), (1128, 0.006874673024973595), (1773, 0.006873937353309967), (1272, 0.0068696222210770696), (1094, 0.006866045662538734), (3288, 0.006864569085889068), (2734, 0.006854830749462911), (3715, 0.006823264408643224), (2008, 0.006822957462221572), (4367, 0.00679888976924055), (1607, 0.00678968456558121), (817, 0.006789442583839733), (4336, 0.0067767900838141696), (2326, 0.006772258475754273), (2653, 0.0067702832290266485), (4588, 0.006752270293042408), (3366, 0.006733545473888909), (1020, 0.006731010766094687), (1287, 0.006717336946290797), (2309, 0.006702003694613193), (3309, 0.006699535367046652), (4606, 0.006694304143260823), (3733, 0.006682017668868881), (1231, 0.0066810511826923), (3199, 0.006678794954372814), (164, 0.0066759447275799655), (1912, 0.006675181859251202), (2600, 0.006671210738897374), (1490, 0.006661568027486962), (1019, 0.0066576659433194895), (3105, 0.00665764689724723), (3023, 0.006637912139615884), (812, 0.006633819856245279), (835, 0.006633558865424769), (1647, 0.006632020032827405), (3954, 0.006621496225522441), (2202, 0.0066095968839845615), (307, 0.006580911212614688), (3991, 0.006575103384262065), (734, 0.006570628492281862), (4122, 0.006567030461762804), (833, 0.006566042530909622), (900, 0.006559792611320262), (4603, 0.0065444598726056265), (4414, 0.006536357291322238), (650, 0.006527874212669787), (838, 0.006523836263986114), (3829, 0.006521729783610787), (670, 0.006516577140925717), (3356, 0.006504919020478255), (3588, 0.006496785488478626), (766, 0.006491668104726608), (248, 0.006490522224168981), (1920, 0.006487028167279091), (2450, 0.006481385523598894), (4443, 0.006477635728186003), (2183, 0.00646536625289924), (4723, 0.006465184699438716), (4653, 0.006465004169079204), (4725, 0.006454955834488197), (1277, 0.006449487121891784), (2077, 0.006448752864631249), (745, 0.006446276866649511), (3767, 0.006444854027283182), (43, 0.006439756224773967), (2459, 0.006436080379136996), (183, 0.006434420741858349), (4631, 0.006421259748384017), (2203, 0.006419870727892379), (2415, 0.006416338983681599), (3329, 0.00641401088457067), (958, 0.006412692815538424), (1079, 0.006411519190647069), (3554, 0.006400971736493194), (920, 0.006400522204154661), (457, 0.00639908475829517), (199, 0.006397237355302964), (1730, 0.006396345069580142), (2778, 0.0063938372751310615), (2671, 0.0063898910566384986), (4698, 0.006379694865087266), (2011, 0.006379605005710865), (1242, 0.006378161754670635), (1538, 0.0063682950600250764), (449, 0.006345291587828379), (1941, 0.006328821682056778), (1690, 0.006321114159637689), (608, 0.006320033679388429), (3726, 0.0062887892510404475), (2607, 0.006288701263240741), (1715, 0.006283593205551708), (2741, 0.006277620336596008), (4490, 0.006270892733972102), (1016, 0.006262650804407218), (795, 0.006249819347790341), (4642, 0.006240240266612321), (1009, 0.006224020448670677), (2378, 0.006222907678555047), (705, 0.006211212177649838), (4285, 0.006205301793218483), (979, 0.006203900611589746), (2468, 0.006178269142928865), (753, 0.006129597448964864), (4597, 0.00612662382174053), (4276, 0.006124761179961102), (3708, 0.00610528127148893), (4035, 0.0061046470241986174), (2621, 0.006103970794527358), (2692, 0.0060923938011236784), (3509, 0.006087029249684443), (3165, 0.0060734090472186735), (1492, 0.006071523423403648), (147, 0.0060699206004130955), (2676, 0.006063428062204946), (1863, 0.006059261999323106), (629, 0.0060583602966340225), (824, 0.006058290329544225), (4244, 0.006057774319914342), (1397, 0.006029246257752165), (4741, 0.006025555868469074), (3421, 0.006018849243726697), (2476, 0.006012590421193437), (445, 0.006006128848641452), (2098, 0.006001338252948924), (364, 0.005998153540458717), (2881, 0.0059887423805468605), (2576, 0.005982056505786881), (3680, 0.005979435703276028), (4393, 0.005965064209009776), (1560, 0.005958672797129314), (2352, 0.005958565328500477), (3168, 0.005954206634576334), (3373, 0.005951495925174995), (533, 0.005947412642549206), (2006, 0.005945960932188593), (2182, 0.005940280252888756), (139, 0.0059327584241078155), (3634, 0.005931936714693081), (4630, 0.005929865536589603), (4185, 0.005929669041289844), (1976, 0.005906986119208736), (4453, 0.005904009193754312), (4293, 0.005900507021083036), (458, 0.005900124873334962), (729, 0.00589646027630236), (3750, 0.0058831211652255015), (2383, 0.005879438751956338), (4144, 0.00586228322560623), (688, 0.005857634863024583), (616, 0.005846687395839526), (3192, 0.005841566438326416), (740, 0.00583621361861641), (2493, 0.005835895834253749), (4619, 0.005834180157982237), (3097, 0.005830697932492085), (595, 0.005815444568248933), (1454, 0.005807926312144946), (3604, 0.005807848159674597), (2626, 0.0058033463335515805), (2811, 0.005790599407465471), (3802, 0.005790006561599409), (3940, 0.005784435520802041), (3392, 0.005780616409311482), (673, 0.005770341328792288), (843, 0.0057696886941964185), (113, 0.005769405048974542), (4116, 0.005764871188222621), (3044, 0.0057639079905230225), (3263, 0.005760566974379149), (350, 0.0057565865086216545), (3064, 0.005753729789447981), (513, 0.005748119562066246), (2979, 0.005744845089591769), (2082, 0.005736467619369187), (514, 0.005734361234490708), (3771, 0.005727316378131286), (1037, 0.005707207599679395), (728, 0.005703207575833157), (2880, 0.005699064371794429), (210, 0.005698888675355469), (3692, 0.005693372826154148), (3112, 0.00568599707289631), (1317, 0.005684493633348635), (4727, 0.005680457563732131), (2243, 0.005671787586824647), (3451, 0.00566762095285874), (3059, 0.005664774813854627), (2670, 0.005659903480580197), (4131, 0.005658588690238049), (3850, 0.005650955194250848), (3997, 0.0056293222396217035), (2499, 0.005622110412049528), (2364, 0.005605723826406364), (4384, 0.0056006433115022404), (4233, 0.005600583050704767), (1853, 0.005597033762834585), (1484, 0.005593401554645397), (1822, 0.005581883086102724), (4033, 0.005578441083976184), (4392, 0.0055680122799884645), (656, 0.005555256695245785), (1393, 0.005552211322246051), (143, 0.005546974252375385), (2754, 0.0055436968242010744), (3513, 0.005540135241719425), (2088, 0.005540031986717726), (4430, 0.005536253798926569), (845, 0.005535806893550323), (2217, 0.005535655332479529), (2083, 0.005533730418090739), (4100, 0.0055235845235461255), (3862, 0.005522522559915198), (1229, 0.005520405291122905), (3514, 0.005520253193073219), (3591, 0.005518788627595829), (3241, 0.0055165116801434945), (516, 0.005511776534543966), (2085, 0.0055091984601220965), (1513, 0.005508285219135204), (1024, 0.005507382961155353), (1536, 0.0054986396796876105), (1727, 0.00549783490701097), (517, 0.005495073398695369), (2469, 0.0054930500017988685), (2238, 0.0054760775375946045), (2780, 0.005475066994787169), (1469, 0.005474124126076737), (1747, 0.005459985194950188), (1847, 0.005459447282387487), (4249, 0.005455876228570766), (4745, 0.005454891282058729), (3623, 0.005454780763025864), (1516, 0.005445674397822561), (926, 0.005437934278912629), (869, 0.005421521827956554), (3169, 0.005420813213219118), (4098, 0.005420199524224876), (2947, 0.005419695388027538), (3225, 0.005418629570324453), (4093, 0.005408988733781116), (1174, 0.005405690068157586), (1337, 0.005396201977465209), (4684, 0.0053960992360623), (1740, 0.005394062432900084), (3603, 0.005388687988899951), (1122, 0.005383426253650337), (2091, 0.00536136877988535), (1599, 0.005353754889333971), (3332, 0.005351092634771508), (1138, 0.00534894942564245), (3002, 0.0053436952021685335), (3676, 0.005343576089780689), (2815, 0.0053189738510294165), (4435, 0.005312996907058825), (1419, 0.0052940713564058), (2081, 0.005293363889252932), (4310, 0.00529312763630619), (986, 0.0052837342395936696), (2212, 0.005276307525832692), (2943, 0.005268766241101861), (4148, 0.0052670795891083385), (3807, 0.005260045456167045), (4248, 0.005256457027802151), (3432, 0.005249035954810885), (1102, 0.00524800676703649), (4708, 0.005247382125581085), (3441, 0.005244339993697733), (3340, 0.005241641152476953), (1252, 0.0052389278673492445), (1504, 0.005237126956038295), (155, 0.005235393915762386), (2825, 0.005223684002177601), (534, 0.005222537077536841), (233, 0.005218844774509496), (3161, 0.005216474686844656), (3443, 0.005215566117591874), (4264, 0.0052108126293436184), (1127, 0.005204468699700605), (3814, 0.005201037192279784), (1292, 0.0051998547210047805), (1937, 0.005193954906786485), (1082, 0.00519324847630251), (1527, 0.005174993252920728), (244, 0.005172858733614184), (1406, 0.005167940682605174), (2232, 0.00516598218442847), (4039, 0.005154574154804387), (217, 0.005153912315580268), (4534, 0.005142844452525502), (554, 0.005129334736718761), (4573, 0.0051260494896383695), (4673, 0.005121452878574445), (3660, 0.005099180850121291), (1076, 0.00509710337008916), (2918, 0.005094355697760946), (4543, 0.005093192907405139), (1230, 0.005075394158694362), (1545, 0.005070629809131464), (1285, 0.005062453218191286), (3595, 0.005059165686510632), (3605, 0.005054978012743483), (2206, 0.005054269375863958), (3978, 0.005043585491665192), (2711, 0.005031410432526263), (827, 0.005016360920884185), (4037, 0.005009205264752232), (3794, 0.005008355102411394), (3734, 0.004987288101194438), (2166, 0.004979930705057413), (2184, 0.004967153059919314), (1749, 0.0049594749403497115), (2885, 0.0049571351646706275), (1665, 0.00495098591424914), (2634, 0.004940803856807653), (2958, 0.0049262163888202344), (3143, 0.004910989863771018), (532, 0.004910133172922862), (1183, 0.004908104832793791), (2429, 0.004901622336587201), (2399, 0.004881025116375862), (2315, 0.004873854042749106), (1357, 0.00487293004149942), (3528, 0.004870966228425271), (2674, 0.004867525796802696), (2274, 0.004865385888995709), (4274, 0.004848595555615474), (160, 0.004846745199024863), (4186, 0.004840399564727701), (1281, 0.004826281817732216), (3130, 0.004823936290763955), (3953, 0.004811125523906194), (4044, 0.004797810860316324), (4447, 0.0047973303204600646), (2424, 0.004792849979280218), (3247, 0.004782372010801787), (632, 0.004779029363326446), (804, 0.004755937060174643), (3556, 0.004727959526381232), (1154, 0.004713148081150241), (1977, 0.004707975384652942), (333, 0.004703369291990801), (4608, 0.004692390252542211), (1290, 0.004684596198497563), (92, 0.004653443863225702), (1348, 0.004605905021407825), (2971, 0.004600940487833232), (4429, 0.004591155099925866), (3339, 0.0045505607018786086), (621, 0.0044739135461325606), (4733, 0.004412049062241808), (1092, 0.004407374107867262), (2227, 0.004393865090803092), (2913, 0.004337157348208476), (76, 0.004314534991263949), (435, 0.0042877057192131475), (1576, 0.0042353661452484235), (3835, 0.00422549841400021), (2767, 0.004125373854917396), (3645, 0.0039856228466102605), (4445, 0.0039695800839847145), (4261, 0.003923106096772243), (542, 0.0037080290303428995), (1153, 0.0037074628234910947), (3429, 0.0035951681497900663), (475, 0.0024526982857853304), (4, 0.0), (5, 0.0), (8, 0.0), (13, 0.0), (16, 0.0), (21, 0.0), (26, 0.0), (30, 0.0), (31, 0.0), (42, 0.0), (47, 0.0), (49, 0.0), (51, 0.0), (52, 0.0), (66, 0.0), (70, 0.0), (77, 0.0), (98, 0.0), (99, 0.0), (100, 0.0), (103, 0.0), (111, 0.0), (114, 0.0), (115, 0.0), (120, 0.0), (121, 0.0), (126, 0.0), (129, 0.0), (133, 0.0), (134, 0.0), (140, 0.0), (145, 0.0), (146, 0.0), (149, 0.0), (154, 0.0), (157, 0.0), (163, 0.0), (172, 0.0), (176, 0.0), (178, 0.0), (190, 0.0), (194, 0.0), (196, 0.0), (198, 0.0), (200, 0.0), (203, 0.0), (205, 0.0), (213, 0.0), (224, 0.0), (227, 0.0), (229, 0.0), (235, 0.0), (236, 0.0), (245, 0.0), (246, 0.0), (254, 0.0), (255, 0.0), (256, 0.0), (265, 0.0), (267, 0.0), (268, 0.0), (270, 0.0), (274, 0.0), (275, 0.0), (276, 0.0), (278, 0.0), (281, 0.0), (285, 0.0), (304, 0.0), (308, 0.0), (311, 0.0), (312, 0.0), (318, 0.0), (325, 0.0), (326, 0.0), (331, 0.0), (351, 0.0), (360, 0.0), (366, 0.0), (370, 0.0), (373, 0.0), (376, 0.0), (377, 0.0), (378, 0.0), (383, 0.0), (384, 0.0), (391, 0.0), (393, 0.0), (396, 0.0), (398, 0.0), (399, 0.0), (405, 0.0), (422, 0.0), (423, 0.0), (429, 0.0), (431, 0.0), (438, 0.0), (444, 0.0), (447, 0.0), (453, 0.0), (459, 0.0), (462, 0.0), (466, 0.0), (471, 0.0), (473, 0.0), (474, 0.0), (476, 0.0), (478, 0.0), (479, 0.0), (481, 0.0), (485, 0.0), (487, 0.0), (488, 0.0), (499, 0.0), (503, 0.0), (505, 0.0), (506, 0.0), (509, 0.0), (518, 0.0), (520, 0.0), (526, 0.0), (531, 0.0), (535, 0.0), (536, 0.0), (543, 0.0), (544, 0.0), (552, 0.0), (556, 0.0), (557, 0.0), (559, 0.0), (563, 0.0), (564, 0.0), (571, 0.0), (576, 0.0), (578, 0.0), (579, 0.0), (580, 0.0), (581, 0.0), (584, 0.0), (587, 0.0), (593, 0.0), (596, 0.0), (598, 0.0), (605, 0.0), (606, 0.0), (611, 0.0), (617, 0.0), (622, 0.0), (623, 0.0), (624, 0.0), (625, 0.0), (626, 0.0), (633, 0.0), (634, 0.0), (636, 0.0), (638, 0.0), (642, 0.0), (645, 0.0), (646, 0.0), (647, 0.0), (649, 0.0), (652, 0.0), (655, 0.0), (663, 0.0), (667, 0.0), (679, 0.0), (693, 0.0), (694, 0.0), (695, 0.0), (696, 0.0), (698, 0.0), (702, 0.0), (707, 0.0), (708, 0.0), (709, 0.0), (711, 0.0), (730, 0.0), (735, 0.0), (739, 0.0), (741, 0.0), (743, 0.0), (750, 0.0), (755, 0.0), (760, 0.0), (761, 0.0), (771, 0.0), (772, 0.0), (777, 0.0), (783, 0.0), (784, 0.0), (786, 0.0), (796, 0.0), (797, 0.0), (799, 0.0), (801, 0.0), (806, 0.0), (816, 0.0), (823, 0.0), (828, 0.0), (831, 0.0), (837, 0.0), (839, 0.0), (855, 0.0), (857, 0.0), (860, 0.0), (865, 0.0), (873, 0.0), (876, 0.0), (877, 0.0), (879, 0.0), (886, 0.0), (889, 0.0), (892, 0.0), (896, 0.0), (901, 0.0), (910, 0.0), (917, 0.0), (922, 0.0), (925, 0.0), (927, 0.0), (932, 0.0), (933, 0.0), (937, 0.0), (939, 0.0), (941, 0.0), (942, 0.0), (944, 0.0), (950, 0.0), (955, 0.0), (959, 0.0), (964, 0.0), (967, 0.0), (969, 0.0), (972, 0.0), (976, 0.0), (983, 0.0), (985, 0.0), (987, 0.0), (989, 0.0), (998, 0.0), (999, 0.0), (1003, 0.0), (1004, 0.0), (1008, 0.0), (1026, 0.0), (1027, 0.0), (1032, 0.0), (1034, 0.0), (1036, 0.0), (1038, 0.0), (1040, 0.0), (1049, 0.0), (1053, 0.0), (1058, 0.0), (1061, 0.0), (1062, 0.0), (1064, 0.0), (1070, 0.0), (1072, 0.0), (1073, 0.0), (1078, 0.0), (1080, 0.0), (1081, 0.0), (1083, 0.0), (1086, 0.0), (1088, 0.0), (1093, 0.0), (1097, 0.0), (1098, 0.0), (1107, 0.0), (1117, 0.0), (1119, 0.0), (1121, 0.0), (1123, 0.0), (1139, 0.0), (1145, 0.0), (1147, 0.0), (1148, 0.0), (1149, 0.0), (1152, 0.0), (1158, 0.0), (1160, 0.0), (1161, 0.0), (1167, 0.0), (1169, 0.0), (1177, 0.0), (1180, 0.0), (1181, 0.0), (1187, 0.0), (1188, 0.0), (1189, 0.0), (1193, 0.0), (1201, 0.0), (1202, 0.0), (1203, 0.0), (1204, 0.0), (1205, 0.0), (1209, 0.0), (1213, 0.0), (1217, 0.0), (1235, 0.0), (1237, 0.0), (1248, 0.0), (1260, 0.0), (1264, 0.0), (1268, 0.0), (1286, 0.0), (1289, 0.0), (1294, 0.0), (1295, 0.0), (1298, 0.0), (1303, 0.0), (1311, 0.0), (1313, 0.0), (1318, 0.0), (1323, 0.0), (1330, 0.0), (1334, 0.0), (1340, 0.0), (1342, 0.0), (1353, 0.0), (1355, 0.0), (1356, 0.0), (1361, 0.0), (1362, 0.0), (1367, 0.0), (1391, 0.0), (1410, 0.0), (1415, 0.0), (1416, 0.0), (1424, 0.0), (1427, 0.0), (1428, 0.0), (1429, 0.0), (1433, 0.0), (1434, 0.0), (1438, 0.0), (1439, 0.0), (1441, 0.0), (1444, 0.0), (1445, 0.0), (1448, 0.0), (1449, 0.0), (1457, 0.0), (1462, 0.0), (1473, 0.0), (1479, 0.0), (1481, 0.0), (1485, 0.0), (1488, 0.0), (1489, 0.0), (1491, 0.0), (1497, 0.0), (1507, 0.0), (1508, 0.0), (1523, 0.0), (1528, 0.0), (1531, 0.0), (1532, 0.0), (1541, 0.0), (1542, 0.0), (1543, 0.0), (1549, 0.0), (1550, 0.0), (1557, 0.0), (1558, 0.0), (1561, 0.0), (1563, 0.0), (1573, 0.0), (1580, 0.0), (1582, 0.0), (1585, 0.0), (1589, 0.0), (1590, 0.0), (1593, 0.0), (1596, 0.0), (1609, 0.0), (1614, 0.0), (1618, 0.0), (1621, 0.0), (1622, 0.0), (1623, 0.0), (1624, 0.0), (1625, 0.0), (1628, 0.0), (1634, 0.0), (1635, 0.0), (1638, 0.0), (1639, 0.0), (1641, 0.0), (1646, 0.0), (1656, 0.0), (1661, 0.0), (1663, 0.0), (1667, 0.0), (1671, 0.0), (1674, 0.0), (1676, 0.0), (1677, 0.0), (1693, 0.0), (1694, 0.0), (1699, 0.0), (1703, 0.0), (1711, 0.0), (1717, 0.0), (1720, 0.0), (1722, 0.0), (1729, 0.0), (1739, 0.0), (1741, 0.0), (1744, 0.0), (1752, 0.0), (1753, 0.0), (1757, 0.0), (1759, 0.0), (1763, 0.0), (1765, 0.0), (1766, 0.0), (1767, 0.0), (1769, 0.0), (1775, 0.0), (1776, 0.0), (1777, 0.0), (1780, 0.0), (1783, 0.0), (1785, 0.0), (1792, 0.0), (1795, 0.0), (1800, 0.0), (1801, 0.0), (1803, 0.0), (1806, 0.0), (1819, 0.0), (1826, 0.0), (1830, 0.0), (1832, 0.0), (1834, 0.0), (1837, 0.0), (1838, 0.0), (1839, 0.0), (1842, 0.0), (1854, 0.0), (1856, 0.0), (1861, 0.0), (1862, 0.0), (1865, 0.0), (1866, 0.0), (1868, 0.0), (1869, 0.0), (1872, 0.0), (1874, 0.0), (1879, 0.0), (1880, 0.0), (1882, 0.0), (1884, 0.0), (1890, 0.0), (1891, 0.0), (1892, 0.0), (1900, 0.0), (1905, 0.0), (1909, 0.0), (1916, 0.0), (1917, 0.0), (1923, 0.0), (1927, 0.0), (1929, 0.0), (1938, 0.0), (1940, 0.0), (1944, 0.0), (1946, 0.0), (1947, 0.0), (1954, 0.0), (1956, 0.0), (1958, 0.0), (1959, 0.0), (1960, 0.0), (1962, 0.0), (1963, 0.0), (1966, 0.0), (1970, 0.0), (1972, 0.0), (1975, 0.0), (1978, 0.0), (1979, 0.0), (1980, 0.0), (1983, 0.0), (1991, 0.0), (2001, 0.0), (2002, 0.0), (2004, 0.0), (2007, 0.0), (2009, 0.0), (2026, 0.0), (2030, 0.0), (2035, 0.0), (2041, 0.0), (2042, 0.0), (2054, 0.0), (2057, 0.0), (2059, 0.0), (2063, 0.0), (2069, 0.0), (2080, 0.0), (2089, 0.0), (2090, 0.0), (2092, 0.0), (2099, 0.0), (2104, 0.0), (2105, 0.0), (2108, 0.0), (2111, 0.0), (2115, 0.0), (2120, 0.0), (2122, 0.0), (2123, 0.0), (2129, 0.0), (2132, 0.0), (2133, 0.0), (2137, 0.0), (2138, 0.0), (2140, 0.0), (2141, 0.0), (2142, 0.0), (2146, 0.0), (2149, 0.0), (2151, 0.0), (2152, 0.0), (2158, 0.0), (2159, 0.0), (2162, 0.0), (2163, 0.0), (2173, 0.0), (2176, 0.0), (2179, 0.0), (2186, 0.0), (2187, 0.0), (2189, 0.0), (2190, 0.0), (2191, 0.0), (2192, 0.0), (2194, 0.0), (2196, 0.0), (2200, 0.0), (2213, 0.0), (2214, 0.0), (2216, 0.0), (2219, 0.0), (2220, 0.0), (2226, 0.0), (2228, 0.0), (2231, 0.0), (2235, 0.0), (2248, 0.0), (2251, 0.0), (2254, 0.0), (2255, 0.0), (2257, 0.0), (2258, 0.0), (2261, 0.0), (2264, 0.0), (2266, 0.0), (2267, 0.0), (2270, 0.0), (2271, 0.0), (2273, 0.0), (2279, 0.0), (2281, 0.0), (2282, 0.0), (2284, 0.0), (2288, 0.0), (2289, 0.0), (2292, 0.0), (2293, 0.0), (2295, 0.0), (2300, 0.0), (2302, 0.0), (2304, 0.0), (2305, 0.0), (2307, 0.0), (2308, 0.0), (2312, 0.0), (2314, 0.0), (2323, 0.0), (2325, 0.0), (2328, 0.0), (2331, 0.0), (2333, 0.0), (2336, 0.0), (2341, 0.0), (2342, 0.0), (2343, 0.0), (2344, 0.0), (2346, 0.0), (2347, 0.0), (2349, 0.0), (2350, 0.0), (2355, 0.0), (2357, 0.0), (2358, 0.0), (2360, 0.0), (2362, 0.0), (2366, 0.0), (2368, 0.0), (2369, 0.0), (2370, 0.0), (2372, 0.0), (2373, 0.0), (2379, 0.0), (2380, 0.0), (2382, 0.0), (2388, 0.0), (2391, 0.0), (2392, 0.0), (2393, 0.0), (2394, 0.0), (2395, 0.0), (2397, 0.0), (2401, 0.0), (2405, 0.0), (2406, 0.0), (2407, 0.0), (2410, 0.0), (2419, 0.0), (2420, 0.0), (2423, 0.0), (2425, 0.0), (2434, 0.0), (2435, 0.0), (2438, 0.0), (2440, 0.0), (2448, 0.0), (2449, 0.0), (2453, 0.0), (2454, 0.0), (2457, 0.0), (2460, 0.0), (2462, 0.0), (2464, 0.0), (2466, 0.0), (2467, 0.0), (2471, 0.0), (2475, 0.0), (2477, 0.0), (2483, 0.0), (2484, 0.0), (2488, 0.0), (2489, 0.0), (2490, 0.0), (2496, 0.0), (2502, 0.0), (2508, 0.0), (2515, 0.0), (2516, 0.0), (2519, 0.0), (2520, 0.0), (2523, 0.0), (2528, 0.0), (2529, 0.0), (2533, 0.0), (2535, 0.0), (2536, 0.0), (2537, 0.0), (2538, 0.0), (2541, 0.0), (2542, 0.0), (2543, 0.0), (2548, 0.0), (2556, 0.0), (2558, 0.0), (2564, 0.0), (2570, 0.0), (2577, 0.0), (2578, 0.0), (2579, 0.0), (2580, 0.0), (2585, 0.0), (2589, 0.0), (2592, 0.0), (2593, 0.0), (2594, 0.0), (2595, 0.0), (2596, 0.0), (2597, 0.0), (2598, 0.0), (2599, 0.0), (2602, 0.0), (2604, 0.0), (2606, 0.0), (2613, 0.0), (2614, 0.0), (2618, 0.0), (2619, 0.0), (2620, 0.0), (2623, 0.0), (2624, 0.0), (2628, 0.0), (2629, 0.0), (2635, 0.0), (2639, 0.0), (2643, 0.0), (2644, 0.0), (2648, 0.0), (2649, 0.0), (2651, 0.0), (2655, 0.0), (2658, 0.0), (2661, 0.0), (2663, 0.0), (2664, 0.0), (2669, 0.0), (2678, 0.0), (2679, 0.0), (2681, 0.0), (2683, 0.0), (2684, 0.0), (2686, 0.0), (2687, 0.0), (2690, 0.0), (2693, 0.0), (2694, 0.0), (2695, 0.0), (2700, 0.0), (2701, 0.0), (2702, 0.0), (2703, 0.0), (2704, 0.0), (2705, 0.0), (2709, 0.0), (2716, 0.0), (2717, 0.0), (2723, 0.0), (2727, 0.0), (2728, 0.0), (2731, 0.0), (2735, 0.0), (2736, 0.0), (2745, 0.0), (2747, 0.0), (2748, 0.0), (2750, 0.0), (2752, 0.0), (2757, 0.0), (2760, 0.0), (2764, 0.0), (2770, 0.0), (2773, 0.0), (2775, 0.0), (2776, 0.0), (2779, 0.0), (2781, 0.0), (2783, 0.0), (2786, 0.0), (2794, 0.0), (2796, 0.0), (2797, 0.0), (2800, 0.0), (2802, 0.0), (2821, 0.0), (2823, 0.0), (2824, 0.0), (2827, 0.0), (2828, 0.0), (2832, 0.0), (2833, 0.0), (2835, 0.0), (2836, 0.0), (2838, 0.0), (2845, 0.0), (2846, 0.0), (2849, 0.0), (2851, 0.0), (2852, 0.0), (2856, 0.0), (2861, 0.0), (2863, 0.0), (2866, 0.0), (2870, 0.0), (2871, 0.0), (2872, 0.0), (2875, 0.0), (2876, 0.0), (2879, 0.0), (2883, 0.0), (2884, 0.0), (2886, 0.0), (2889, 0.0), (2890, 0.0), (2891, 0.0), (2893, 0.0), (2894, 0.0), (2896, 0.0), (2901, 0.0), (2905, 0.0), (2907, 0.0), (2909, 0.0), (2912, 0.0), (2914, 0.0), (2916, 0.0), (2923, 0.0), (2924, 0.0), (2925, 0.0), (2926, 0.0), (2928, 0.0), (2932, 0.0), (2934, 0.0), (2939, 0.0), (2941, 0.0), (2945, 0.0), (2946, 0.0), (2949, 0.0), (2952, 0.0), (2953, 0.0), (2961, 0.0), (2966, 0.0), (2967, 0.0), (2968, 0.0), (2970, 0.0), (2972, 0.0), (2973, 0.0), (2974, 0.0), (2978, 0.0), (2983, 0.0), (2984, 0.0), (2986, 0.0), (2987, 0.0), (2993, 0.0), (2994, 0.0), (2995, 0.0), (2997, 0.0), (2999, 0.0), (3000, 0.0), (3001, 0.0), (3005, 0.0), (3006, 0.0), (3012, 0.0), (3013, 0.0), (3014, 0.0), (3015, 0.0), (3016, 0.0), (3017, 0.0), (3019, 0.0), (3020, 0.0), (3021, 0.0), (3025, 0.0), (3026, 0.0), (3029, 0.0), (3030, 0.0), (3031, 0.0), (3032, 0.0), (3034, 0.0), (3035, 0.0), (3036, 0.0), (3037, 0.0), (3038, 0.0), (3040, 0.0), (3041, 0.0), (3042, 0.0), (3047, 0.0), (3048, 0.0), (3049, 0.0), (3050, 0.0), (3052, 0.0), (3054, 0.0), (3055, 0.0), (3061, 0.0), (3063, 0.0), (3068, 0.0), (3072, 0.0), (3074, 0.0), (3075, 0.0), (3077, 0.0), (3078, 0.0), (3080, 0.0), (3081, 0.0), (3082, 0.0), (3084, 0.0), (3086, 0.0), (3087, 0.0), (3088, 0.0), (3090, 0.0), (3092, 0.0), (3098, 0.0), (3104, 0.0), (3107, 0.0), (3110, 0.0), (3113, 0.0), (3116, 0.0), (3117, 0.0), (3118, 0.0), (3119, 0.0), (3120, 0.0), (3123, 0.0), (3128, 0.0), (3138, 0.0), (3139, 0.0), (3146, 0.0), (3147, 0.0), (3148, 0.0), (3153, 0.0), (3155, 0.0), (3158, 0.0), (3167, 0.0), (3170, 0.0), (3175, 0.0), (3176, 0.0), (3177, 0.0), (3178, 0.0), (3182, 0.0), (3183, 0.0), (3186, 0.0), (3187, 0.0), (3189, 0.0), (3190, 0.0), (3194, 0.0), (3195, 0.0), (3196, 0.0), (3197, 0.0), (3198, 0.0), (3204, 0.0), (3209, 0.0), (3212, 0.0), (3214, 0.0), (3216, 0.0), (3217, 0.0), (3219, 0.0), (3220, 0.0), (3224, 0.0), (3229, 0.0), (3236, 0.0), (3242, 0.0), (3243, 0.0), (3245, 0.0), (3248, 0.0), (3249, 0.0), (3250, 0.0), (3252, 0.0), (3255, 0.0), (3257, 0.0), (3258, 0.0), (3261, 0.0), (3262, 0.0), (3266, 0.0), (3268, 0.0), (3269, 0.0), (3273, 0.0), (3274, 0.0), (3278, 0.0), (3281, 0.0), (3285, 0.0), (3289, 0.0), (3290, 0.0), (3291, 0.0), (3292, 0.0), (3296, 0.0), (3298, 0.0), (3300, 0.0), (3301, 0.0), (3305, 0.0), (3307, 0.0), (3308, 0.0), (3313, 0.0), (3314, 0.0), (3315, 0.0), (3319, 0.0), (3322, 0.0), (3324, 0.0), (3325, 0.0), (3326, 0.0), (3331, 0.0), (3333, 0.0), (3334, 0.0), (3337, 0.0), (3341, 0.0), (3348, 0.0), (3349, 0.0), (3350, 0.0), (3351, 0.0), (3352, 0.0), (3357, 0.0), (3358, 0.0), (3359, 0.0), (3369, 0.0), (3370, 0.0), (3371, 0.0), (3372, 0.0), (3375, 0.0), (3379, 0.0), (3380, 0.0), (3381, 0.0), (3391, 0.0), (3396, 0.0), (3401, 0.0), (3402, 0.0), (3406, 0.0), (3413, 0.0), (3415, 0.0), (3417, 0.0), (3418, 0.0), (3422, 0.0), (3428, 0.0), (3431, 0.0), (3433, 0.0), (3434, 0.0), (3436, 0.0), (3437, 0.0), (3442, 0.0), (3449, 0.0), (3452, 0.0), (3455, 0.0), (3462, 0.0), (3471, 0.0), (3473, 0.0), (3474, 0.0), (3475, 0.0), (3476, 0.0), (3478, 0.0), (3479, 0.0), (3485, 0.0), (3487, 0.0), (3488, 0.0), (3489, 0.0), (3494, 0.0), (3497, 0.0), (3498, 0.0), (3499, 0.0), (3500, 0.0), (3501, 0.0), (3503, 0.0), (3505, 0.0), (3510, 0.0), (3511, 0.0), (3512, 0.0), (3519, 0.0), (3521, 0.0), (3523, 0.0), (3527, 0.0), (3529, 0.0), (3530, 0.0), (3533, 0.0), (3535, 0.0), (3537, 0.0), (3540, 0.0), (3542, 0.0), (3543, 0.0), (3544, 0.0), (3545, 0.0), (3547, 0.0), (3552, 0.0), (3561, 0.0), (3565, 0.0), (3570, 0.0), (3571, 0.0), (3572, 0.0), (3573, 0.0), (3575, 0.0), (3576, 0.0), (3580, 0.0), (3581, 0.0), (3583, 0.0), (3585, 0.0), (3601, 0.0), (3606, 0.0), (3607, 0.0), (3608, 0.0), (3611, 0.0), (3614, 0.0), (3615, 0.0), (3617, 0.0), (3620, 0.0), (3621, 0.0), (3622, 0.0), (3624, 0.0), (3625, 0.0), (3627, 0.0), (3631, 0.0), (3636, 0.0), (3640, 0.0), (3649, 0.0), (3652, 0.0), (3653, 0.0), (3659, 0.0), (3662, 0.0), (3663, 0.0), (3664, 0.0), (3666, 0.0), (3669, 0.0), (3670, 0.0), (3671, 0.0), (3672, 0.0), (3673, 0.0), (3675, 0.0), (3679, 0.0), (3682, 0.0), (3683, 0.0), (3686, 0.0), (3687, 0.0), (3688, 0.0), (3691, 0.0), (3694, 0.0), (3702, 0.0), (3705, 0.0), (3714, 0.0), (3716, 0.0), (3717, 0.0), (3719, 0.0), (3721, 0.0), (3725, 0.0), (3727, 0.0), (3729, 0.0), (3737, 0.0), (3740, 0.0), (3749, 0.0), (3753, 0.0), (3755, 0.0), (3756, 0.0), (3757, 0.0), (3758, 0.0), (3760, 0.0), (3761, 0.0), (3763, 0.0), (3764, 0.0), (3766, 0.0), (3769, 0.0), (3770, 0.0), (3772, 0.0), (3774, 0.0), (3779, 0.0), (3789, 0.0), (3791, 0.0), (3792, 0.0), (3793, 0.0), (3796, 0.0), (3799, 0.0), (3800, 0.0), (3804, 0.0), (3808, 0.0), (3809, 0.0), (3811, 0.0), (3813, 0.0), (3815, 0.0), (3827, 0.0), (3828, 0.0), (3830, 0.0), (3832, 0.0), (3833, 0.0), (3836, 0.0), (3837, 0.0), (3838, 0.0), (3842, 0.0), (3843, 0.0), (3848, 0.0), (3851, 0.0), (3853, 0.0), (3861, 0.0), (3863, 0.0), (3867, 0.0), (3872, 0.0), (3874, 0.0), (3876, 0.0), (3879, 0.0), (3882, 0.0), (3883, 0.0), (3885, 0.0), (3887, 0.0), (3888, 0.0), (3892, 0.0), (3893, 0.0), (3895, 0.0), (3896, 0.0), (3898, 0.0), (3899, 0.0), (3900, 0.0), (3902, 0.0), (3905, 0.0), (3906, 0.0), (3910, 0.0), (3911, 0.0), (3912, 0.0), (3915, 0.0), (3918, 0.0), (3922, 0.0), (3925, 0.0), (3929, 0.0), (3931, 0.0), (3934, 0.0), (3935, 0.0), (3936, 0.0), (3938, 0.0), (3941, 0.0), (3943, 0.0), (3945, 0.0), (3949, 0.0), (3952, 0.0), (3956, 0.0), (3961, 0.0), (3962, 0.0), (3964, 0.0), (3967, 0.0), (3971, 0.0), (3974, 0.0), (3975, 0.0), (3976, 0.0), (3981, 0.0), (3984, 0.0), (3985, 0.0), (3987, 0.0), (3988, 0.0), (3990, 0.0), (3996, 0.0), (3999, 0.0), (4003, 0.0), (4004, 0.0), (4010, 0.0), (4014, 0.0), (4017, 0.0), (4018, 0.0), (4021, 0.0), (4022, 0.0), (4024, 0.0), (4026, 0.0), (4027, 0.0), (4028, 0.0), (4029, 0.0), (4030, 0.0), (4042, 0.0), (4043, 0.0), (4048, 0.0), (4049, 0.0), (4050, 0.0), (4053, 0.0), (4054, 0.0), (4058, 0.0), (4060, 0.0), (4063, 0.0), (4065, 0.0), (4066, 0.0), (4067, 0.0), (4072, 0.0), (4073, 0.0), (4075, 0.0), (4079, 0.0), (4080, 0.0), (4082, 0.0), (4083, 0.0), (4084, 0.0), (4085, 0.0), (4090, 0.0), (4092, 0.0), (4096, 0.0), (4102, 0.0), (4104, 0.0), (4105, 0.0), (4111, 0.0), (4113, 0.0), (4123, 0.0), (4126, 0.0), (4127, 0.0), (4129, 0.0), (4132, 0.0), (4138, 0.0), (4139, 0.0), (4140, 0.0), (4146, 0.0), (4147, 0.0), (4149, 0.0), (4151, 0.0), (4154, 0.0), (4159, 0.0), (4161, 0.0), (4162, 0.0), (4163, 0.0), (4166, 0.0), (4169, 0.0), (4170, 0.0), (4172, 0.0), (4173, 0.0), (4178, 0.0), (4179, 0.0), (4183, 0.0), (4187, 0.0), (4190, 0.0), (4197, 0.0), (4204, 0.0), (4207, 0.0), (4208, 0.0), (4212, 0.0), (4213, 0.0), (4214, 0.0), (4215, 0.0), (4216, 0.0), (4219, 0.0), (4225, 0.0), (4227, 0.0), (4228, 0.0), (4229, 0.0), (4230, 0.0), (4231, 0.0), (4232, 0.0), (4234, 0.0), (4235, 0.0), (4243, 0.0), (4246, 0.0), (4250, 0.0), (4251, 0.0), (4253, 0.0), (4258, 0.0), (4259, 0.0), (4260, 0.0), (4263, 0.0), (4273, 0.0), (4275, 0.0), (4277, 0.0), (4278, 0.0), (4280, 0.0), (4287, 0.0), (4291, 0.0), (4295, 0.0), (4296, 0.0), (4298, 0.0), (4299, 0.0), (4301, 0.0), (4302, 0.0), (4304, 0.0), (4306, 0.0), (4307, 0.0), (4308, 0.0), (4309, 0.0), (4311, 0.0), (4313, 0.0), (4314, 0.0), (4315, 0.0), (4316, 0.0), (4317, 0.0), (4318, 0.0), (4321, 0.0), (4326, 0.0), (4331, 0.0), (4333, 0.0), (4335, 0.0), (4340, 0.0), (4343, 0.0), (4349, 0.0), (4350, 0.0), (4357, 0.0), (4358, 0.0), (4360, 0.0), (4361, 0.0), (4362, 0.0), (4365, 0.0), (4370, 0.0), (4372, 0.0), (4377, 0.0), (4381, 0.0), (4383, 0.0), (4386, 0.0), (4389, 0.0), (4397, 0.0), (4398, 0.0), (4400, 0.0), (4407, 0.0), (4408, 0.0), (4411, 0.0), (4412, 0.0), (4413, 0.0), (4416, 0.0), (4417, 0.0), (4420, 0.0), (4421, 0.0), (4423, 0.0), (4424, 0.0), (4425, 0.0), (4426, 0.0), (4427, 0.0), (4433, 0.0), (4434, 0.0), (4437, 0.0), (4446, 0.0), (4451, 0.0), (4452, 0.0), (4458, 0.0), (4464, 0.0), (4465, 0.0), (4469, 0.0), (4470, 0.0), (4471, 0.0), (4475, 0.0), (4476, 0.0), (4479, 0.0), (4480, 0.0), (4484, 0.0), (4485, 0.0), (4488, 0.0), (4489, 0.0), (4494, 0.0), (4495, 0.0), (4496, 0.0), (4497, 0.0), (4499, 0.0), (4500, 0.0), (4502, 0.0), (4505, 0.0), (4506, 0.0), (4507, 0.0), (4508, 0.0), (4510, 0.0), (4514, 0.0), (4518, 0.0), (4520, 0.0), (4522, 0.0), (4525, 0.0), (4527, 0.0), (4528, 0.0), (4529, 0.0), (4530, 0.0), (4532, 0.0), (4537, 0.0), (4538, 0.0), (4539, 0.0), (4540, 0.0), (4544, 0.0), (4545, 0.0), (4546, 0.0), (4547, 0.0), (4555, 0.0), (4556, 0.0), (4559, 0.0), (4560, 0.0), (4561, 0.0), (4562, 0.0), (4563, 0.0), (4565, 0.0), (4567, 0.0), (4572, 0.0), (4574, 0.0), (4575, 0.0), (4577, 0.0), (4578, 0.0), (4579, 0.0), (4580, 0.0), (4582, 0.0), (4583, 0.0), (4584, 0.0), (4585, 0.0), (4598, 0.0), (4599, 0.0), (4614, 0.0), (4615, 0.0), (4616, 0.0), (4617, 0.0), (4618, 0.0), (4622, 0.0), (4623, 0.0), (4625, 0.0), (4627, 0.0), (4628, 0.0), (4632, 0.0), (4636, 0.0), (4637, 0.0), (4638, 0.0), (4639, 0.0), (4641, 0.0), (4644, 0.0), (4645, 0.0), (4648, 0.0), (4650, 0.0), (4651, 0.0), (4654, 0.0), (4655, 0.0), (4657, 0.0), (4667, 0.0), (4668, 0.0), (4670, 0.0), (4671, 0.0), (4672, 0.0), (4675, 0.0), (4677, 0.0), (4681, 0.0), (4683, 0.0), (4691, 0.0), (4693, 0.0), (4694, 0.0), (4696, 0.0), (4697, 0.0), (4699, 0.0), (4700, 0.0), (4704, 0.0), (4706, 0.0), (4707, 0.0), (4710, 0.0), (4711, 0.0), (4712, 0.0), (4713, 0.0), (4714, 0.0), (4715, 0.0), (4717, 0.0), (4718, 0.0), (4719, 0.0), (4720, 0.0), (4724, 0.0), (4729, 0.0), (4730, 0.0), (4731, 0.0), (4734, 0.0), (4735, 0.0), (4737, 0.0), (4740, 0.0), (4746, 0.0), (4749, 0.0), (4750, 0.0), (4751, 0.0), (4753, 0.0), (4756, 0.0), (4757, 0.0), (4758, 0.0), (4759, 0.0)]\n"
          ]
        }
      ]
    },
    {
      "cell_type": "code",
      "source": [
        "print('Top 30 Movies Suggested for you : \\n')\n",
        "\n",
        "i = 1\n",
        "\n",
        "for movie in Sorted_Similar_Movies:\n",
        "  index = movie[0]\n",
        "  title_from_index = df[df.index == index]['Movie_Title'].values[0]\n",
        "  if (i < 31):\n",
        "    print(i, '.', title_from_index)\n",
        "    i += 1"
      ],
      "metadata": {
        "colab": {
          "base_uri": "https://localhost:8080/"
        },
        "id": "T7eaXXm31hKG",
        "outputId": "2f08e323-30f9-4148-ce14-b917ffb4f8d7"
      },
      "execution_count": null,
      "outputs": [
        {
          "output_type": "stream",
          "name": "stdout",
          "text": [
            "Top 30 Movies Suggested for you : \n",
            "\n",
            "1 . The Forbidden Kingdom\n",
            "2 . The Mummy: Tomb of the Dragon Emperor\n",
            "3 . Resident Evil: Retribution\n",
            "4 . The Warlords\n",
            "5 . Lethal Weapon 4\n",
            "6 . The One\n",
            "7 . War\n",
            "8 . Unleashed\n",
            "9 . Snow Flower and the Secret Fan\n",
            "10 . Kiss of the Dragon\n",
            "11 . Warriors of Virtue\n",
            "12 . Curse of the Golden Flower\n",
            "13 . The Medallion\n",
            "14 . Kung Fu Panda\n",
            "15 . Cradle 2 the Grave\n",
            "16 . Shanghai Noon\n",
            "17 . Gods of Egypt\n",
            "18 . Stuart Little\n",
            "19 . The Monkey King 2\n",
            "20 . Hero\n",
            "21 . The Legend of Drunken Master\n",
            "22 . Young Sherlock Holmes\n",
            "23 . Without a Paddle\n",
            "24 . Dragon Blade\n",
            "25 . Superman IV: The Quest for Peace\n",
            "26 . Romeo Must Die\n",
            "27 . Shinjuku Incident\n",
            "28 . Rush Hour 3\n",
            "29 . Stuart Little 2\n",
            "30 . Kung Fu Panda 2\n"
          ]
        }
      ]
    },
    {
      "cell_type": "markdown",
      "source": [
        "## **Top IO Movie Recommendation System**"
      ],
      "metadata": {
        "id": "cIhyseNria7W"
      }
    },
    {
      "cell_type": "code",
      "source": [
        "Movie_Name = input(' Enter your favourite movie name : ')\n",
        "\n",
        "list_of_all_titles = df['Movie_Title'].tolist()\n",
        "\n",
        "Find_Close_Match = difflib.get_close_matches(Movie_Name, list_of_all_titles)\n",
        "\n",
        "Close_Match = Find_Close_Match[0]\n",
        "\n",
        "Index_of_Movie = df[df.Movie_Title == Close_Match]['Movie_ID'].values[0]\n",
        "\n",
        "Recommendation_Score = list(enumerate(Similarity_Score[Index_of_Movie]))\n",
        "\n",
        "sorted_similar_movies = sorted(Recommendation_Score, key = lambda x:x[1], reverse = True)\n",
        "\n",
        "print('Top 10 Movies suggested for you : \\n')\n",
        "\n",
        "i = 1\n",
        "\n",
        "for movie in sorted_similar_movies:\n",
        "  index = movie[0]\n",
        "  title_from_index = df[df.Movie_ID == index]['Movie_Title'].values\n",
        "  if (i < 11):\n",
        "    print(i, '.', title_from_index)\n",
        "    i += 1"
      ],
      "metadata": {
        "id": "Toq58wpkjCw7",
        "colab": {
          "base_uri": "https://localhost:8080/"
        },
        "outputId": "52fa8a59-eb0c-418b-b21b-9025a7f9a7b4"
      },
      "execution_count": null,
      "outputs": [
        {
          "output_type": "stream",
          "name": "stdout",
          "text": [
            " Enter your favourite movie name : Iron Man\n",
            "Top 10 Movies suggested for you : \n",
            "\n",
            "1 . ['Iron Man']\n",
            "2 . ['The Mummy Returns']\n",
            "3 . ['Fascination']\n",
            "4 . ['Out Cold']\n",
            "5 . ['Lethal Weapon 3']\n",
            "6 . ['Robin and Marian']\n",
            "7 . ['Hackers']\n",
            "8 . ['Just My Luck']\n",
            "9 . ['Snow White and the Huntsman']\n",
            "10 . ['The Time Machine']\n"
          ]
        }
      ]
    },
    {
      "cell_type": "markdown",
      "source": [
        "## **Explanation**"
      ],
      "metadata": {
        "id": "SBo38CJZjlEX"
      }
    },
    {
      "cell_type": "markdown",
      "source": [
        "**Overview**\n",
        "\n",
        "A movie recommendation system aims to suggest movies to users based on their preferences. The approach used in this notebook involves content-based filtering, which recommends movies similar to those a user has liked in the past based on specific attributes like genres, director, actors, and language.\n",
        "\n",
        "**Steps Involved**\n",
        "\n",
        "**Data Loading:**\n",
        "\n",
        "The first step is to load the dataset containing information about various movies. This dataset includes columns like movie titles, genres, directors, actors, and language.\n",
        "\n",
        "**Data Preprocessing:**\n",
        "\n",
        "Handling Missing Values: Some entries in the dataset might have missing values. These missing values are filled with empty strings to avoid issues during processing.\n",
        "Combining Features: The selected features (genres, director, actors, language) are combined into a single string for each movie. This combined string represents all the relevant information about a movie in a single text.\n",
        "\n",
        "**Text Vectorization:**\n",
        "\n",
        "TF-IDF Vectorizer: The combined text features are converted into numerical format using a technique called TF-IDF (Term Frequency-Inverse Document Frequency). This technique transforms the text data into vectors where each dimension represents the importance of a word in the overall dataset. This helps in understanding the significance of words and their occurrence in different movies.\n",
        "\n",
        "**Similarity Calculation:**\n",
        "\n",
        "Cosine Similarity: Once the text data is vectorized, the cosine similarity metric is used to measure the similarity between the vectors of different movies. Cosine similarity calculates the cosine of the angle between two vectors, providing a value between -1 and 1. In this context, a value closer to 1 indicates higher similarity between two movies.\n",
        "\n",
        "**Movie Recommendation:**\n",
        "\n",
        "User Input: The user inputs the name of their favorite movie.\n",
        "Finding Close Matches: To handle minor spelling mistakes or variations in the input movie title, a technique from the difflib library is used to find the closest match to the input movie title from the list of all movie titles.\n",
        "\n",
        "Fetching Recommendations: The index of the closely matched movie is used to find its similarity score with all other movies. These similarity scores are then sorted in descending order to identify the top similar movies.\n",
        "\n",
        "Displaying Recommendations: The top N similar movies (in this case, 10) are displayed to the user as recommendations.\n",
        "\n",
        "**Key Concepts**\n",
        "\n",
        "**TF-IDF (Term Frequency-Inverse Document Frequency):**\n",
        "\n",
        "Term Frequency (TF): Measures how frequently a term appears in a document.\n",
        "\n",
        "Inverse Document Frequency (IDF): Measures how important a term is by considering the number of documents in which it appears.\n",
        "\n",
        "TF-IDF Score: The product of TF and IDF, indicating the importance of a term in a specific document relative to the entire corpus.\n",
        "\n",
        "**Cosine Similarity:**\n",
        "\n",
        "A metric used to measure how similar two documents (or vectors) are, irrespective of their size. It calculates the cosine of the angle between two vectors. If the vectors are identical, the cosine similarity will be 1; if they are orthogonal (completely dissimilar), it will be 0.\n",
        "\n",
        "**Benefits and Limitations**\n",
        "\n",
        "**Benefits:**\n",
        "\n",
        "Personalized Recommendations: Provides recommendations based on individual user preferences.\n",
        "\n",
        "No Need for Extensive User Data: Does not require historical user data or extensive user interaction history.\n",
        "\n",
        "**Limitations:**\n",
        "\n",
        "Content Dependency: Only works well if the content (features) of the items are well-defined and descriptive.\n",
        "\n",
        "Cold Start Problem: Struggles with recommending new movies that lack sufficient descriptive content.\n",
        "\n",
        "Limited Scope: Cannot recommend movies outside the scope of the defined content features (genres, director, etc.).\n",
        "\n",
        "**Conclusion**\n",
        "\n",
        "The movie recommendation system in this notebook provides a practical approach to suggesting movies based on user preferences using content-based filtering. By combining text features, transforming them into numerical vectors, and calculating similarities, the system efficiently identifies and recommends movies similar to the user's favorite ones."
      ],
      "metadata": {
        "id": "Ybi8FR9Kjv00"
      }
    }
  ]
}